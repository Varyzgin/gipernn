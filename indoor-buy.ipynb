{
 "cells": [
  {
   "cell_type": "code",
   "execution_count": 1,
   "metadata": {},
   "outputs": [],
   "source": [
    "import requests\n",
    "import time\n",
    "import re\n",
    "import openpyxl\n",
    "import pandas as pd\n",
    "import numpy as np\n",
    "from tqdm import tqdm\n",
    "from bs4 import BeautifulSoup\n",
    "from datetime import date"
   ]
  },
  {
   "cell_type": "code",
   "execution_count": 2,
   "metadata": {},
   "outputs": [],
   "source": [
    "GLOBAL = 'https://www.gipernn.ru'\n",
    "LINK = 'https://www.gipernn.ru/prodazha-pomescheniy?per-page=50'"
   ]
  },
  {
   "cell_type": "markdown",
   "metadata": {},
   "source": [
    "Добыча колличества ссылок"
   ]
  },
  {
   "cell_type": "code",
   "execution_count": 3,
   "metadata": {},
   "outputs": [
    {
     "name": "stdout",
     "output_type": "stream",
     "text": [
      "465\n"
     ]
    }
   ],
   "source": [
    "html = requests.get(LINK)\n",
    "soup = BeautifulSoup(html.text, 'html.parser')\n",
    "count = soup.find('div', class_='count')\n",
    "\n",
    "count = int(count.text.split(':')[1].strip())\n",
    "page_count = int(np.ceil(count / 50))\n",
    "\n",
    "print(count)"
   ]
  },
  {
   "cell_type": "markdown",
   "metadata": {},
   "source": [
    "Составляем массив ссылок"
   ]
  },
  {
   "cell_type": "code",
   "execution_count": 4,
   "metadata": {},
   "outputs": [
    {
     "name": "stderr",
     "output_type": "stream",
     "text": [
      "100%|##########| 11/11 [00:03<00:00,  3.01it/s]"
     ]
    },
    {
     "name": "stdout",
     "output_type": "stream",
     "text": [
      "439\n"
     ]
    },
    {
     "name": "stderr",
     "output_type": "stream",
     "text": [
      "\n"
     ]
    }
   ],
   "source": [
    "links = []\n",
    "for page in tqdm(range(page_count + 1), ascii=True):\n",
    "    html = requests.get(f\"{LINK}&page={page}\")\n",
    "    soup = BeautifulSoup(html.text, 'html.parser')\n",
    "    trs = soup.find('tbody').find_all('tr')\n",
    "    for tr in trs:\n",
    "        link = tr.find('a')\n",
    "        if link:\n",
    "            link = link.get('href')\n",
    "            link = GLOBAL + link\n",
    "            links.append(link)\n",
    "    links = list(set(links))\n",
    "print(len(links))   \n"
   ]
  },
  {
   "cell_type": "markdown",
   "metadata": {},
   "source": [
    "Составление своей базы данных"
   ]
  },
  {
   "cell_type": "code",
   "execution_count": 5,
   "metadata": {},
   "outputs": [
    {
     "name": "stderr",
     "output_type": "stream",
     "text": [
      "100%|##########| 439/439 [01:56<00:00,  3.78it/s]\n"
     ]
    }
   ],
   "source": [
    "df = pd.DataFrame()\n",
    "for link in tqdm(links, ascii=True):\n",
    "    html = requests.get(link)\n",
    "    soup = BeautifulSoup(html.text, 'html.parser')\n",
    "\n",
    "    tmp = {} # словарь для временных данных\n",
    "    tmp['Ссылка'] = link\n",
    "\n",
    "    header = soup.find('h1')\n",
    "    if header:\n",
    "        header = header.text.strip().replace('\\xa0', ' ')\n",
    "    tmp['Заголовок'] = header\n",
    "\n",
    "    price = soup.find('div', class_ = 'price')\n",
    "    if price:\n",
    "        price = price.text.replace('\\xa0', ' ').strip().split('  ')\n",
    "    tmp['Цена'] = price\n",
    "\n",
    "    description = soup.find('div', class_='formatted-text')\n",
    "    if description:\n",
    "        description = description.text.strip().replace('\\xa0', ' ')\n",
    "    tmp['Описание'] = description\n",
    "    \n",
    "    try:\n",
    "        w0 = soup.find('table', id = 'w0')\n",
    "        if w0:\n",
    "            w0 = w0.find_all('tr')\n",
    "            for tr in w0:\n",
    "                key = tr.find('th').text.strip()\n",
    "                val = tr.find('td').text.strip()\n",
    "                tmp[key] = val\n",
    "    except:\n",
    "        print('w0 not found')\n",
    " \n",
    "    try:\n",
    "        w2 = soup.find('table', id = 'w2')\n",
    "        if w2:\n",
    "            w2 = w2.find_all('tr')\n",
    "            for tr in w2:\n",
    "                key = tr.find('th').text.strip()\n",
    "                val = tr.find('td').text.strip()\n",
    "                if key not in tmp.keys(): # записи в 2х таблицах могут \n",
    "                    tmp[key] = val # пересекаться, а зачем нам копии?\n",
    "    except:\n",
    "        print('w2 not found')\n",
    "\n",
    "    try:\n",
    "        properties = soup.find('div', class_ = 'properties m-t-2')\n",
    "        if properties:\n",
    "            properties = properties.find_all('div', class_ = 'property')\n",
    "            for property in properties:\n",
    "                key = property.find('div', class_ = 'property-name').text.strip()\n",
    "                val = property.find('div', class_ = 'property-value').text.strip()\n",
    "                if key not in tmp.keys(): # записи в 2х таблицах могут \n",
    "                    tmp[key] = val # пересекаться, а зачем нам копии?\n",
    "    except:\n",
    "        print('properties m-t-2 not found')\n",
    "    \n",
    "    try:\n",
    "        buildings = soup.find('div', 'around').find_all('div', 'group')\n",
    "        for building in buildings:\n",
    "            name = building.find('div','group-body').find('span').text\n",
    "            dist = building.find('div','group-body').find('div', 'company').find('span', 'company__distance').text\n",
    "            tmp[name] = dist   \n",
    "    except:\n",
    "        pass\n",
    "\n",
    "    df = pd.concat([df, pd.DataFrame(tmp)], ignore_index=True)\n",
    "\n",
    "df['Источник'] = 'gipernn'\n",
    "df['Сегмент'] = 'Комерческая недвижимость'\n",
    "df['Подсегмент'] = 'Покупка помещений'\n",
    "df['Город'] = 'Нижний Новгород'\n",
    "df['Дата парсинга'] = str(date.today())"
   ]
  },
  {
   "attachments": {},
   "cell_type": "markdown",
   "metadata": {},
   "source": [
    "Посмотрим на результаты вкрадце"
   ]
  },
  {
   "cell_type": "code",
   "execution_count": 6,
   "metadata": {},
   "outputs": [
    {
     "data": {
      "text/html": [
       "<div>\n",
       "<style scoped>\n",
       "    .dataframe tbody tr th:only-of-type {\n",
       "        vertical-align: middle;\n",
       "    }\n",
       "\n",
       "    .dataframe tbody tr th {\n",
       "        vertical-align: top;\n",
       "    }\n",
       "\n",
       "    .dataframe thead th {\n",
       "        text-align: right;\n",
       "    }\n",
       "</style>\n",
       "<table border=\"1\" class=\"dataframe\">\n",
       "  <thead>\n",
       "    <tr style=\"text-align: right;\">\n",
       "      <th></th>\n",
       "      <th>Ссылка</th>\n",
       "      <th>Заголовок</th>\n",
       "      <th>Цена</th>\n",
       "      <th>Описание</th>\n",
       "      <th>№</th>\n",
       "      <th>Район</th>\n",
       "      <th>Адрес</th>\n",
       "      <th>Площадь</th>\n",
       "      <th>Этаж / этажность</th>\n",
       "      <th>Высота потолков</th>\n",
       "      <th>...</th>\n",
       "      <th>Интернет</th>\n",
       "      <th>Торг уместен</th>\n",
       "      <th>Телефон</th>\n",
       "      <th>Мебель</th>\n",
       "      <th>Этажность</th>\n",
       "      <th>Источник</th>\n",
       "      <th>Сегмент</th>\n",
       "      <th>Подсегмент</th>\n",
       "      <th>Город</th>\n",
       "      <th>Дата парсинга</th>\n",
       "    </tr>\n",
       "  </thead>\n",
       "  <tbody>\n",
       "    <tr>\n",
       "      <th>0</th>\n",
       "      <td>https://www.gipernn.ru/prodazha-pomescheniy/ul...</td>\n",
       "      <td>Продажа помещения на ул. Родионова, д. 192Ниже...</td>\n",
       "      <td>39 999 999 руб.</td>\n",
       "      <td>Продам офисный блок  в Бизнесцентре на улице Р...</td>\n",
       "      <td>2860084</td>\n",
       "      <td>Нижегородский</td>\n",
       "      <td>ул. Родионова, д. 192</td>\n",
       "      <td>815 м²</td>\n",
       "      <td>2 / 9</td>\n",
       "      <td>Уточнить</td>\n",
       "      <td>...</td>\n",
       "      <td>NaN</td>\n",
       "      <td>NaN</td>\n",
       "      <td>NaN</td>\n",
       "      <td>NaN</td>\n",
       "      <td>NaN</td>\n",
       "      <td>gipernn</td>\n",
       "      <td>Комерческая недвижимость</td>\n",
       "      <td>Покупка помещений</td>\n",
       "      <td>Нижний Новгород</td>\n",
       "      <td>2022-12-22</td>\n",
       "    </tr>\n",
       "    <tr>\n",
       "      <th>1</th>\n",
       "      <td>https://www.gipernn.ru/prodazha-pomescheniy/ul...</td>\n",
       "      <td>Продажа помещения на ул. Максима Горького, д. ...</td>\n",
       "      <td>30 000 000 руб.</td>\n",
       "      <td>Продаю нежилое помещение.\\n\\nАдрес: Нижний Нов...</td>\n",
       "      <td>2788351</td>\n",
       "      <td>Нижегородский</td>\n",
       "      <td>ул. Максима Горького, д. 152А</td>\n",
       "      <td>265,7 м²</td>\n",
       "      <td>1 / 9</td>\n",
       "      <td>Уточнить</td>\n",
       "      <td>...</td>\n",
       "      <td>NaN</td>\n",
       "      <td>NaN</td>\n",
       "      <td>NaN</td>\n",
       "      <td>NaN</td>\n",
       "      <td>NaN</td>\n",
       "      <td>gipernn</td>\n",
       "      <td>Комерческая недвижимость</td>\n",
       "      <td>Покупка помещений</td>\n",
       "      <td>Нижний Новгород</td>\n",
       "      <td>2022-12-22</td>\n",
       "    </tr>\n",
       "    <tr>\n",
       "      <th>2</th>\n",
       "      <td>https://www.gipernn.ru/prodazha-pomescheniy/ul...</td>\n",
       "      <td>Продажа помещения на ул. Верхнепечёрская, д. 7...</td>\n",
       "      <td>80 000 000 руб.</td>\n",
       "      <td>Здание приносит аренду 700 тыс.руб. Три стабил...</td>\n",
       "      <td>2802080</td>\n",
       "      <td>Нижегородский</td>\n",
       "      <td>ул. Верхнепечёрская, д. 7Д</td>\n",
       "      <td>928,4 м²</td>\n",
       "      <td>2 / 2</td>\n",
       "      <td>3 м</td>\n",
       "      <td>...</td>\n",
       "      <td>NaN</td>\n",
       "      <td>NaN</td>\n",
       "      <td>NaN</td>\n",
       "      <td>NaN</td>\n",
       "      <td>NaN</td>\n",
       "      <td>gipernn</td>\n",
       "      <td>Комерческая недвижимость</td>\n",
       "      <td>Покупка помещений</td>\n",
       "      <td>Нижний Новгород</td>\n",
       "      <td>2022-12-22</td>\n",
       "    </tr>\n",
       "    <tr>\n",
       "      <th>3</th>\n",
       "      <td>https://www.gipernn.ru/prodazha-pomescheniy/ul...</td>\n",
       "      <td>Продажа помещения на ул. Памирская, д. 11Ленин...</td>\n",
       "      <td>66 000 000 руб.</td>\n",
       "      <td>Ленинский район, улица Памирская, Баумана, Кос...</td>\n",
       "      <td>2867942</td>\n",
       "      <td>Ленинский</td>\n",
       "      <td>ул. Памирская, д. 11</td>\n",
       "      <td>2 200 м²</td>\n",
       "      <td>1 / 4</td>\n",
       "      <td>Уточнить</td>\n",
       "      <td>...</td>\n",
       "      <td>NaN</td>\n",
       "      <td>NaN</td>\n",
       "      <td>NaN</td>\n",
       "      <td>NaN</td>\n",
       "      <td>NaN</td>\n",
       "      <td>gipernn</td>\n",
       "      <td>Комерческая недвижимость</td>\n",
       "      <td>Покупка помещений</td>\n",
       "      <td>Нижний Новгород</td>\n",
       "      <td>2022-12-22</td>\n",
       "    </tr>\n",
       "    <tr>\n",
       "      <th>4</th>\n",
       "      <td>https://www.gipernn.ru/prodazha-pomescheniy/ul...</td>\n",
       "      <td>Продажа помещения на ул. Максима Горького, д. ...</td>\n",
       "      <td>3 500 000 руб.</td>\n",
       "      <td>Отличное местоположение, Центр города, подвал,...</td>\n",
       "      <td>2862279</td>\n",
       "      <td>Нижегородский</td>\n",
       "      <td>ул. Максима Горького, д. 232</td>\n",
       "      <td>84 м²</td>\n",
       "      <td>-1 / 10</td>\n",
       "      <td>Уточнить</td>\n",
       "      <td>...</td>\n",
       "      <td>NaN</td>\n",
       "      <td>NaN</td>\n",
       "      <td>NaN</td>\n",
       "      <td>NaN</td>\n",
       "      <td>NaN</td>\n",
       "      <td>gipernn</td>\n",
       "      <td>Комерческая недвижимость</td>\n",
       "      <td>Покупка помещений</td>\n",
       "      <td>Нижний Новгород</td>\n",
       "      <td>2022-12-22</td>\n",
       "    </tr>\n",
       "  </tbody>\n",
       "</table>\n",
       "<p>5 rows × 30 columns</p>\n",
       "</div>"
      ],
      "text/plain": [
       "                                              Ссылка  \\\n",
       "0  https://www.gipernn.ru/prodazha-pomescheniy/ul...   \n",
       "1  https://www.gipernn.ru/prodazha-pomescheniy/ul...   \n",
       "2  https://www.gipernn.ru/prodazha-pomescheniy/ul...   \n",
       "3  https://www.gipernn.ru/prodazha-pomescheniy/ul...   \n",
       "4  https://www.gipernn.ru/prodazha-pomescheniy/ul...   \n",
       "\n",
       "                                           Заголовок             Цена  \\\n",
       "0  Продажа помещения на ул. Родионова, д. 192Ниже...  39 999 999 руб.   \n",
       "1  Продажа помещения на ул. Максима Горького, д. ...  30 000 000 руб.   \n",
       "2  Продажа помещения на ул. Верхнепечёрская, д. 7...  80 000 000 руб.   \n",
       "3  Продажа помещения на ул. Памирская, д. 11Ленин...  66 000 000 руб.   \n",
       "4  Продажа помещения на ул. Максима Горького, д. ...   3 500 000 руб.   \n",
       "\n",
       "                                            Описание        №          Район  \\\n",
       "0  Продам офисный блок  в Бизнесцентре на улице Р...  2860084  Нижегородский   \n",
       "1  Продаю нежилое помещение.\\n\\nАдрес: Нижний Нов...  2788351  Нижегородский   \n",
       "2  Здание приносит аренду 700 тыс.руб. Три стабил...  2802080  Нижегородский   \n",
       "3  Ленинский район, улица Памирская, Баумана, Кос...  2867942      Ленинский   \n",
       "4  Отличное местоположение, Центр города, подвал,...  2862279  Нижегородский   \n",
       "\n",
       "                           Адрес   Площадь Этаж / этажность Высота потолков  \\\n",
       "0          ул. Родионова, д. 192    815 м²            2 / 9        Уточнить   \n",
       "1  ул. Максима Горького, д. 152А  265,7 м²            1 / 9        Уточнить   \n",
       "2     ул. Верхнепечёрская, д. 7Д  928,4 м²            2 / 2             3 м   \n",
       "3           ул. Памирская, д. 11  2 200 м²            1 / 4        Уточнить   \n",
       "4   ул. Максима Горького, д. 232     84 м²          -1 / 10        Уточнить   \n",
       "\n",
       "   ... Интернет Торг уместен Телефон Мебель Этажность Источник  \\\n",
       "0  ...      NaN          NaN     NaN    NaN       NaN  gipernn   \n",
       "1  ...      NaN          NaN     NaN    NaN       NaN  gipernn   \n",
       "2  ...      NaN          NaN     NaN    NaN       NaN  gipernn   \n",
       "3  ...      NaN          NaN     NaN    NaN       NaN  gipernn   \n",
       "4  ...      NaN          NaN     NaN    NaN       NaN  gipernn   \n",
       "\n",
       "                    Сегмент         Подсегмент            Город Дата парсинга  \n",
       "0  Комерческая недвижимость  Покупка помещений  Нижний Новгород    2022-12-22  \n",
       "1  Комерческая недвижимость  Покупка помещений  Нижний Новгород    2022-12-22  \n",
       "2  Комерческая недвижимость  Покупка помещений  Нижний Новгород    2022-12-22  \n",
       "3  Комерческая недвижимость  Покупка помещений  Нижний Новгород    2022-12-22  \n",
       "4  Комерческая недвижимость  Покупка помещений  Нижний Новгород    2022-12-22  \n",
       "\n",
       "[5 rows x 30 columns]"
      ]
     },
     "execution_count": 6,
     "metadata": {},
     "output_type": "execute_result"
    }
   ],
   "source": [
    "df.head()"
   ]
  },
  {
   "attachments": {},
   "cell_type": "markdown",
   "metadata": {},
   "source": [
    "Экспортируем таблицу"
   ]
  },
  {
   "cell_type": "code",
   "execution_count": 7,
   "metadata": {},
   "outputs": [],
   "source": [
    "df.to_excel('indoor-buy.xlsx', index=False)"
   ]
  }
 ],
 "metadata": {
  "kernelspec": {
   "display_name": "Python 3",
   "language": "python",
   "name": "python3"
  },
  "language_info": {
   "codemirror_mode": {
    "name": "ipython",
    "version": 3
   },
   "file_extension": ".py",
   "mimetype": "text/x-python",
   "name": "python",
   "nbconvert_exporter": "python",
   "pygments_lexer": "ipython3",
   "version": "3.11.1"
  },
  "orig_nbformat": 4,
  "vscode": {
   "interpreter": {
    "hash": "5238573367df39f7286bb46f9ff5f08f63a01a80960060ce41e3c79b190280fa"
   }
  }
 },
 "nbformat": 4,
 "nbformat_minor": 2
}
