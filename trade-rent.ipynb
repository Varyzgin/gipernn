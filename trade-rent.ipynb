{
 "cells": [
  {
   "cell_type": "code",
   "execution_count": 1,
   "metadata": {},
   "outputs": [],
   "source": [
    "import requests\n",
    "import time\n",
    "import re\n",
    "import openpyxl\n",
    "import pandas as pd\n",
    "import numpy as np\n",
    "from tqdm import tqdm\n",
    "from bs4 import BeautifulSoup\n",
    "from datetime import date"
   ]
  },
  {
   "cell_type": "code",
   "execution_count": 2,
   "metadata": {},
   "outputs": [],
   "source": [
    "GLOBAL = 'https://www.gipernn.ru'\n",
    "LINK = 'https://www.gipernn.ru/arenda-torgovyh-ploschadey?per-page=50'"
   ]
  },
  {
   "cell_type": "markdown",
   "metadata": {},
   "source": [
    "Добыча колличества ссылок"
   ]
  },
  {
   "cell_type": "code",
   "execution_count": 3,
   "metadata": {},
   "outputs": [
    {
     "name": "stdout",
     "output_type": "stream",
     "text": [
      "269\n"
     ]
    }
   ],
   "source": [
    "html = requests.get(LINK)\n",
    "soup = BeautifulSoup(html.text, 'html.parser')\n",
    "count = soup.find('div', class_='count')\n",
    "\n",
    "count = int(count.text.split(':')[1].strip())\n",
    "page_count = int(np.ceil(count / 50))\n",
    "\n",
    "print(count)"
   ]
  },
  {
   "cell_type": "markdown",
   "metadata": {},
   "source": [
    "Составляем массив ссылок"
   ]
  },
  {
   "cell_type": "code",
   "execution_count": 4,
   "metadata": {},
   "outputs": [
    {
     "name": "stderr",
     "output_type": "stream",
     "text": [
      "100%|##########| 7/7 [00:02<00:00,  2.77it/s]"
     ]
    },
    {
     "name": "stdout",
     "output_type": "stream",
     "text": [
      "244\n"
     ]
    },
    {
     "name": "stderr",
     "output_type": "stream",
     "text": [
      "\n"
     ]
    }
   ],
   "source": [
    "links = []\n",
    "for page in tqdm(range(page_count + 1), ascii=True):\n",
    "    html = requests.get(f\"{LINK}&page={page}\")\n",
    "    soup = BeautifulSoup(html.text, 'html.parser')\n",
    "    trs = soup.find('tbody').find_all('tr')\n",
    "    for tr in trs:\n",
    "        link = tr.find('a')\n",
    "        if link:\n",
    "            link = link.get('href')\n",
    "            link = GLOBAL + link\n",
    "            links.append(link)\n",
    "    links = list(set(links))\n",
    "print(len(links))   \n"
   ]
  },
  {
   "cell_type": "markdown",
   "metadata": {},
   "source": [
    "Составление своей базы данных"
   ]
  },
  {
   "cell_type": "code",
   "execution_count": 5,
   "metadata": {},
   "outputs": [
    {
     "name": "stderr",
     "output_type": "stream",
     "text": [
      "100%|##########| 244/244 [01:00<00:00,  4.00it/s]\n"
     ]
    }
   ],
   "source": [
    "df = pd.DataFrame()\n",
    "for link in tqdm(links, ascii=True):\n",
    "    html = requests.get(link)\n",
    "    soup = BeautifulSoup(html.text, 'html.parser')\n",
    "\n",
    "    tmp = {} # словарь для временных данных\n",
    "    tmp['Ссылка'] = link\n",
    "\n",
    "    header = soup.find('h1')\n",
    "    if header:\n",
    "        header = header.text.strip().replace('\\xa0', ' ')\n",
    "    tmp['Заголовок'] = header\n",
    "\n",
    "    price = soup.find('div', class_ = 'price')\n",
    "    if price:\n",
    "        price = price.text.replace('\\xa0', ' ').strip().split('  ')\n",
    "    tmp['Цена'] = price\n",
    "\n",
    "    description = soup.find('div', class_='formatted-text')\n",
    "    if description:\n",
    "        description = description.text.strip().replace('\\xa0', ' ')\n",
    "    tmp['Описание'] = description\n",
    "    \n",
    "    try:\n",
    "        w0 = soup.find('table', id = 'w0')\n",
    "        if w0:\n",
    "            w0 = w0.find_all('tr')\n",
    "            for tr in w0:\n",
    "                key = tr.find('th').text.strip()\n",
    "                val = tr.find('td').text.strip()\n",
    "                tmp[key] = val\n",
    "    except:\n",
    "        print('w0 not found')\n",
    " \n",
    "    try:\n",
    "        w2 = soup.find('table', id = 'w2')\n",
    "        if w2:\n",
    "            w2 = w2.find_all('tr')\n",
    "            for tr in w2:\n",
    "                key = tr.find('th').text.strip()\n",
    "                val = tr.find('td').text.strip()\n",
    "                if key not in tmp.keys(): # записи в 2х таблицах могут \n",
    "                    tmp[key] = val # пересекаться, а зачем нам копии?\n",
    "    except:\n",
    "        print('w2 not found')\n",
    "\n",
    "    try:\n",
    "        properties = soup.find('div', class_ = 'properties m-t-2')\n",
    "        if properties:\n",
    "            properties = properties.find_all('div', class_ = 'property')\n",
    "            for property in properties:\n",
    "                key = property.find('div', class_ = 'property-name').text.strip()\n",
    "                val = property.find('div', class_ = 'property-value').text.strip()\n",
    "                if key not in tmp.keys(): # записи в 2х таблицах могут \n",
    "                    tmp[key] = val # пересекаться, а зачем нам копии?\n",
    "    except:\n",
    "        print('properties m-t-2 not found')\n",
    "    \n",
    "    try:\n",
    "        buildings = soup.find('div', 'around').find_all('div', 'group')\n",
    "        for building in buildings:\n",
    "            name = building.find('div','group-body').find('span').text\n",
    "            dist = building.find('div','group-body').find('div', 'company').find('span', 'company__distance').text\n",
    "            tmp[name] = dist   \n",
    "    except:\n",
    "        pass\n",
    "\n",
    "    df = pd.concat([df, pd.DataFrame(tmp)], ignore_index=True)\n",
    "\n",
    "df['Источник'] = 'gipernn'\n",
    "df['Сегмент'] = 'Комерческая недвижимость'\n",
    "df['Подсегмент'] = 'Аренда торговых площадей'\n",
    "df['Город'] = 'Нижний Новгород'\n",
    "df['Дата парсинга'] = str(date.today())"
   ]
  },
  {
   "attachments": {},
   "cell_type": "markdown",
   "metadata": {},
   "source": [
    "Посмотрим на результаты вкрадце"
   ]
  },
  {
   "cell_type": "code",
   "execution_count": 6,
   "metadata": {},
   "outputs": [
    {
     "data": {
      "text/html": [
       "<div>\n",
       "<style scoped>\n",
       "    .dataframe tbody tr th:only-of-type {\n",
       "        vertical-align: middle;\n",
       "    }\n",
       "\n",
       "    .dataframe tbody tr th {\n",
       "        vertical-align: top;\n",
       "    }\n",
       "\n",
       "    .dataframe thead th {\n",
       "        text-align: right;\n",
       "    }\n",
       "</style>\n",
       "<table border=\"1\" class=\"dataframe\">\n",
       "  <thead>\n",
       "    <tr style=\"text-align: right;\">\n",
       "      <th></th>\n",
       "      <th>Ссылка</th>\n",
       "      <th>Заголовок</th>\n",
       "      <th>Цена</th>\n",
       "      <th>Описание</th>\n",
       "      <th>№</th>\n",
       "      <th>Район</th>\n",
       "      <th>Адрес</th>\n",
       "      <th>Площадь</th>\n",
       "      <th>Этаж / этажность</th>\n",
       "      <th>Высота потолков</th>\n",
       "      <th>...</th>\n",
       "      <th>Интернет</th>\n",
       "      <th>Мебель</th>\n",
       "      <th>Телефон</th>\n",
       "      <th>Этажность</th>\n",
       "      <th>Материал стен</th>\n",
       "      <th>Источник</th>\n",
       "      <th>Сегмент</th>\n",
       "      <th>Подсегмент</th>\n",
       "      <th>Город</th>\n",
       "      <th>Дата парсинга</th>\n",
       "    </tr>\n",
       "  </thead>\n",
       "  <tbody>\n",
       "    <tr>\n",
       "      <th>0</th>\n",
       "      <td>https://www.gipernn.ru/arenda-pomescheniy/ul-a...</td>\n",
       "      <td>Аренда помещения на ул. Алексеевская, д. 10/16...</td>\n",
       "      <td>230 000 руб./мес.</td>\n",
       "      <td>Торговое помещение ( помещение свободного назн...</td>\n",
       "      <td>2809634</td>\n",
       "      <td>Нижегородский</td>\n",
       "      <td>ул. Алексеевская, д. 10/16</td>\n",
       "      <td>115 м²</td>\n",
       "      <td>2 / 6</td>\n",
       "      <td>3,5 м</td>\n",
       "      <td>...</td>\n",
       "      <td>NaN</td>\n",
       "      <td>NaN</td>\n",
       "      <td>NaN</td>\n",
       "      <td>NaN</td>\n",
       "      <td>NaN</td>\n",
       "      <td>gipernn</td>\n",
       "      <td>Комерческая недвижимость</td>\n",
       "      <td>Аренда торговых площадей</td>\n",
       "      <td>Нижний Новгород</td>\n",
       "      <td>2022-12-22</td>\n",
       "    </tr>\n",
       "    <tr>\n",
       "      <th>1</th>\n",
       "      <td>https://www.gipernn.ru/arenda-pomescheniy/ul-b...</td>\n",
       "      <td>Аренда помещения на ул. Бекетова, д. 13аСоветс...</td>\n",
       "      <td>17 500 руб./мес.</td>\n",
       "      <td>Сдается от собственника торговое место под выс...</td>\n",
       "      <td>2834800</td>\n",
       "      <td>Советский</td>\n",
       "      <td>ул. Бекетова, д. 13аТЦ Бекетов</td>\n",
       "      <td>5 м²</td>\n",
       "      <td>1 / 3</td>\n",
       "      <td>4 м</td>\n",
       "      <td>...</td>\n",
       "      <td>NaN</td>\n",
       "      <td>NaN</td>\n",
       "      <td>NaN</td>\n",
       "      <td>NaN</td>\n",
       "      <td>NaN</td>\n",
       "      <td>gipernn</td>\n",
       "      <td>Комерческая недвижимость</td>\n",
       "      <td>Аренда торговых площадей</td>\n",
       "      <td>Нижний Новгород</td>\n",
       "      <td>2022-12-22</td>\n",
       "    </tr>\n",
       "    <tr>\n",
       "      <th>2</th>\n",
       "      <td>https://www.gipernn.ru/arenda-pomescheniy/ul-r...</td>\n",
       "      <td>Аренда помещения на ул. Республиканская, д. 14...</td>\n",
       "      <td>50 000 руб./мес.</td>\n",
       "      <td>Сдам нежилое помещение в Советском районе на у...</td>\n",
       "      <td>2862942</td>\n",
       "      <td>Советский</td>\n",
       "      <td>ул. Республиканская, д. 14</td>\n",
       "      <td>74,4 м²</td>\n",
       "      <td>1 / 14</td>\n",
       "      <td>Уточнить</td>\n",
       "      <td>...</td>\n",
       "      <td>NaN</td>\n",
       "      <td>NaN</td>\n",
       "      <td>NaN</td>\n",
       "      <td>NaN</td>\n",
       "      <td>NaN</td>\n",
       "      <td>gipernn</td>\n",
       "      <td>Комерческая недвижимость</td>\n",
       "      <td>Аренда торговых площадей</td>\n",
       "      <td>Нижний Новгород</td>\n",
       "      <td>2022-12-22</td>\n",
       "    </tr>\n",
       "    <tr>\n",
       "      <th>3</th>\n",
       "      <td>https://www.gipernn.ru/arenda-pomescheniy/ul-b...</td>\n",
       "      <td>Аренда помещения на ул. Бориса Корнилова, д. 6...</td>\n",
       "      <td>87 850 руб./мес.</td>\n",
       "      <td>Помещение подвальное\\r\\nул Бориса Корнилова,\\r...</td>\n",
       "      <td>2860317</td>\n",
       "      <td>Советский</td>\n",
       "      <td>ул. Бориса Корнилова, д. 6 к1</td>\n",
       "      <td>251 м²</td>\n",
       "      <td>-1 / 5</td>\n",
       "      <td>2,8 м</td>\n",
       "      <td>...</td>\n",
       "      <td>NaN</td>\n",
       "      <td>NaN</td>\n",
       "      <td>NaN</td>\n",
       "      <td>NaN</td>\n",
       "      <td>NaN</td>\n",
       "      <td>gipernn</td>\n",
       "      <td>Комерческая недвижимость</td>\n",
       "      <td>Аренда торговых площадей</td>\n",
       "      <td>Нижний Новгород</td>\n",
       "      <td>2022-12-22</td>\n",
       "    </tr>\n",
       "    <tr>\n",
       "      <th>4</th>\n",
       "      <td>https://www.gipernn.ru/arenda-pomescheniy/ul-k...</td>\n",
       "      <td>Аренда помещения на ул. Культуры, д. 10Сормовс...</td>\n",
       "      <td>100 000 руб./мес.</td>\n",
       "      <td>Предлагается в аренду часть торгового помещени...</td>\n",
       "      <td>2836884</td>\n",
       "      <td>Сормовский</td>\n",
       "      <td>ул. Культуры, д. 10</td>\n",
       "      <td>56 м²</td>\n",
       "      <td>1 / 9</td>\n",
       "      <td>Уточнить</td>\n",
       "      <td>...</td>\n",
       "      <td>NaN</td>\n",
       "      <td>NaN</td>\n",
       "      <td>NaN</td>\n",
       "      <td>NaN</td>\n",
       "      <td>NaN</td>\n",
       "      <td>gipernn</td>\n",
       "      <td>Комерческая недвижимость</td>\n",
       "      <td>Аренда торговых площадей</td>\n",
       "      <td>Нижний Новгород</td>\n",
       "      <td>2022-12-22</td>\n",
       "    </tr>\n",
       "  </tbody>\n",
       "</table>\n",
       "<p>5 rows × 31 columns</p>\n",
       "</div>"
      ],
      "text/plain": [
       "                                              Ссылка  \\\n",
       "0  https://www.gipernn.ru/arenda-pomescheniy/ul-a...   \n",
       "1  https://www.gipernn.ru/arenda-pomescheniy/ul-b...   \n",
       "2  https://www.gipernn.ru/arenda-pomescheniy/ul-r...   \n",
       "3  https://www.gipernn.ru/arenda-pomescheniy/ul-b...   \n",
       "4  https://www.gipernn.ru/arenda-pomescheniy/ul-k...   \n",
       "\n",
       "                                           Заголовок               Цена  \\\n",
       "0  Аренда помещения на ул. Алексеевская, д. 10/16...  230 000 руб./мес.   \n",
       "1  Аренда помещения на ул. Бекетова, д. 13аСоветс...   17 500 руб./мес.   \n",
       "2  Аренда помещения на ул. Республиканская, д. 14...   50 000 руб./мес.   \n",
       "3  Аренда помещения на ул. Бориса Корнилова, д. 6...   87 850 руб./мес.   \n",
       "4  Аренда помещения на ул. Культуры, д. 10Сормовс...  100 000 руб./мес.   \n",
       "\n",
       "                                            Описание        №          Район  \\\n",
       "0  Торговое помещение ( помещение свободного назн...  2809634  Нижегородский   \n",
       "1  Сдается от собственника торговое место под выс...  2834800      Советский   \n",
       "2  Сдам нежилое помещение в Советском районе на у...  2862942      Советский   \n",
       "3  Помещение подвальное\\r\\nул Бориса Корнилова,\\r...  2860317      Советский   \n",
       "4  Предлагается в аренду часть торгового помещени...  2836884     Сормовский   \n",
       "\n",
       "                            Адрес  Площадь Этаж / этажность Высота потолков  \\\n",
       "0      ул. Алексеевская, д. 10/16   115 м²            2 / 6           3,5 м   \n",
       "1  ул. Бекетова, д. 13аТЦ Бекетов     5 м²            1 / 3             4 м   \n",
       "2      ул. Республиканская, д. 14  74,4 м²           1 / 14        Уточнить   \n",
       "3   ул. Бориса Корнилова, д. 6 к1   251 м²           -1 / 5           2,8 м   \n",
       "4             ул. Культуры, д. 10    56 м²            1 / 9        Уточнить   \n",
       "\n",
       "   ... Интернет Мебель Телефон Этажность Материал стен Источник  \\\n",
       "0  ...      NaN    NaN     NaN       NaN           NaN  gipernn   \n",
       "1  ...      NaN    NaN     NaN       NaN           NaN  gipernn   \n",
       "2  ...      NaN    NaN     NaN       NaN           NaN  gipernn   \n",
       "3  ...      NaN    NaN     NaN       NaN           NaN  gipernn   \n",
       "4  ...      NaN    NaN     NaN       NaN           NaN  gipernn   \n",
       "\n",
       "                    Сегмент                Подсегмент            Город  \\\n",
       "0  Комерческая недвижимость  Аренда торговых площадей  Нижний Новгород   \n",
       "1  Комерческая недвижимость  Аренда торговых площадей  Нижний Новгород   \n",
       "2  Комерческая недвижимость  Аренда торговых площадей  Нижний Новгород   \n",
       "3  Комерческая недвижимость  Аренда торговых площадей  Нижний Новгород   \n",
       "4  Комерческая недвижимость  Аренда торговых площадей  Нижний Новгород   \n",
       "\n",
       "  Дата парсинга  \n",
       "0    2022-12-22  \n",
       "1    2022-12-22  \n",
       "2    2022-12-22  \n",
       "3    2022-12-22  \n",
       "4    2022-12-22  \n",
       "\n",
       "[5 rows x 31 columns]"
      ]
     },
     "execution_count": 6,
     "metadata": {},
     "output_type": "execute_result"
    }
   ],
   "source": [
    "df.head()"
   ]
  },
  {
   "attachments": {},
   "cell_type": "markdown",
   "metadata": {},
   "source": [
    "Экспортируем таблицу"
   ]
  },
  {
   "cell_type": "code",
   "execution_count": 7,
   "metadata": {},
   "outputs": [],
   "source": [
    "df.to_excel('trade-rent.xlsx', index=False)"
   ]
  }
 ],
 "metadata": {
  "kernelspec": {
   "display_name": "Python 3",
   "language": "python",
   "name": "python3"
  },
  "language_info": {
   "codemirror_mode": {
    "name": "ipython",
    "version": 3
   },
   "file_extension": ".py",
   "mimetype": "text/x-python",
   "name": "python",
   "nbconvert_exporter": "python",
   "pygments_lexer": "ipython3",
   "version": "3.11.1 (tags/v3.11.1:a7a450f, Dec  6 2022, 19:58:39) [MSC v.1934 64 bit (AMD64)]"
  },
  "orig_nbformat": 4,
  "vscode": {
   "interpreter": {
    "hash": "5238573367df39f7286bb46f9ff5f08f63a01a80960060ce41e3c79b190280fa"
   }
  }
 },
 "nbformat": 4,
 "nbformat_minor": 2
}
