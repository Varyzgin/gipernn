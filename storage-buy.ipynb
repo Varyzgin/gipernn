{
 "cells": [
  {
   "cell_type": "code",
   "execution_count": 1,
   "metadata": {},
   "outputs": [],
   "source": [
    "import requests\n",
    "import time\n",
    "import re\n",
    "import openpyxl\n",
    "import pandas as pd\n",
    "import numpy as np\n",
    "from tqdm import tqdm\n",
    "from bs4 import BeautifulSoup\n",
    "from datetime import date"
   ]
  },
  {
   "cell_type": "code",
   "execution_count": 2,
   "metadata": {},
   "outputs": [],
   "source": [
    "GLOBAL = 'https://www.gipernn.ru'\n",
    "LINK = 'https://www.gipernn.ru/prodazha-skladov?per-page=50'"
   ]
  },
  {
   "cell_type": "markdown",
   "metadata": {},
   "source": [
    "Добыча колличества ссылок"
   ]
  },
  {
   "cell_type": "code",
   "execution_count": 3,
   "metadata": {},
   "outputs": [
    {
     "name": "stdout",
     "output_type": "stream",
     "text": [
      "26\n"
     ]
    }
   ],
   "source": [
    "html = requests.get(LINK)\n",
    "soup = BeautifulSoup(html.text, 'html.parser')\n",
    "count = soup.find('div', class_='count')\n",
    "\n",
    "count = int(count.text.split(':')[1].strip())\n",
    "page_count = int(np.ceil(count / 50))\n",
    "\n",
    "print(count)"
   ]
  },
  {
   "cell_type": "markdown",
   "metadata": {},
   "source": [
    "Составляем массив ссылок"
   ]
  },
  {
   "cell_type": "code",
   "execution_count": 4,
   "metadata": {},
   "outputs": [
    {
     "name": "stderr",
     "output_type": "stream",
     "text": [
      "100%|##########| 2/2 [00:00<00:00,  3.12it/s]"
     ]
    },
    {
     "name": "stdout",
     "output_type": "stream",
     "text": [
      "26\n"
     ]
    },
    {
     "name": "stderr",
     "output_type": "stream",
     "text": [
      "\n"
     ]
    }
   ],
   "source": [
    "links = []\n",
    "for page in tqdm(range(page_count + 1), ascii=True):\n",
    "    html = requests.get(f\"{LINK}&page={page}\")\n",
    "    soup = BeautifulSoup(html.text, 'html.parser')\n",
    "    trs = soup.find('tbody').find_all('tr')\n",
    "    for tr in trs:\n",
    "        link = tr.find('a')\n",
    "        if link:\n",
    "            link = link.get('href')\n",
    "            link = GLOBAL + link\n",
    "            links.append(link)\n",
    "    links = list(set(links))\n",
    "print(len(links))   \n"
   ]
  },
  {
   "cell_type": "markdown",
   "metadata": {},
   "source": [
    "Составление своей базы данных"
   ]
  },
  {
   "cell_type": "code",
   "execution_count": 5,
   "metadata": {},
   "outputs": [
    {
     "name": "stderr",
     "output_type": "stream",
     "text": [
      "100%|##########| 26/26 [00:06<00:00,  4.10it/s]\n"
     ]
    }
   ],
   "source": [
    "df = pd.DataFrame()\n",
    "for link in tqdm(links, ascii=True):\n",
    "    html = requests.get(link)\n",
    "    soup = BeautifulSoup(html.text, 'html.parser')\n",
    "\n",
    "    tmp = {} # словарь для временных данных\n",
    "    tmp['Ссылка'] = link\n",
    "\n",
    "    header = soup.find('h1')\n",
    "    if header:\n",
    "        header = header.text.strip().replace('\\xa0', ' ')\n",
    "    tmp['Заголовок'] = header\n",
    "\n",
    "    price = soup.find('div', class_ = 'price')\n",
    "    if price:\n",
    "        price = price.text.replace('\\xa0', ' ').strip().split('  ')\n",
    "    tmp['Цена'] = price\n",
    "\n",
    "    description = soup.find('div', class_='formatted-text')\n",
    "    if description:\n",
    "        description = description.text.strip().replace('\\xa0', ' ')\n",
    "    tmp['Описание'] = description\n",
    "    \n",
    "    try:\n",
    "        w0 = soup.find('table', id = 'w0')\n",
    "        if w0:\n",
    "            w0 = w0.find_all('tr')\n",
    "            for tr in w0:\n",
    "                key = tr.find('th').text.strip()\n",
    "                val = tr.find('td').text.strip()\n",
    "                tmp[key] = val\n",
    "    except:\n",
    "        print('w0 not found')\n",
    " \n",
    "    try:\n",
    "        w2 = soup.find('table', id = 'w2')\n",
    "        if w2:\n",
    "            w2 = w2.find_all('tr')\n",
    "            for tr in w2:\n",
    "                key = tr.find('th').text.strip()\n",
    "                val = tr.find('td').text.strip()\n",
    "                if key not in tmp.keys(): # записи в 2х таблицах могут \n",
    "                    tmp[key] = val # пересекаться, а зачем нам копии?\n",
    "    except:\n",
    "        print('w2 not found')\n",
    "\n",
    "    try:\n",
    "        properties = soup.find('div', class_ = 'properties m-t-2')\n",
    "        if properties:\n",
    "            properties = properties.find_all('div', class_ = 'property')\n",
    "            for property in properties:\n",
    "                key = property.find('div', class_ = 'property-name').text.strip()\n",
    "                val = property.find('div', class_ = 'property-value').text.strip()\n",
    "                if key not in tmp.keys(): # записи в 2х таблицах могут \n",
    "                    tmp[key] = val # пересекаться, а зачем нам копии?\n",
    "    except:\n",
    "        print('properties m-t-2 not found')\n",
    "    \n",
    "    try:\n",
    "        buildings = soup.find('div', 'around').find_all('div', 'group')\n",
    "        for building in buildings:\n",
    "            name = building.find('div','group-body').find('span').text\n",
    "            dist = building.find('div','group-body').find('div', 'company').find('span', 'company__distance').text\n",
    "            tmp[name] = dist   \n",
    "    except:\n",
    "        pass\n",
    "\n",
    "    df = pd.concat([df, pd.DataFrame(tmp)], ignore_index=True)\n",
    "\n",
    "df['Источник'] = 'gipernn'\n",
    "df['Сегмент'] = 'Комерческая недвижимость'\n",
    "df['Подсегмент'] = 'Покупка складов'\n",
    "df['Город'] = 'Нижний Новгород'\n",
    "df['Дата парсинга'] = str(date.today())"
   ]
  },
  {
   "attachments": {},
   "cell_type": "markdown",
   "metadata": {},
   "source": [
    "Посмотрим на результаты вкрадце"
   ]
  },
  {
   "cell_type": "code",
   "execution_count": 6,
   "metadata": {},
   "outputs": [
    {
     "data": {
      "text/html": [
       "<div>\n",
       "<style scoped>\n",
       "    .dataframe tbody tr th:only-of-type {\n",
       "        vertical-align: middle;\n",
       "    }\n",
       "\n",
       "    .dataframe tbody tr th {\n",
       "        vertical-align: top;\n",
       "    }\n",
       "\n",
       "    .dataframe thead th {\n",
       "        text-align: right;\n",
       "    }\n",
       "</style>\n",
       "<table border=\"1\" class=\"dataframe\">\n",
       "  <thead>\n",
       "    <tr style=\"text-align: right;\">\n",
       "      <th></th>\n",
       "      <th>Ссылка</th>\n",
       "      <th>Заголовок</th>\n",
       "      <th>Цена</th>\n",
       "      <th>Описание</th>\n",
       "      <th>№</th>\n",
       "      <th>Район</th>\n",
       "      <th>Адрес</th>\n",
       "      <th>Площадь земельного участка</th>\n",
       "      <th>Общая площадь зданий</th>\n",
       "      <th>Объект</th>\n",
       "      <th>...</th>\n",
       "      <th>Газ</th>\n",
       "      <th>Канализация</th>\n",
       "      <th>Торг уместен</th>\n",
       "      <th>Ремонт</th>\n",
       "      <th>Интернет</th>\n",
       "      <th>Источник</th>\n",
       "      <th>Сегмент</th>\n",
       "      <th>Подсегмент</th>\n",
       "      <th>Город</th>\n",
       "      <th>Дата парсинга</th>\n",
       "    </tr>\n",
       "  </thead>\n",
       "  <tbody>\n",
       "    <tr>\n",
       "      <th>0</th>\n",
       "      <td>https://www.gipernn.ru/prodazha-imuschestvenny...</td>\n",
       "      <td>Продажа имущественного комплексаАвтозаводский ...</td>\n",
       "      <td>6 500 000 руб.</td>\n",
       "      <td>Автозаводский район, пос.Доскино.Под строитель...</td>\n",
       "      <td>2856616</td>\n",
       "      <td>Автозаводский</td>\n",
       "      <td>посёлок Доскино, пос. Доскино</td>\n",
       "      <td>5,2 га</td>\n",
       "      <td>52 283 м²</td>\n",
       "      <td>имущественный комплекс</td>\n",
       "      <td>...</td>\n",
       "      <td>NaN</td>\n",
       "      <td>NaN</td>\n",
       "      <td>NaN</td>\n",
       "      <td>NaN</td>\n",
       "      <td>NaN</td>\n",
       "      <td>gipernn</td>\n",
       "      <td>Комерческая недвижимость</td>\n",
       "      <td>Покупка складов</td>\n",
       "      <td>Нижний Новгород</td>\n",
       "      <td>2022-12-22</td>\n",
       "    </tr>\n",
       "    <tr>\n",
       "      <th>1</th>\n",
       "      <td>https://www.gipernn.ru/prodazha-zdaniy/ul-zele...</td>\n",
       "      <td>Продажа здания на ул. Зеленхозовская, д. 4ААвт...</td>\n",
       "      <td>13 500 000 руб.</td>\n",
       "      <td>Предлагаем к продаже арочный склад. Расположен...</td>\n",
       "      <td>2843034</td>\n",
       "      <td>Автозаводский</td>\n",
       "      <td>ул. Зеленхозовская, д. 4А</td>\n",
       "      <td>NaN</td>\n",
       "      <td>NaN</td>\n",
       "      <td>отдельно стоящее здание</td>\n",
       "      <td>...</td>\n",
       "      <td>NaN</td>\n",
       "      <td>NaN</td>\n",
       "      <td>NaN</td>\n",
       "      <td>NaN</td>\n",
       "      <td>NaN</td>\n",
       "      <td>gipernn</td>\n",
       "      <td>Комерческая недвижимость</td>\n",
       "      <td>Покупка складов</td>\n",
       "      <td>Нижний Новгород</td>\n",
       "      <td>2022-12-22</td>\n",
       "    </tr>\n",
       "    <tr>\n",
       "      <th>2</th>\n",
       "      <td>https://www.gipernn.ru/prodazha-pomescheniy/ul...</td>\n",
       "      <td>Продажа помещения на ул. Памирская, д. 11Ленин...</td>\n",
       "      <td>11 800 000 руб.</td>\n",
       "      <td>Продаётся  Производственно-складское  помещени...</td>\n",
       "      <td>2760076</td>\n",
       "      <td>Ленинский</td>\n",
       "      <td>ул. Памирская, д. 11</td>\n",
       "      <td>NaN</td>\n",
       "      <td>NaN</td>\n",
       "      <td>помещение в нежилом здании</td>\n",
       "      <td>...</td>\n",
       "      <td>NaN</td>\n",
       "      <td>NaN</td>\n",
       "      <td>NaN</td>\n",
       "      <td>NaN</td>\n",
       "      <td>NaN</td>\n",
       "      <td>gipernn</td>\n",
       "      <td>Комерческая недвижимость</td>\n",
       "      <td>Покупка складов</td>\n",
       "      <td>Нижний Новгород</td>\n",
       "      <td>2022-12-22</td>\n",
       "    </tr>\n",
       "    <tr>\n",
       "      <th>3</th>\n",
       "      <td>https://www.gipernn.ru/prodazha-imuschestvenny...</td>\n",
       "      <td>Продажа имущественного комплексаКанавинский ра...</td>\n",
       "      <td>80 000 000 руб.</td>\n",
       "      <td>Продается комплекс зданий на охраняемой террит...</td>\n",
       "      <td>2867423</td>\n",
       "      <td>Канавинский</td>\n",
       "      <td>посёлок Берёзовский, ул. Серова, д. 3</td>\n",
       "      <td>1,24 га</td>\n",
       "      <td>2 098 м²</td>\n",
       "      <td>имущественный комплекс</td>\n",
       "      <td>...</td>\n",
       "      <td>NaN</td>\n",
       "      <td>NaN</td>\n",
       "      <td>NaN</td>\n",
       "      <td>NaN</td>\n",
       "      <td>NaN</td>\n",
       "      <td>gipernn</td>\n",
       "      <td>Комерческая недвижимость</td>\n",
       "      <td>Покупка складов</td>\n",
       "      <td>Нижний Новгород</td>\n",
       "      <td>2022-12-22</td>\n",
       "    </tr>\n",
       "    <tr>\n",
       "      <th>4</th>\n",
       "      <td>https://www.gipernn.ru/prodazha-zdaniy/ul-zayc...</td>\n",
       "      <td>Продажа здания на ул. ЗайцеваСормовский район,...</td>\n",
       "      <td>22 500 000 руб.</td>\n",
       "      <td>Сормовский р-н, ул.Зайцева, продается однообье...</td>\n",
       "      <td>2861466</td>\n",
       "      <td>Сормовский</td>\n",
       "      <td>ул. Зайцева</td>\n",
       "      <td>NaN</td>\n",
       "      <td>NaN</td>\n",
       "      <td>отдельно стоящее здание</td>\n",
       "      <td>...</td>\n",
       "      <td>NaN</td>\n",
       "      <td>NaN</td>\n",
       "      <td>NaN</td>\n",
       "      <td>NaN</td>\n",
       "      <td>NaN</td>\n",
       "      <td>gipernn</td>\n",
       "      <td>Комерческая недвижимость</td>\n",
       "      <td>Покупка складов</td>\n",
       "      <td>Нижний Новгород</td>\n",
       "      <td>2022-12-22</td>\n",
       "    </tr>\n",
       "  </tbody>\n",
       "</table>\n",
       "<p>5 rows × 30 columns</p>\n",
       "</div>"
      ],
      "text/plain": [
       "                                              Ссылка  \\\n",
       "0  https://www.gipernn.ru/prodazha-imuschestvenny...   \n",
       "1  https://www.gipernn.ru/prodazha-zdaniy/ul-zele...   \n",
       "2  https://www.gipernn.ru/prodazha-pomescheniy/ul...   \n",
       "3  https://www.gipernn.ru/prodazha-imuschestvenny...   \n",
       "4  https://www.gipernn.ru/prodazha-zdaniy/ul-zayc...   \n",
       "\n",
       "                                           Заголовок             Цена  \\\n",
       "0  Продажа имущественного комплексаАвтозаводский ...   6 500 000 руб.   \n",
       "1  Продажа здания на ул. Зеленхозовская, д. 4ААвт...  13 500 000 руб.   \n",
       "2  Продажа помещения на ул. Памирская, д. 11Ленин...  11 800 000 руб.   \n",
       "3  Продажа имущественного комплексаКанавинский ра...  80 000 000 руб.   \n",
       "4  Продажа здания на ул. ЗайцеваСормовский район,...  22 500 000 руб.   \n",
       "\n",
       "                                            Описание        №          Район  \\\n",
       "0  Автозаводский район, пос.Доскино.Под строитель...  2856616  Автозаводский   \n",
       "1  Предлагаем к продаже арочный склад. Расположен...  2843034  Автозаводский   \n",
       "2  Продаётся  Производственно-складское  помещени...  2760076      Ленинский   \n",
       "3  Продается комплекс зданий на охраняемой террит...  2867423    Канавинский   \n",
       "4  Сормовский р-н, ул.Зайцева, продается однообье...  2861466     Сормовский   \n",
       "\n",
       "                                   Адрес Площадь земельного участка  \\\n",
       "0          посёлок Доскино, пос. Доскино                     5,2 га   \n",
       "1              ул. Зеленхозовская, д. 4А                        NaN   \n",
       "2                   ул. Памирская, д. 11                        NaN   \n",
       "3  посёлок Берёзовский, ул. Серова, д. 3                    1,24 га   \n",
       "4                            ул. Зайцева                        NaN   \n",
       "\n",
       "  Общая площадь зданий                      Объект  ...  Газ Канализация  \\\n",
       "0            52 283 м²      имущественный комплекс  ...  NaN         NaN   \n",
       "1                  NaN     отдельно стоящее здание  ...  NaN         NaN   \n",
       "2                  NaN  помещение в нежилом здании  ...  NaN         NaN   \n",
       "3             2 098 м²      имущественный комплекс  ...  NaN         NaN   \n",
       "4                  NaN     отдельно стоящее здание  ...  NaN         NaN   \n",
       "\n",
       "  Торг уместен Ремонт Интернет Источник                   Сегмент  \\\n",
       "0          NaN    NaN      NaN  gipernn  Комерческая недвижимость   \n",
       "1          NaN    NaN      NaN  gipernn  Комерческая недвижимость   \n",
       "2          NaN    NaN      NaN  gipernn  Комерческая недвижимость   \n",
       "3          NaN    NaN      NaN  gipernn  Комерческая недвижимость   \n",
       "4          NaN    NaN      NaN  gipernn  Комерческая недвижимость   \n",
       "\n",
       "        Подсегмент            Город Дата парсинга  \n",
       "0  Покупка складов  Нижний Новгород    2022-12-22  \n",
       "1  Покупка складов  Нижний Новгород    2022-12-22  \n",
       "2  Покупка складов  Нижний Новгород    2022-12-22  \n",
       "3  Покупка складов  Нижний Новгород    2022-12-22  \n",
       "4  Покупка складов  Нижний Новгород    2022-12-22  \n",
       "\n",
       "[5 rows x 30 columns]"
      ]
     },
     "execution_count": 6,
     "metadata": {},
     "output_type": "execute_result"
    }
   ],
   "source": [
    "df.head()"
   ]
  },
  {
   "attachments": {},
   "cell_type": "markdown",
   "metadata": {},
   "source": [
    "Экспортируем таблицу"
   ]
  },
  {
   "cell_type": "code",
   "execution_count": 7,
   "metadata": {},
   "outputs": [],
   "source": [
    "df.to_excel('storage-buy.xlsx', index=False)"
   ]
  }
 ],
 "metadata": {
  "kernelspec": {
   "display_name": "Python 3",
   "language": "python",
   "name": "python3"
  },
  "language_info": {
   "codemirror_mode": {
    "name": "ipython",
    "version": 3
   },
   "file_extension": ".py",
   "mimetype": "text/x-python",
   "name": "python",
   "nbconvert_exporter": "python",
   "pygments_lexer": "ipython3",
   "version": "3.11.1"
  },
  "orig_nbformat": 4,
  "vscode": {
   "interpreter": {
    "hash": "5238573367df39f7286bb46f9ff5f08f63a01a80960060ce41e3c79b190280fa"
   }
  }
 },
 "nbformat": 4,
 "nbformat_minor": 2
}
