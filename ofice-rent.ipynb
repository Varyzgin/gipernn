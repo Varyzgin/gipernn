{
 "cells": [
  {
   "cell_type": "code",
   "execution_count": 1,
   "metadata": {},
   "outputs": [],
   "source": [
    "import requests\n",
    "import time\n",
    "import re\n",
    "import openpyxl\n",
    "import pandas as pd\n",
    "import numpy as np\n",
    "from tqdm import tqdm\n",
    "from bs4 import BeautifulSoup\n",
    "from datetime import date"
   ]
  },
  {
   "cell_type": "code",
   "execution_count": 2,
   "metadata": {},
   "outputs": [],
   "source": [
    "GLOBAL = 'https://www.gipernn.ru'\n",
    "LINK = 'https://www.gipernn.ru/arenda-ofisov?per-page=50'"
   ]
  },
  {
   "cell_type": "markdown",
   "metadata": {},
   "source": [
    "Добыча колличества ссылок"
   ]
  },
  {
   "cell_type": "code",
   "execution_count": 3,
   "metadata": {},
   "outputs": [
    {
     "name": "stdout",
     "output_type": "stream",
     "text": [
      "345\n"
     ]
    }
   ],
   "source": [
    "html = requests.get(LINK)\n",
    "soup = BeautifulSoup(html.text, 'html.parser')\n",
    "count = soup.find('div', class_='count')\n",
    "\n",
    "count = int(count.text.split(':')[1].strip())\n",
    "page_count = int(np.ceil(count / 50))\n",
    "\n",
    "print(count)"
   ]
  },
  {
   "cell_type": "markdown",
   "metadata": {},
   "source": [
    "Составляем массив ссылок"
   ]
  },
  {
   "cell_type": "code",
   "execution_count": 4,
   "metadata": {},
   "outputs": [
    {
     "name": "stderr",
     "output_type": "stream",
     "text": [
      "100%|##########| 8/8 [00:03<00:00,  2.63it/s]"
     ]
    },
    {
     "name": "stdout",
     "output_type": "stream",
     "text": [
      "317\n"
     ]
    },
    {
     "name": "stderr",
     "output_type": "stream",
     "text": [
      "\n"
     ]
    }
   ],
   "source": [
    "links = []\n",
    "for page in tqdm(range(page_count + 1), ascii=True):\n",
    "    html = requests.get(f\"{LINK}&page={page}\")\n",
    "    soup = BeautifulSoup(html.text, 'html.parser')\n",
    "    trs = soup.find('tbody').find_all('tr')\n",
    "    for tr in trs:\n",
    "        link = tr.find('a')\n",
    "        if link:\n",
    "            link = link.get('href')\n",
    "            link = GLOBAL + link\n",
    "            links.append(link)\n",
    "    links = list(set(links))\n",
    "print(len(links))   \n"
   ]
  },
  {
   "cell_type": "markdown",
   "metadata": {},
   "source": [
    "Составление своей базы данных"
   ]
  },
  {
   "cell_type": "code",
   "execution_count": 5,
   "metadata": {},
   "outputs": [
    {
     "name": "stderr",
     "output_type": "stream",
     "text": [
      "100%|##########| 317/317 [01:23<00:00,  3.80it/s]\n"
     ]
    }
   ],
   "source": [
    "df = pd.DataFrame()\n",
    "for link in tqdm(links, ascii=True):\n",
    "    html = requests.get(link)\n",
    "    soup = BeautifulSoup(html.text, 'html.parser')\n",
    "\n",
    "    tmp = {} # словарь для временных данных\n",
    "    tmp['Ссылка'] = link\n",
    "\n",
    "    header = soup.find('h1')\n",
    "    if header:\n",
    "        header = header.text.strip().replace('\\xa0', ' ')\n",
    "    tmp['Заголовок'] = header\n",
    "\n",
    "    price = soup.find('div', class_ = 'price')\n",
    "    if price:\n",
    "        price = price.text.replace('\\xa0', ' ').strip().split('  ')\n",
    "    tmp['Цена'] = price\n",
    "\n",
    "    description = soup.find('div', class_='formatted-text')\n",
    "    if description:\n",
    "        description = description.text.strip().replace('\\xa0', ' ')\n",
    "    tmp['Описание'] = description\n",
    "    \n",
    "    try:\n",
    "        w0 = soup.find('table', id = 'w0')\n",
    "        if w0:\n",
    "            w0 = w0.find_all('tr')\n",
    "            for tr in w0:\n",
    "                key = tr.find('th').text.strip()\n",
    "                val = tr.find('td').text.strip()\n",
    "                tmp[key] = val\n",
    "    except:\n",
    "        print('w0 not found')\n",
    " \n",
    "    try:\n",
    "        w2 = soup.find('table', id = 'w2')\n",
    "        if w2:\n",
    "            w2 = w2.find_all('tr')\n",
    "            for tr in w2:\n",
    "                key = tr.find('th').text.strip()\n",
    "                val = tr.find('td').text.strip()\n",
    "                if key not in tmp.keys(): # записи в 2х таблицах могут \n",
    "                    tmp[key] = val # пересекаться, а зачем нам копии?\n",
    "    except:\n",
    "        print('w2 not found')\n",
    "\n",
    "    try:\n",
    "        properties = soup.find('div', class_ = 'properties m-t-2')\n",
    "        if properties:\n",
    "            properties = properties.find_all('div', class_ = 'property')\n",
    "            for property in properties:\n",
    "                key = property.find('div', class_ = 'property-name').text.strip()\n",
    "                val = property.find('div', class_ = 'property-value').text.strip()\n",
    "                if key not in tmp.keys(): # записи в 2х таблицах могут \n",
    "                    tmp[key] = val # пересекаться, а зачем нам копии?\n",
    "    except:\n",
    "        print('properties m-t-2 not found')\n",
    "    \n",
    "    try:\n",
    "        buildings = soup.find('div', 'around').find_all('div', 'group')\n",
    "        for building in buildings:\n",
    "            name = building.find('div','group-body').find('span').text\n",
    "            dist = building.find('div','group-body').find('div', 'company').find('span', 'company__distance').text\n",
    "            tmp[name] = dist   \n",
    "    except:\n",
    "        pass\n",
    "\n",
    "    df = pd.concat([df, pd.DataFrame(tmp)], ignore_index=True)\n",
    "\n",
    "df['Источник'] = 'gipernn'\n",
    "df['Сегмент'] = 'Комерческая недвижимость'\n",
    "df['Подсегмент'] = 'Аренда офисов'\n",
    "df['Город'] = 'Нижний Новгород'\n",
    "df['Дата парсинга'] = str(date.today())"
   ]
  },
  {
   "attachments": {},
   "cell_type": "markdown",
   "metadata": {},
   "source": [
    "Посмотрим на результаты вкрадце"
   ]
  },
  {
   "cell_type": "code",
   "execution_count": 6,
   "metadata": {},
   "outputs": [
    {
     "data": {
      "text/html": [
       "<div>\n",
       "<style scoped>\n",
       "    .dataframe tbody tr th:only-of-type {\n",
       "        vertical-align: middle;\n",
       "    }\n",
       "\n",
       "    .dataframe tbody tr th {\n",
       "        vertical-align: top;\n",
       "    }\n",
       "\n",
       "    .dataframe thead th {\n",
       "        text-align: right;\n",
       "    }\n",
       "</style>\n",
       "<table border=\"1\" class=\"dataframe\">\n",
       "  <thead>\n",
       "    <tr style=\"text-align: right;\">\n",
       "      <th></th>\n",
       "      <th>Ссылка</th>\n",
       "      <th>Заголовок</th>\n",
       "      <th>Цена</th>\n",
       "      <th>Описание</th>\n",
       "      <th>№</th>\n",
       "      <th>Район</th>\n",
       "      <th>Адрес</th>\n",
       "      <th>Площадь</th>\n",
       "      <th>Этаж / этажность</th>\n",
       "      <th>Высота потолков</th>\n",
       "      <th>...</th>\n",
       "      <th>Торг уместен</th>\n",
       "      <th>Этажность</th>\n",
       "      <th>Материал стен</th>\n",
       "      <th>Площадь земельного участка</th>\n",
       "      <th>Общая площадь зданий</th>\n",
       "      <th>Источник</th>\n",
       "      <th>Сегмент</th>\n",
       "      <th>Подсегмент</th>\n",
       "      <th>Город</th>\n",
       "      <th>Дата парсинга</th>\n",
       "    </tr>\n",
       "  </thead>\n",
       "  <tbody>\n",
       "    <tr>\n",
       "      <th>0</th>\n",
       "      <td>https://www.gipernn.ru/arenda-pomescheniy/ul-k...</td>\n",
       "      <td>Аренда помещения на ул. Куйбышева, д. 57Москов...</td>\n",
       "      <td>20 000 руб./мес.</td>\n",
       "      <td>Сдам   нежилое помещение на улице Куйбышева.  ...</td>\n",
       "      <td>2864385</td>\n",
       "      <td>Московский</td>\n",
       "      <td>ул. Куйбышева, д. 57</td>\n",
       "      <td>29 м²</td>\n",
       "      <td>1 / 9</td>\n",
       "      <td>Уточнить</td>\n",
       "      <td>...</td>\n",
       "      <td>NaN</td>\n",
       "      <td>NaN</td>\n",
       "      <td>NaN</td>\n",
       "      <td>NaN</td>\n",
       "      <td>NaN</td>\n",
       "      <td>gipernn</td>\n",
       "      <td>Комерческая недвижимость</td>\n",
       "      <td>Аренда офисов</td>\n",
       "      <td>Нижний Новгород</td>\n",
       "      <td>2022-12-21</td>\n",
       "    </tr>\n",
       "    <tr>\n",
       "      <th>1</th>\n",
       "      <td>https://www.gipernn.ru/arenda-pomescheniy/ul-s...</td>\n",
       "      <td>Аренда помещения на ул. Салганская, д. 24Совет...</td>\n",
       "      <td>614 240 руб./мес.</td>\n",
       "      <td>Сдаётся в аренду отдельный офисный блок, общей...</td>\n",
       "      <td>2854594</td>\n",
       "      <td>Советский</td>\n",
       "      <td>ул. Салганская, д. 24БЦ Салганская улица, 24</td>\n",
       "      <td>880 м²</td>\n",
       "      <td>2 / 5</td>\n",
       "      <td>3 м</td>\n",
       "      <td>...</td>\n",
       "      <td>да</td>\n",
       "      <td>NaN</td>\n",
       "      <td>NaN</td>\n",
       "      <td>NaN</td>\n",
       "      <td>NaN</td>\n",
       "      <td>gipernn</td>\n",
       "      <td>Комерческая недвижимость</td>\n",
       "      <td>Аренда офисов</td>\n",
       "      <td>Нижний Новгород</td>\n",
       "      <td>2022-12-21</td>\n",
       "    </tr>\n",
       "    <tr>\n",
       "      <th>2</th>\n",
       "      <td>https://www.gipernn.ru/arenda-pomescheniy/ul-g...</td>\n",
       "      <td>Аренда помещения на ул. Героя Рябцева, д. 27Мо...</td>\n",
       "      <td>4 000 руб./мес.</td>\n",
       "      <td>Сдам рабочее место ~5 м.кв. в помещении свобод...</td>\n",
       "      <td>2801485</td>\n",
       "      <td>Московский</td>\n",
       "      <td>ул. Героя Рябцева, д. 27</td>\n",
       "      <td>5 м²</td>\n",
       "      <td>1 / 4</td>\n",
       "      <td>2,8 м</td>\n",
       "      <td>...</td>\n",
       "      <td>NaN</td>\n",
       "      <td>NaN</td>\n",
       "      <td>NaN</td>\n",
       "      <td>NaN</td>\n",
       "      <td>NaN</td>\n",
       "      <td>gipernn</td>\n",
       "      <td>Комерческая недвижимость</td>\n",
       "      <td>Аренда офисов</td>\n",
       "      <td>Нижний Новгород</td>\n",
       "      <td>2022-12-21</td>\n",
       "    </tr>\n",
       "    <tr>\n",
       "      <th>3</th>\n",
       "      <td>https://www.gipernn.ru/arenda-pomescheniy/ul-s...</td>\n",
       "      <td>Аренда помещения на ул. Свободы, д. 15Сормовск...</td>\n",
       "      <td>140 140 руб./мес.</td>\n",
       "      <td>Аренда офисного помещения в современном БЦ \"Со...</td>\n",
       "      <td>2801471</td>\n",
       "      <td>Сормовский</td>\n",
       "      <td>ул. Свободы, д. 15БЦ Союзный</td>\n",
       "      <td>215,6 м²</td>\n",
       "      <td>6 / 9</td>\n",
       "      <td>3 м</td>\n",
       "      <td>...</td>\n",
       "      <td>NaN</td>\n",
       "      <td>NaN</td>\n",
       "      <td>NaN</td>\n",
       "      <td>NaN</td>\n",
       "      <td>NaN</td>\n",
       "      <td>gipernn</td>\n",
       "      <td>Комерческая недвижимость</td>\n",
       "      <td>Аренда офисов</td>\n",
       "      <td>Нижний Новгород</td>\n",
       "      <td>2022-12-21</td>\n",
       "    </tr>\n",
       "    <tr>\n",
       "      <th>4</th>\n",
       "      <td>https://www.gipernn.ru/arenda-pomescheniy/ul-v...</td>\n",
       "      <td>Аренда помещения на ул. Верхнепечёрская, д. 14...</td>\n",
       "      <td>11 000 руб./мес.</td>\n",
       "      <td>Торгово-офисная площадь в ТЦ ВерхнеПечерский.\\...</td>\n",
       "      <td>2835446</td>\n",
       "      <td>Нижегородский</td>\n",
       "      <td>ул. Верхнепечёрская, д. 14бТЦ ВерхнеПечерский</td>\n",
       "      <td>11 м²</td>\n",
       "      <td>цоколь / 2</td>\n",
       "      <td>3 м</td>\n",
       "      <td>...</td>\n",
       "      <td>NaN</td>\n",
       "      <td>NaN</td>\n",
       "      <td>NaN</td>\n",
       "      <td>NaN</td>\n",
       "      <td>NaN</td>\n",
       "      <td>gipernn</td>\n",
       "      <td>Комерческая недвижимость</td>\n",
       "      <td>Аренда офисов</td>\n",
       "      <td>Нижний Новгород</td>\n",
       "      <td>2022-12-21</td>\n",
       "    </tr>\n",
       "  </tbody>\n",
       "</table>\n",
       "<p>5 rows × 33 columns</p>\n",
       "</div>"
      ],
      "text/plain": [
       "                                              Ссылка  \\\n",
       "0  https://www.gipernn.ru/arenda-pomescheniy/ul-k...   \n",
       "1  https://www.gipernn.ru/arenda-pomescheniy/ul-s...   \n",
       "2  https://www.gipernn.ru/arenda-pomescheniy/ul-g...   \n",
       "3  https://www.gipernn.ru/arenda-pomescheniy/ul-s...   \n",
       "4  https://www.gipernn.ru/arenda-pomescheniy/ul-v...   \n",
       "\n",
       "                                           Заголовок               Цена  \\\n",
       "0  Аренда помещения на ул. Куйбышева, д. 57Москов...   20 000 руб./мес.   \n",
       "1  Аренда помещения на ул. Салганская, д. 24Совет...  614 240 руб./мес.   \n",
       "2  Аренда помещения на ул. Героя Рябцева, д. 27Мо...    4 000 руб./мес.   \n",
       "3  Аренда помещения на ул. Свободы, д. 15Сормовск...  140 140 руб./мес.   \n",
       "4  Аренда помещения на ул. Верхнепечёрская, д. 14...   11 000 руб./мес.   \n",
       "\n",
       "                                            Описание        №          Район  \\\n",
       "0  Сдам   нежилое помещение на улице Куйбышева.  ...  2864385     Московский   \n",
       "1  Сдаётся в аренду отдельный офисный блок, общей...  2854594      Советский   \n",
       "2  Сдам рабочее место ~5 м.кв. в помещении свобод...  2801485     Московский   \n",
       "3  Аренда офисного помещения в современном БЦ \"Со...  2801471     Сормовский   \n",
       "4  Торгово-офисная площадь в ТЦ ВерхнеПечерский.\\...  2835446  Нижегородский   \n",
       "\n",
       "                                           Адрес   Площадь Этаж / этажность  \\\n",
       "0                           ул. Куйбышева, д. 57     29 м²            1 / 9   \n",
       "1   ул. Салганская, д. 24БЦ Салганская улица, 24    880 м²            2 / 5   \n",
       "2                       ул. Героя Рябцева, д. 27      5 м²            1 / 4   \n",
       "3                   ул. Свободы, д. 15БЦ Союзный  215,6 м²            6 / 9   \n",
       "4  ул. Верхнепечёрская, д. 14бТЦ ВерхнеПечерский     11 м²       цоколь / 2   \n",
       "\n",
       "  Высота потолков  ... Торг уместен Этажность Материал стен  \\\n",
       "0        Уточнить  ...          NaN       NaN           NaN   \n",
       "1             3 м  ...           да       NaN           NaN   \n",
       "2           2,8 м  ...          NaN       NaN           NaN   \n",
       "3             3 м  ...          NaN       NaN           NaN   \n",
       "4             3 м  ...          NaN       NaN           NaN   \n",
       "\n",
       "  Площадь земельного участка Общая площадь зданий Источник  \\\n",
       "0                        NaN                  NaN  gipernn   \n",
       "1                        NaN                  NaN  gipernn   \n",
       "2                        NaN                  NaN  gipernn   \n",
       "3                        NaN                  NaN  gipernn   \n",
       "4                        NaN                  NaN  gipernn   \n",
       "\n",
       "                    Сегмент     Подсегмент            Город Дата парсинга  \n",
       "0  Комерческая недвижимость  Аренда офисов  Нижний Новгород    2022-12-21  \n",
       "1  Комерческая недвижимость  Аренда офисов  Нижний Новгород    2022-12-21  \n",
       "2  Комерческая недвижимость  Аренда офисов  Нижний Новгород    2022-12-21  \n",
       "3  Комерческая недвижимость  Аренда офисов  Нижний Новгород    2022-12-21  \n",
       "4  Комерческая недвижимость  Аренда офисов  Нижний Новгород    2022-12-21  \n",
       "\n",
       "[5 rows x 33 columns]"
      ]
     },
     "execution_count": 6,
     "metadata": {},
     "output_type": "execute_result"
    }
   ],
   "source": [
    "df.head()"
   ]
  },
  {
   "attachments": {},
   "cell_type": "markdown",
   "metadata": {},
   "source": [
    "Экспортируем таблицу"
   ]
  },
  {
   "cell_type": "code",
   "execution_count": 7,
   "metadata": {},
   "outputs": [],
   "source": [
    "df.to_excel('ofice-rent.xlsx', index=False)"
   ]
  }
 ],
 "metadata": {
  "kernelspec": {
   "display_name": "Python 3",
   "language": "python",
   "name": "python3"
  },
  "language_info": {
   "codemirror_mode": {
    "name": "ipython",
    "version": 3
   },
   "file_extension": ".py",
   "mimetype": "text/x-python",
   "name": "python",
   "nbconvert_exporter": "python",
   "pygments_lexer": "ipython3",
   "version": "3.11.1"
  },
  "orig_nbformat": 4,
  "vscode": {
   "interpreter": {
    "hash": "5238573367df39f7286bb46f9ff5f08f63a01a80960060ce41e3c79b190280fa"
   }
  }
 },
 "nbformat": 4,
 "nbformat_minor": 2
}
