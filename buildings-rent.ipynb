{
 "cells": [
  {
   "cell_type": "code",
   "execution_count": 1,
   "metadata": {},
   "outputs": [],
   "source": [
    "import requests\n",
    "import time\n",
    "import re\n",
    "import openpyxl\n",
    "import pandas as pd\n",
    "import numpy as np\n",
    "from tqdm import tqdm\n",
    "from bs4 import BeautifulSoup\n",
    "from datetime import date"
   ]
  },
  {
   "cell_type": "code",
   "execution_count": 2,
   "metadata": {},
   "outputs": [],
   "source": [
    "GLOBAL = 'https://www.gipernn.ru'\n",
    "LINK = 'https://www.gipernn.ru/arenda-zdaniy?per-page=50'"
   ]
  },
  {
   "cell_type": "markdown",
   "metadata": {},
   "source": [
    "Добыча колличества ссылок"
   ]
  },
  {
   "cell_type": "code",
   "execution_count": 3,
   "metadata": {},
   "outputs": [
    {
     "name": "stdout",
     "output_type": "stream",
     "text": [
      "41\n"
     ]
    }
   ],
   "source": [
    "html = requests.get(LINK)\n",
    "soup = BeautifulSoup(html.text, 'html.parser')\n",
    "count = soup.find('div', class_='count')\n",
    "\n",
    "count = int(count.text.split(':')[1].strip())\n",
    "page_count = int(np.ceil(count / 50))\n",
    "\n",
    "print(count)"
   ]
  },
  {
   "cell_type": "markdown",
   "metadata": {},
   "source": [
    "Составляем массив ссылок"
   ]
  },
  {
   "cell_type": "code",
   "execution_count": 4,
   "metadata": {},
   "outputs": [
    {
     "name": "stderr",
     "output_type": "stream",
     "text": [
      "100%|##########| 2/2 [00:00<00:00,  2.76it/s]"
     ]
    },
    {
     "name": "stdout",
     "output_type": "stream",
     "text": [
      "41\n"
     ]
    },
    {
     "name": "stderr",
     "output_type": "stream",
     "text": [
      "\n"
     ]
    }
   ],
   "source": [
    "links = []\n",
    "for page in tqdm(range(page_count + 1), ascii=True):\n",
    "    html = requests.get(f\"{LINK}&page={page}\")\n",
    "    soup = BeautifulSoup(html.text, 'html.parser')\n",
    "    trs = soup.find('tbody').find_all('tr')\n",
    "    for tr in trs:\n",
    "        link = tr.find('a')\n",
    "        if link:\n",
    "            link = link.get('href')\n",
    "            link = GLOBAL + link\n",
    "            links.append(link)\n",
    "    links = list(set(links))\n",
    "print(len(links))   \n"
   ]
  },
  {
   "cell_type": "markdown",
   "metadata": {},
   "source": [
    "Составление своей базы данных"
   ]
  },
  {
   "cell_type": "code",
   "execution_count": 5,
   "metadata": {},
   "outputs": [
    {
     "name": "stderr",
     "output_type": "stream",
     "text": [
      "100%|##########| 41/41 [00:09<00:00,  4.14it/s]\n"
     ]
    }
   ],
   "source": [
    "df = pd.DataFrame()\n",
    "for link in tqdm(links, ascii=True):\n",
    "    html = requests.get(link)\n",
    "    soup = BeautifulSoup(html.text, 'html.parser')\n",
    "\n",
    "    tmp = {} # словарь для временных данных\n",
    "    tmp['Ссылка'] = link\n",
    "\n",
    "    header = soup.find('h1')\n",
    "    if header:\n",
    "        header = header.text.strip().replace('\\xa0', ' ')\n",
    "    tmp['Заголовок'] = header\n",
    "\n",
    "    price = soup.find('div', class_ = 'price')\n",
    "    if price:\n",
    "        price = price.text.replace('\\xa0', ' ').strip().split('  ')\n",
    "    tmp['Цена'] = price\n",
    "\n",
    "    description = soup.find('div', class_='formatted-text')\n",
    "    if description:\n",
    "        description = description.text.strip().replace('\\xa0', ' ')\n",
    "    tmp['Описание'] = description\n",
    "    \n",
    "    try:\n",
    "        w0 = soup.find('table', id = 'w0')\n",
    "        if w0:\n",
    "            w0 = w0.find_all('tr')\n",
    "            for tr in w0:\n",
    "                key = tr.find('th').text.strip()\n",
    "                val = tr.find('td').text.strip()\n",
    "                tmp[key] = val\n",
    "    except:\n",
    "        print('w0 not found')\n",
    " \n",
    "    try:\n",
    "        w2 = soup.find('table', id = 'w2')\n",
    "        if w2:\n",
    "            w2 = w2.find_all('tr')\n",
    "            for tr in w2:\n",
    "                key = tr.find('th').text.strip()\n",
    "                val = tr.find('td').text.strip()\n",
    "                if key not in tmp.keys(): # записи в 2х таблицах могут \n",
    "                    tmp[key] = val # пересекаться, а зачем нам копии?\n",
    "    except:\n",
    "        print('w2 not found')\n",
    "\n",
    "    try:\n",
    "        properties = soup.find('div', class_ = 'properties m-t-2')\n",
    "        if properties:\n",
    "            properties = properties.find_all('div', class_ = 'property')\n",
    "            for property in properties:\n",
    "                key = property.find('div', class_ = 'property-name').text.strip()\n",
    "                val = property.find('div', class_ = 'property-value').text.strip()\n",
    "                if key not in tmp.keys(): # записи в 2х таблицах могут \n",
    "                    tmp[key] = val # пересекаться, а зачем нам копии?\n",
    "    except:\n",
    "        print('properties m-t-2 not found')\n",
    "    \n",
    "    try:\n",
    "        buildings = soup.find('div', 'around').find_all('div', 'group')\n",
    "        for building in buildings:\n",
    "            name = building.find('div','group-body').find('span').text\n",
    "            dist = building.find('div','group-body').find('div', 'company').find('span', 'company__distance').text\n",
    "            tmp[name] = dist   \n",
    "    except:\n",
    "        pass\n",
    "\n",
    "    df = pd.concat([df, pd.DataFrame(tmp)], ignore_index=True)\n",
    "\n",
    "df['Источник'] = 'gipernn'\n",
    "df['Сегмент'] = 'Комерческая недвижимость'\n",
    "df['Подсегмент'] = 'Аренда зданий'\n",
    "df['Город'] = 'Нижний Новгород'\n",
    "df['Дата парсинга'] = str(date.today())"
   ]
  },
  {
   "attachments": {},
   "cell_type": "markdown",
   "metadata": {},
   "source": [
    "Посмотрим на результаты вкрадце"
   ]
  },
  {
   "cell_type": "code",
   "execution_count": 6,
   "metadata": {},
   "outputs": [
    {
     "data": {
      "text/html": [
       "<div>\n",
       "<style scoped>\n",
       "    .dataframe tbody tr th:only-of-type {\n",
       "        vertical-align: middle;\n",
       "    }\n",
       "\n",
       "    .dataframe tbody tr th {\n",
       "        vertical-align: top;\n",
       "    }\n",
       "\n",
       "    .dataframe thead th {\n",
       "        text-align: right;\n",
       "    }\n",
       "</style>\n",
       "<table border=\"1\" class=\"dataframe\">\n",
       "  <thead>\n",
       "    <tr style=\"text-align: right;\">\n",
       "      <th></th>\n",
       "      <th>Ссылка</th>\n",
       "      <th>Заголовок</th>\n",
       "      <th>Цена</th>\n",
       "      <th>Описание</th>\n",
       "      <th>№</th>\n",
       "      <th>Район</th>\n",
       "      <th>Адрес</th>\n",
       "      <th>Площадь</th>\n",
       "      <th>Этажность</th>\n",
       "      <th>Материал стен</th>\n",
       "      <th>Объект</th>\n",
       "      <th>Назначение</th>\n",
       "      <th>Торг уместен</th>\n",
       "      <th>Источник</th>\n",
       "      <th>Сегмент</th>\n",
       "      <th>Подсегмент</th>\n",
       "      <th>Город</th>\n",
       "      <th>Дата парсинга</th>\n",
       "    </tr>\n",
       "  </thead>\n",
       "  <tbody>\n",
       "    <tr>\n",
       "      <th>0</th>\n",
       "      <td>https://www.gipernn.ru/arenda-zdaniy/s-t-luch-...</td>\n",
       "      <td>Аренда здания на с/т Луч терПриокский район, Н...</td>\n",
       "      <td>227 500 руб./мес.</td>\n",
       "      <td>Сдается в аренду помещение. \\nЗдание находится...</td>\n",
       "      <td>2850812</td>\n",
       "      <td>Приокский</td>\n",
       "      <td>с/т Луч тер</td>\n",
       "      <td>455 м²</td>\n",
       "      <td>1</td>\n",
       "      <td>Уточнить</td>\n",
       "      <td>отдельно стоящее здание</td>\n",
       "      <td>торговое, отдых и развлечения</td>\n",
       "      <td>NaN</td>\n",
       "      <td>gipernn</td>\n",
       "      <td>Комерческая недвижимость</td>\n",
       "      <td>Аренда зданий</td>\n",
       "      <td>Нижний Новгород</td>\n",
       "      <td>2022-12-22</td>\n",
       "    </tr>\n",
       "    <tr>\n",
       "      <th>1</th>\n",
       "      <td>https://www.gipernn.ru/arenda-zdaniy/ul-50-let...</td>\n",
       "      <td>Аренда здания на ул. 50-летия ПобедыМосковский...</td>\n",
       "      <td>240 000 руб./мес.</td>\n",
       "      <td>Сдается в аренду помещение свободного назначен...</td>\n",
       "      <td>2798090</td>\n",
       "      <td>Московский</td>\n",
       "      <td>ул. 50-летия Победы</td>\n",
       "      <td>400 м²</td>\n",
       "      <td>2</td>\n",
       "      <td>кирпич</td>\n",
       "      <td>отдельно стоящее здание</td>\n",
       "      <td>офисное, медицинские учреждения</td>\n",
       "      <td>да</td>\n",
       "      <td>gipernn</td>\n",
       "      <td>Комерческая недвижимость</td>\n",
       "      <td>Аренда зданий</td>\n",
       "      <td>Нижний Новгород</td>\n",
       "      <td>2022-12-22</td>\n",
       "    </tr>\n",
       "    <tr>\n",
       "      <th>2</th>\n",
       "      <td>https://www.gipernn.ru/arenda-zdaniy/ul-torfya...</td>\n",
       "      <td>Аренда здания на ул. ТорфянаяСормовский район,...</td>\n",
       "      <td>104 000 руб./мес.</td>\n",
       "      <td>Сдается в аренду холодный склад 650 кв.м. Мате...</td>\n",
       "      <td>2823434</td>\n",
       "      <td>Сормовский</td>\n",
       "      <td>ул. Торфяная</td>\n",
       "      <td>650 м²</td>\n",
       "      <td>1</td>\n",
       "      <td>металлический</td>\n",
       "      <td>отдельно стоящее здание</td>\n",
       "      <td>складское</td>\n",
       "      <td>NaN</td>\n",
       "      <td>gipernn</td>\n",
       "      <td>Комерческая недвижимость</td>\n",
       "      <td>Аренда зданий</td>\n",
       "      <td>Нижний Новгород</td>\n",
       "      <td>2022-12-22</td>\n",
       "    </tr>\n",
       "    <tr>\n",
       "      <th>3</th>\n",
       "      <td>https://www.gipernn.ru/arenda-zdaniy/ul-goroho...</td>\n",
       "      <td>Аренда здания на ул. Гороховецкая, д. 7БКанави...</td>\n",
       "      <td>110 000 руб./мес.</td>\n",
       "      <td>Красная линия!  \\nСдаю здание 150, 8 кв.м. с з...</td>\n",
       "      <td>2828846</td>\n",
       "      <td>Канавинский</td>\n",
       "      <td>ул. Гороховецкая, д. 7Б</td>\n",
       "      <td>151 м²</td>\n",
       "      <td>1</td>\n",
       "      <td>NaN</td>\n",
       "      <td>отдельно стоящее здание</td>\n",
       "      <td>торговое</td>\n",
       "      <td>NaN</td>\n",
       "      <td>gipernn</td>\n",
       "      <td>Комерческая недвижимость</td>\n",
       "      <td>Аренда зданий</td>\n",
       "      <td>Нижний Новгород</td>\n",
       "      <td>2022-12-22</td>\n",
       "    </tr>\n",
       "    <tr>\n",
       "      <th>4</th>\n",
       "      <td>https://www.gipernn.ru/arenda-zdaniy/ul-arteln...</td>\n",
       "      <td>Аренда здания на ул. Артельная, д. 1Советский ...</td>\n",
       "      <td>450 000 руб./мес.</td>\n",
       "      <td>Советский район, улица Проспект Гагарина, Арте...</td>\n",
       "      <td>2842969</td>\n",
       "      <td>Советский</td>\n",
       "      <td>ул. Артельная, д. 1</td>\n",
       "      <td>930 м²</td>\n",
       "      <td>3</td>\n",
       "      <td>Уточнить</td>\n",
       "      <td>отдельно стоящее здание</td>\n",
       "      <td>офисное, образовательное учреждение</td>\n",
       "      <td>NaN</td>\n",
       "      <td>gipernn</td>\n",
       "      <td>Комерческая недвижимость</td>\n",
       "      <td>Аренда зданий</td>\n",
       "      <td>Нижний Новгород</td>\n",
       "      <td>2022-12-22</td>\n",
       "    </tr>\n",
       "  </tbody>\n",
       "</table>\n",
       "</div>"
      ],
      "text/plain": [
       "                                              Ссылка  \\\n",
       "0  https://www.gipernn.ru/arenda-zdaniy/s-t-luch-...   \n",
       "1  https://www.gipernn.ru/arenda-zdaniy/ul-50-let...   \n",
       "2  https://www.gipernn.ru/arenda-zdaniy/ul-torfya...   \n",
       "3  https://www.gipernn.ru/arenda-zdaniy/ul-goroho...   \n",
       "4  https://www.gipernn.ru/arenda-zdaniy/ul-arteln...   \n",
       "\n",
       "                                           Заголовок               Цена  \\\n",
       "0  Аренда здания на с/т Луч терПриокский район, Н...  227 500 руб./мес.   \n",
       "1  Аренда здания на ул. 50-летия ПобедыМосковский...  240 000 руб./мес.   \n",
       "2  Аренда здания на ул. ТорфянаяСормовский район,...  104 000 руб./мес.   \n",
       "3  Аренда здания на ул. Гороховецкая, д. 7БКанави...  110 000 руб./мес.   \n",
       "4  Аренда здания на ул. Артельная, д. 1Советский ...  450 000 руб./мес.   \n",
       "\n",
       "                                            Описание        №        Район  \\\n",
       "0  Сдается в аренду помещение. \\nЗдание находится...  2850812    Приокский   \n",
       "1  Сдается в аренду помещение свободного назначен...  2798090   Московский   \n",
       "2  Сдается в аренду холодный склад 650 кв.м. Мате...  2823434   Сормовский   \n",
       "3  Красная линия!  \\nСдаю здание 150, 8 кв.м. с з...  2828846  Канавинский   \n",
       "4  Советский район, улица Проспект Гагарина, Арте...  2842969    Советский   \n",
       "\n",
       "                     Адрес Площадь Этажность  Материал стен  \\\n",
       "0              с/т Луч тер  455 м²         1       Уточнить   \n",
       "1      ул. 50-летия Победы  400 м²         2         кирпич   \n",
       "2             ул. Торфяная  650 м²         1  металлический   \n",
       "3  ул. Гороховецкая, д. 7Б  151 м²         1            NaN   \n",
       "4      ул. Артельная, д. 1  930 м²         3       Уточнить   \n",
       "\n",
       "                    Объект                           Назначение Торг уместен  \\\n",
       "0  отдельно стоящее здание        торговое, отдых и развлечения          NaN   \n",
       "1  отдельно стоящее здание      офисное, медицинские учреждения           да   \n",
       "2  отдельно стоящее здание                            складское          NaN   \n",
       "3  отдельно стоящее здание                             торговое          NaN   \n",
       "4  отдельно стоящее здание  офисное, образовательное учреждение          NaN   \n",
       "\n",
       "  Источник                   Сегмент     Подсегмент            Город  \\\n",
       "0  gipernn  Комерческая недвижимость  Аренда зданий  Нижний Новгород   \n",
       "1  gipernn  Комерческая недвижимость  Аренда зданий  Нижний Новгород   \n",
       "2  gipernn  Комерческая недвижимость  Аренда зданий  Нижний Новгород   \n",
       "3  gipernn  Комерческая недвижимость  Аренда зданий  Нижний Новгород   \n",
       "4  gipernn  Комерческая недвижимость  Аренда зданий  Нижний Новгород   \n",
       "\n",
       "  Дата парсинга  \n",
       "0    2022-12-22  \n",
       "1    2022-12-22  \n",
       "2    2022-12-22  \n",
       "3    2022-12-22  \n",
       "4    2022-12-22  "
      ]
     },
     "execution_count": 6,
     "metadata": {},
     "output_type": "execute_result"
    }
   ],
   "source": [
    "df.head()"
   ]
  },
  {
   "attachments": {},
   "cell_type": "markdown",
   "metadata": {},
   "source": [
    "Экспортируем таблицу"
   ]
  },
  {
   "cell_type": "code",
   "execution_count": 7,
   "metadata": {},
   "outputs": [],
   "source": [
    "df.to_excel('buildings-rent.xlsx', index=False)"
   ]
  }
 ],
 "metadata": {
  "kernelspec": {
   "display_name": "Python 3",
   "language": "python",
   "name": "python3"
  },
  "language_info": {
   "codemirror_mode": {
    "name": "ipython",
    "version": 3
   },
   "file_extension": ".py",
   "mimetype": "text/x-python",
   "name": "python",
   "nbconvert_exporter": "python",
   "pygments_lexer": "ipython3",
   "version": "3.11.1"
  },
  "orig_nbformat": 4,
  "vscode": {
   "interpreter": {
    "hash": "5238573367df39f7286bb46f9ff5f08f63a01a80960060ce41e3c79b190280fa"
   }
  }
 },
 "nbformat": 4,
 "nbformat_minor": 2
}
