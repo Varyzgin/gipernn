{
 "cells": [
  {
   "cell_type": "code",
   "execution_count": 8,
   "metadata": {},
   "outputs": [],
   "source": [
    "# coding: utf8\n",
    "import requests\n",
    "import time\n",
    "import re\n",
    "import pandas as pd\n",
    "import numpy as np\n",
    "from bs4 import BeautifulSoup\n",
    "from tqdm import tqdm\n",
    "from datetime import date"
   ]
  },
  {
   "cell_type": "code",
   "execution_count": 9,
   "metadata": {},
   "outputs": [],
   "source": [
    "def get_count(soup):\n",
    "    \"\"\"Возвращает кол-во объектов на сайте (т.е. то кол-во, которое они пишут)\"\"\"\n",
    "    try:\n",
    "        count = soup.find('div', class_='count')\n",
    "        count = int(count.text.split(':')[1].strip())\n",
    "        return count\n",
    "    except:\n",
    "        print('adds count non find')\n",
    "        return None    "
   ]
  },
  {
   "cell_type": "code",
   "execution_count": 10,
   "metadata": {},
   "outputs": [],
   "source": [
    "SEGMENT_LINK = {'Квартиры':'https://www.gipernn.ru/prodazha-kvartir?per-page=50'}"
   ]
  },
  {
   "cell_type": "markdown",
   "metadata": {},
   "source": [
    "Получим начальную страницу, смотрим на кол-во объявлений, вычисляем кол-во страниц"
   ]
  },
  {
   "cell_type": "code",
   "execution_count": 11,
   "metadata": {},
   "outputs": [
    {
     "name": "stdout",
     "output_type": "stream",
     "text": [
      "всего 6749 объявлений\n"
     ]
    }
   ],
   "source": [
    "url = SEGMENT_LINK['Квартиры']\n",
    "r = requests.get(url)#получим html страницу\n",
    "soup = BeautifulSoup(r.text, 'html.parser')#структурируем, у BeautifulSoup есть готовые методы для работы со структурой html \n",
    "count = get_count(soup)\n",
    "print(f'всего {count} объявлений')\n",
    "pagination_count = int(np.ceil(count/50))#кол-во страниц\n",
    "add_links = []# список для ссылок"
   ]
  },
  {
   "cell_type": "markdown",
   "metadata": {},
   "source": [
    "Переходим по страницам и собираем ссылки. (если будут блакировки можно задать time.sleep(seconds))"
   ]
  },
  {
   "cell_type": "code",
   "execution_count": 12,
   "metadata": {},
   "outputs": [
    {
     "data": {
      "application/vnd.jupyter.widget-view+json": {
       "model_id": "e61c9103b25f47339ee0ad0061e4abb0",
       "version_major": 2,
       "version_minor": 0
      },
      "text/plain": [
       "  0%|          | 0/135 [00:00<?, ?it/s]"
      ]
     },
     "metadata": {},
     "output_type": "display_data"
    },
    {
     "name": "stdout",
     "output_type": "stream",
     "text": [
      "Кол-во ссылок 5756\n"
     ]
    }
   ],
   "source": [
    "for page in tqdm(range(1,pagination_count+1)):\n",
    "#     time.sleep(0.5)\n",
    "    url = f\"{SEGMENT_LINK['Квартиры']}&page={page}\"\n",
    "    r = requests.get(url)\n",
    "    soup = BeautifulSoup(r.text, 'html.parser')\n",
    "    adds = soup.find('tbody').find_all('tr')\n",
    "    for add in adds:\n",
    "        link = add.find('a')\n",
    "        if link:\n",
    "            link = link.get('href')# ссылка на само объявление\n",
    "            link = 'https://www.gipernn.ru'+link\n",
    "            add_links.append(link)\n",
    "    add_links = list(set(add_links))# only unique links\n",
    "print('Кол-во ссылок', len(add_links))   "
   ]
  },
  {
   "cell_type": "markdown",
   "metadata": {},
   "source": [
    "Парсим сами данные"
   ]
  },
  {
   "cell_type": "code",
   "execution_count": null,
   "metadata": {},
   "outputs": [],
   "source": [
    "df = pd.DataFrame() #все данные собираем в датафрейм"
   ]
  },
  {
   "cell_type": "code",
   "execution_count": null,
   "metadata": {},
   "outputs": [
    {
     "data": {
      "application/vnd.jupyter.widget-view+json": {
       "model_id": "d506a064687b4f358ca7056d7bde33d5",
       "version_major": 2,
       "version_minor": 0
      },
      "text/plain": [
       "  0%|          | 0/5149 [00:00<?, ?it/s]"
      ]
     },
     "metadata": {},
     "output_type": "display_data"
    }
   ],
   "source": [
    "for link in tqdm(add_links):\n",
    "#     time.sleep(0.5)\n",
    "    r = requests.get(link)\n",
    "    soup = BeautifulSoup(r.text, 'html.parser')\n",
    "    \n",
    "    d = {}#промежуточные данные храним в словаре \n",
    "    d['Ссылка'] = link    \n",
    "    header = soup.find('h1')\n",
    "    if header:\n",
    "        header = header.text.strip().replace('\\xa0', ' ')\n",
    "    description = soup.find('div', class_='formatted-text')\n",
    "    if description:\n",
    "        description = description.text.strip().replace('\\xa0', ' ')\n",
    "    \n",
    "    d['Заголовок объявления'] = header\n",
    "    d['Описание'] = description\n",
    "    try:    \n",
    "        flat_feature_table = soup.find('table', id='w0')\n",
    "        if flat_feature_table:\n",
    "            flat_feature_table = flat_feature_table.find_all('tr')[1:]\n",
    "            for row in flat_feature_table:\n",
    "                key = row.find('th').text.strip()\n",
    "                value = row.find('td').text.strip()\n",
    "                d[key] = value\n",
    "    except:\n",
    "        print('table w0 no find')\n",
    "    try:\n",
    "        obj_feature_table = soup.find('table', id='w2')\n",
    "        if obj_feature_table:\n",
    "            obj_feature_table = obj_feature_table.find_all('tr')\n",
    "            for row in obj_feature_table:\n",
    "                key = row.find('th').text.strip()\n",
    "                value = row.find('td').text.strip()\n",
    "                if key not in d.keys():\n",
    "                    d[key] = value\n",
    "    except:\n",
    "        print('table w2 no find')\n",
    "    try:\n",
    "        price = soup.find('div','offer-info').find('div', 'price').text.replace('\\xa0', ' ').strip().split('  ')[0]\n",
    "        d['Цена предложения, руб.'] = price\n",
    "    except:\n",
    "        print('price no find')\n",
    "    try:\n",
    "        properties = soup.find('div','properties m-t-2')    \n",
    "        properties = properties.find_all('div',class_='property')\n",
    "        for prop in properties:\n",
    "            key = prop.find('div', 'property-name').text.strip()\n",
    "            value = prop.find('div', 'property-value').text.strip()\n",
    "            d[key] = value  \n",
    "    except:\n",
    "        print('properties m-t-2 no find')\n",
    "    try:\n",
    "        point_dists = soup.find('div', 'around').find_all('div', 'group')\n",
    "        for point_dist in point_dists:\n",
    "            name = point_dist.find('div','group-body').find('span').text\n",
    "            dist = point_dist.find('div','group-body').find('div', 'company').find('span', 'company__distance').text\n",
    "            d[name] = dist   \n",
    "    except:\n",
    "#         print('point-dist no find', link)\n",
    "        pass\n",
    "        \n",
    "    df = df.append(d, ignore_index = True)  \n",
    "    \n",
    "df['Источник'] = 'gipernn'\n",
    "df['Сегмент'] = 'Жилая недвижимость'\n",
    "df['Подсегмент'] = 'Квартиры'\n",
    "df['Тип рынка'] = 'Вторичный'# чтобы паристь первычный рынок, на сайте нужно ставить фильтр \"в новостройке\"\n",
    "df['Город'] = 'Нижний Новгород'\n",
    "df['Дата парсинга'] = str(date.today())"
   ]
  },
  {
   "cell_type": "code",
   "execution_count": null,
   "metadata": {},
   "outputs": [
    {
     "data": {
      "text/html": [
       "<div>\n",
       "<style scoped>\n",
       "    .dataframe tbody tr th:only-of-type {\n",
       "        vertical-align: middle;\n",
       "    }\n",
       "\n",
       "    .dataframe tbody tr th {\n",
       "        vertical-align: top;\n",
       "    }\n",
       "\n",
       "    .dataframe thead th {\n",
       "        text-align: right;\n",
       "    }\n",
       "</style>\n",
       "<table border=\"1\" class=\"dataframe\">\n",
       "  <thead>\n",
       "    <tr style=\"text-align: right;\">\n",
       "      <th></th>\n",
       "      <th>Ссылка</th>\n",
       "      <th>Заголовок объявления</th>\n",
       "      <th>Описание</th>\n",
       "      <th>Район</th>\n",
       "      <th>Адрес</th>\n",
       "      <th>Комнат</th>\n",
       "      <th>Площадь</th>\n",
       "      <th>Этаж / этажность</th>\n",
       "      <th>Год постройки</th>\n",
       "      <th>Материал стен</th>\n",
       "      <th>...</th>\n",
       "      <th>Интернет</th>\n",
       "      <th>Телефон</th>\n",
       "      <th>Торг уместен</th>\n",
       "      <th>Тип комнат</th>\n",
       "      <th>Источник</th>\n",
       "      <th>Сегмент</th>\n",
       "      <th>Подсегмент</th>\n",
       "      <th>Тип рынка</th>\n",
       "      <th>Город</th>\n",
       "      <th>Дата парсинга</th>\n",
       "    </tr>\n",
       "  </thead>\n",
       "  <tbody>\n",
       "    <tr>\n",
       "      <th>0</th>\n",
       "      <td>https://www.gipernn.ru/prodazha-kvartir/1-komn...</td>\n",
       "      <td>Продажа 1-комнатной квартиры посёлок Дубёнки, ...</td>\n",
       "      <td>Продается 1-комнатная квартира в Советском рай...</td>\n",
       "      <td>Приокский</td>\n",
       "      <td>посёлок Дубёнки, ул. Карбышева, д. 1</td>\n",
       "      <td>1 комната</td>\n",
       "      <td>29,5 / 18 / 5,3</td>\n",
       "      <td>9 / 9</td>\n",
       "      <td>1975</td>\n",
       "      <td>кирпич</td>\n",
       "      <td>...</td>\n",
       "      <td>NaN</td>\n",
       "      <td>NaN</td>\n",
       "      <td>NaN</td>\n",
       "      <td>NaN</td>\n",
       "      <td>gipernn</td>\n",
       "      <td>Жилая недвижимость</td>\n",
       "      <td>Квартиры</td>\n",
       "      <td>Вторичный</td>\n",
       "      <td>Нижний Новгород</td>\n",
       "      <td>2022-09-29</td>\n",
       "    </tr>\n",
       "    <tr>\n",
       "      <th>1</th>\n",
       "      <td>https://www.gipernn.ru/prodazha-kvartir/3-komn...</td>\n",
       "      <td>Продажа 3-комнатной квартиры на ул. Маршала Ма...</td>\n",
       "      <td>Продаём замечательную 3х комнатную квартиру на...</td>\n",
       "      <td>Советский</td>\n",
       "      <td>ул. Маршала Малиновского, д. 5</td>\n",
       "      <td>3 комнаты</td>\n",
       "      <td>61 / 44 / 7</td>\n",
       "      <td>2 / 9</td>\n",
       "      <td>1976</td>\n",
       "      <td>панель</td>\n",
       "      <td>...</td>\n",
       "      <td>NaN</td>\n",
       "      <td>NaN</td>\n",
       "      <td>NaN</td>\n",
       "      <td>NaN</td>\n",
       "      <td>gipernn</td>\n",
       "      <td>Жилая недвижимость</td>\n",
       "      <td>Квартиры</td>\n",
       "      <td>Вторичный</td>\n",
       "      <td>Нижний Новгород</td>\n",
       "      <td>2022-09-29</td>\n",
       "    </tr>\n",
       "    <tr>\n",
       "      <th>2</th>\n",
       "      <td>https://www.gipernn.ru/prodazha-kvartir/1-komn...</td>\n",
       "      <td>Продажа 1-комнатной квартиры на просп. Гагарин...</td>\n",
       "      <td>Продается однокомнатная квартира с очень хорош...</td>\n",
       "      <td>Приокский</td>\n",
       "      <td>просп. Гагарина, д. 84</td>\n",
       "      <td>1 комната</td>\n",
       "      <td>31 / 18 / 6,5</td>\n",
       "      <td>4 / 5</td>\n",
       "      <td>1961</td>\n",
       "      <td>кирпич</td>\n",
       "      <td>...</td>\n",
       "      <td>NaN</td>\n",
       "      <td>NaN</td>\n",
       "      <td>NaN</td>\n",
       "      <td>NaN</td>\n",
       "      <td>gipernn</td>\n",
       "      <td>Жилая недвижимость</td>\n",
       "      <td>Квартиры</td>\n",
       "      <td>Вторичный</td>\n",
       "      <td>Нижний Новгород</td>\n",
       "      <td>2022-09-29</td>\n",
       "    </tr>\n",
       "    <tr>\n",
       "      <th>3</th>\n",
       "      <td>https://www.gipernn.ru/prodazha-kvartir/3-komn...</td>\n",
       "      <td>Продажа 3-комнатной квартиры на ул. Верхнепечё...</td>\n",
       "      <td>Продаю Уютную 3-х комнатную квартиру в Нижегор...</td>\n",
       "      <td>Нижегородский</td>\n",
       "      <td>ул. Верхнепечёрская, д. 4</td>\n",
       "      <td>3 комнаты</td>\n",
       "      <td>65,1 / 38,6 / 9,7</td>\n",
       "      <td>6 / 9</td>\n",
       "      <td>1982</td>\n",
       "      <td>панель</td>\n",
       "      <td>...</td>\n",
       "      <td>NaN</td>\n",
       "      <td>NaN</td>\n",
       "      <td>NaN</td>\n",
       "      <td>NaN</td>\n",
       "      <td>gipernn</td>\n",
       "      <td>Жилая недвижимость</td>\n",
       "      <td>Квартиры</td>\n",
       "      <td>Вторичный</td>\n",
       "      <td>Нижний Новгород</td>\n",
       "      <td>2022-09-29</td>\n",
       "    </tr>\n",
       "    <tr>\n",
       "      <th>4</th>\n",
       "      <td>https://www.gipernn.ru/prodazha-kvartir/1-komn...</td>\n",
       "      <td>Продажа 1-комнатной квартиры на просп. Гагарин...</td>\n",
       "      <td>Дом в ЖК \"Гагаринский высоты\". Во дворе   д/са...</td>\n",
       "      <td>Приокский</td>\n",
       "      <td>просп. Гагарина, д. 101 к5</td>\n",
       "      <td>1 комната</td>\n",
       "      <td>36,3 / 21 / 6</td>\n",
       "      <td>9 / 10</td>\n",
       "      <td>2013</td>\n",
       "      <td>блок+утеплитель</td>\n",
       "      <td>...</td>\n",
       "      <td>NaN</td>\n",
       "      <td>NaN</td>\n",
       "      <td>NaN</td>\n",
       "      <td>NaN</td>\n",
       "      <td>gipernn</td>\n",
       "      <td>Жилая недвижимость</td>\n",
       "      <td>Квартиры</td>\n",
       "      <td>Вторичный</td>\n",
       "      <td>Нижний Новгород</td>\n",
       "      <td>2022-09-29</td>\n",
       "    </tr>\n",
       "  </tbody>\n",
       "</table>\n",
       "<p>5 rows × 50 columns</p>\n",
       "</div>"
      ],
      "text/plain": [
       "                                              Ссылка  \\\n",
       "0  https://www.gipernn.ru/prodazha-kvartir/1-komn...   \n",
       "1  https://www.gipernn.ru/prodazha-kvartir/3-komn...   \n",
       "2  https://www.gipernn.ru/prodazha-kvartir/1-komn...   \n",
       "3  https://www.gipernn.ru/prodazha-kvartir/3-komn...   \n",
       "4  https://www.gipernn.ru/prodazha-kvartir/1-komn...   \n",
       "\n",
       "                                Заголовок объявления  \\\n",
       "0  Продажа 1-комнатной квартиры посёлок Дубёнки, ...   \n",
       "1  Продажа 3-комнатной квартиры на ул. Маршала Ма...   \n",
       "2  Продажа 1-комнатной квартиры на просп. Гагарин...   \n",
       "3  Продажа 3-комнатной квартиры на ул. Верхнепечё...   \n",
       "4  Продажа 1-комнатной квартиры на просп. Гагарин...   \n",
       "\n",
       "                                            Описание          Район  \\\n",
       "0  Продается 1-комнатная квартира в Советском рай...      Приокский   \n",
       "1  Продаём замечательную 3х комнатную квартиру на...      Советский   \n",
       "2  Продается однокомнатная квартира с очень хорош...      Приокский   \n",
       "3  Продаю Уютную 3-х комнатную квартиру в Нижегор...  Нижегородский   \n",
       "4  Дом в ЖК \"Гагаринский высоты\". Во дворе   д/са...      Приокский   \n",
       "\n",
       "                                  Адрес     Комнат            Площадь  \\\n",
       "0  посёлок Дубёнки, ул. Карбышева, д. 1  1 комната    29,5 / 18 / 5,3   \n",
       "1        ул. Маршала Малиновского, д. 5  3 комнаты        61 / 44 / 7   \n",
       "2                просп. Гагарина, д. 84  1 комната      31 / 18 / 6,5   \n",
       "3             ул. Верхнепечёрская, д. 4  3 комнаты  65,1 / 38,6 / 9,7   \n",
       "4            просп. Гагарина, д. 101 к5  1 комната      36,3 / 21 / 6   \n",
       "\n",
       "  Этаж / этажность Год постройки    Материал стен  ... Интернет Телефон  \\\n",
       "0            9 / 9          1975           кирпич  ...      NaN     NaN   \n",
       "1            2 / 9          1976           панель  ...      NaN     NaN   \n",
       "2            4 / 5          1961           кирпич  ...      NaN     NaN   \n",
       "3            6 / 9          1982           панель  ...      NaN     NaN   \n",
       "4           9 / 10          2013  блок+утеплитель  ...      NaN     NaN   \n",
       "\n",
       "  Торг уместен Тип комнат Источник             Сегмент Подсегмент  Тип рынка  \\\n",
       "0          NaN        NaN  gipernn  Жилая недвижимость   Квартиры  Вторичный   \n",
       "1          NaN        NaN  gipernn  Жилая недвижимость   Квартиры  Вторичный   \n",
       "2          NaN        NaN  gipernn  Жилая недвижимость   Квартиры  Вторичный   \n",
       "3          NaN        NaN  gipernn  Жилая недвижимость   Квартиры  Вторичный   \n",
       "4          NaN        NaN  gipernn  Жилая недвижимость   Квартиры  Вторичный   \n",
       "\n",
       "             Город Дата парсинга  \n",
       "0  Нижний Новгород    2022-09-29  \n",
       "1  Нижний Новгород    2022-09-29  \n",
       "2  Нижний Новгород    2022-09-29  \n",
       "3  Нижний Новгород    2022-09-29  \n",
       "4  Нижний Новгород    2022-09-29  \n",
       "\n",
       "[5 rows x 50 columns]"
      ]
     },
     "execution_count": 9,
     "metadata": {},
     "output_type": "execute_result"
    }
   ],
   "source": [
    "df.head()"
   ]
  },
  {
   "cell_type": "code",
   "execution_count": null,
   "metadata": {},
   "outputs": [
    {
     "name": "stdout",
     "output_type": "stream",
     "text": [
      "<class 'pandas.core.frame.DataFrame'>\n",
      "RangeIndex: 1000 entries, 0 to 999\n",
      "Data columns (total 50 columns):\n",
      " #   Column                  Non-Null Count  Dtype \n",
      "---  ------                  --------------  ----- \n",
      " 0   Ссылка                  1000 non-null   object\n",
      " 1   Заголовок объявления    1000 non-null   object\n",
      " 2   Описание                973 non-null    object\n",
      " 3   Район                   1000 non-null   object\n",
      " 4   Адрес                   1000 non-null   object\n",
      " 5   Комнат                  1000 non-null   object\n",
      " 6   Площадь                 1000 non-null   object\n",
      " 7   Этаж / этажность        1000 non-null   object\n",
      " 8   Год постройки           806 non-null    object\n",
      " 9   Материал стен           1000 non-null   object\n",
      " 10  Высота потолков         985 non-null    object\n",
      " 11  Этажность               763 non-null    object\n",
      " 12  Средняя цена за м2      760 non-null    object\n",
      " 13  Подъездов               743 non-null    object\n",
      " 14  Квартир                 764 non-null    object\n",
      " 15  Школа по прописке       576 non-null    object\n",
      " 16  ДУК и ТСЖ               558 non-null    object\n",
      " 17  Технический план        764 non-null    object\n",
      " 18  Цена предложения, руб.  1000 non-null   object\n",
      " 19  Тип жилья               747 non-null    object\n",
      " 20  Ремонт                  174 non-null    object\n",
      " 21  Санузел                 446 non-null    object\n",
      " 22  Лифт                    104 non-null    object\n",
      " 23  Мебель в комнатах       16 non-null     object\n",
      " 24  Мебель на кухне         37 non-null     object\n",
      " 25  Кухонная плита          215 non-null    object\n",
      " 26  Горячая вода            134 non-null    object\n",
      " 27  Парковка                108 non-null    object\n",
      " 28  Ипотека                 130 non-null    object\n",
      " 29  Почта                   712 non-null    object\n",
      " 30  Магазины                775 non-null    object\n",
      " 31  Школы                   742 non-null    object\n",
      " 32  Детские сады            754 non-null    object\n",
      " 33  Балкон                  247 non-null    object\n",
      " 34  Медицина                676 non-null    object\n",
      " 35  Лоджия                  223 non-null    object\n",
      " 36  Мусоропровод            77 non-null     object\n",
      " 37  Наличие охраны          27 non-null     object\n",
      " 38  Срок сдачи              231 non-null    object\n",
      " 39  Тип дома                110 non-null    object\n",
      " 40  Интернет                31 non-null     object\n",
      " 41  Телефон                 14 non-null     object\n",
      " 42  Торг уместен            83 non-null     object\n",
      " 43  Тип комнат              117 non-null    object\n",
      " 44  Источник                1000 non-null   object\n",
      " 45  Сегмент                 1000 non-null   object\n",
      " 46  Подсегмент              1000 non-null   object\n",
      " 47  Тип рынка               1000 non-null   object\n",
      " 48  Город                   1000 non-null   object\n",
      " 49  Дата парсинга           1000 non-null   object\n",
      "dtypes: object(50)\n",
      "memory usage: 390.8+ KB\n"
     ]
    }
   ],
   "source": [
    "df.info()"
   ]
  },
  {
   "cell_type": "code",
   "execution_count": null,
   "metadata": {},
   "outputs": [
    {
     "data": {
      "text/plain": [
       "(1000, 50)"
      ]
     },
     "execution_count": 11,
     "metadata": {},
     "output_type": "execute_result"
    }
   ],
   "source": [
    "df.shape"
   ]
  },
  {
   "cell_type": "code",
   "execution_count": null,
   "metadata": {},
   "outputs": [],
   "source": [
    "df.to_excel('data/nn_flat.xlsx', index=False)\n",
    "# df.to_csv('nn_flat.csv', index=False)\n",
    "# df.to_sql()"
   ]
  },
  {
   "cell_type": "code",
   "execution_count": null,
   "metadata": {},
   "outputs": [],
   "source": []
  }
 ],
 "metadata": {
  "kernelspec": {
   "display_name": "Python 3",
   "language": "python",
   "name": "python3"
  },
  "language_info": {
   "codemirror_mode": {
    "name": "ipython",
    "version": 3
   },
   "file_extension": ".py",
   "mimetype": "text/x-python",
   "name": "python",
   "nbconvert_exporter": "python",
   "pygments_lexer": "ipython3",
   "version": "3.11.1 (tags/v3.11.1:a7a450f, Dec  6 2022, 19:58:39) [MSC v.1934 64 bit (AMD64)]"
  },
  "toc": {
   "base_numbering": 1,
   "nav_menu": {},
   "number_sections": true,
   "sideBar": true,
   "skip_h1_title": false,
   "title_cell": "Table of Contents",
   "title_sidebar": "Contents",
   "toc_cell": false,
   "toc_position": {},
   "toc_section_display": true,
   "toc_window_display": false
  },
  "vscode": {
   "interpreter": {
    "hash": "5238573367df39f7286bb46f9ff5f08f63a01a80960060ce41e3c79b190280fa"
   }
  }
 },
 "nbformat": 4,
 "nbformat_minor": 2
}
