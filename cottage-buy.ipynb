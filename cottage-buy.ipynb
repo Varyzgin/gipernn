{
 "cells": [
  {
   "cell_type": "code",
   "execution_count": 1,
   "metadata": {},
   "outputs": [],
   "source": [
    "import requests\n",
    "import time\n",
    "import re\n",
    "import openpyxl\n",
    "import pandas as pd\n",
    "import numpy as np\n",
    "from tqdm import tqdm\n",
    "from bs4 import BeautifulSoup\n",
    "from datetime import date"
   ]
  },
  {
   "cell_type": "code",
   "execution_count": 2,
   "metadata": {},
   "outputs": [],
   "source": [
    "GLOBAL = 'https://www.gipernn.ru'\n",
    "LINK = 'https://www.gipernn.ru/prodazha-domov/nizhegorodskaya-oblast?per-page=50'"
   ]
  },
  {
   "cell_type": "markdown",
   "metadata": {},
   "source": [
    "Добыча колличества ссылок"
   ]
  },
  {
   "cell_type": "code",
   "execution_count": 3,
   "metadata": {},
   "outputs": [
    {
     "name": "stdout",
     "output_type": "stream",
     "text": [
      "2495\n"
     ]
    }
   ],
   "source": [
    "html = requests.get(LINK)\n",
    "soup = BeautifulSoup(html.text, 'html.parser')\n",
    "count = soup.find('div', class_='count')\n",
    "\n",
    "count = int(count.text.split(':')[1].strip())\n",
    "page_count = int(np.ceil(count / 50))\n",
    "\n",
    "print(count)"
   ]
  },
  {
   "cell_type": "markdown",
   "metadata": {},
   "source": [
    "Составляем массив ссылок"
   ]
  },
  {
   "cell_type": "code",
   "execution_count": 4,
   "metadata": {},
   "outputs": [
    {
     "name": "stderr",
     "output_type": "stream",
     "text": [
      "100%|##########| 51/51 [00:18<00:00,  2.75it/s]"
     ]
    },
    {
     "name": "stdout",
     "output_type": "stream",
     "text": [
      "2427\n"
     ]
    },
    {
     "name": "stderr",
     "output_type": "stream",
     "text": [
      "\n"
     ]
    }
   ],
   "source": [
    "links = []\n",
    "for page in tqdm(range(page_count + 1), ascii=True):\n",
    "    html = requests.get(f\"{LINK}&page={page}\")\n",
    "    soup = BeautifulSoup(html.text, 'html.parser')\n",
    "    trs = soup.find('tbody').find_all('tr')\n",
    "    for tr in trs:\n",
    "        link = tr.find('a')\n",
    "        if link:\n",
    "            link = link.get('href')\n",
    "            link = GLOBAL + link\n",
    "            links.append(link)\n",
    "    links = list(set(links))\n",
    "print(len(links))   \n"
   ]
  },
  {
   "cell_type": "markdown",
   "metadata": {},
   "source": [
    "Составление своей базы данных"
   ]
  },
  {
   "cell_type": "code",
   "execution_count": 5,
   "metadata": {},
   "outputs": [
    {
     "name": "stderr",
     "output_type": "stream",
     "text": [
      "100%|##########| 2427/2427 [11:31<00:00,  3.51it/s]\n"
     ]
    }
   ],
   "source": [
    "df = pd.DataFrame()\n",
    "for link in tqdm(links, ascii=True):\n",
    "    html = requests.get(link)\n",
    "    soup = BeautifulSoup(html.text, 'html.parser')\n",
    "\n",
    "    tmp = {} # словарь для временных данных\n",
    "    tmp['Ссылка'] = link\n",
    "\n",
    "    header = soup.find('h1')\n",
    "    if header:\n",
    "        header = header.text.strip().replace('\\xa0', ' ')\n",
    "    tmp['Заголовок'] = header\n",
    "\n",
    "    price = soup.find('div', class_ = 'price')\n",
    "    if price:\n",
    "        price = price.text.replace('\\xa0', ' ').strip().split('  ')\n",
    "    tmp['Цена'] = price\n",
    "\n",
    "    description = soup.find('div', class_='formatted-text')\n",
    "    if description:\n",
    "        description = description.text.strip().replace('\\xa0', ' ')\n",
    "    tmp['Описание'] = description\n",
    "    \n",
    "    try:\n",
    "        w0 = soup.find('table', id = 'w0')\n",
    "        if w0:\n",
    "            w0 = w0.find_all('tr')\n",
    "            for tr in w0:\n",
    "                key = tr.find('th').text.strip()\n",
    "                val = tr.find('td').text.strip()\n",
    "                tmp[key] = val\n",
    "    except:\n",
    "        print('w0 not found')\n",
    " \n",
    "    try:\n",
    "        w2 = soup.find('table', id = 'w2')\n",
    "        if w2:\n",
    "            w2 = w2.find_all('tr')\n",
    "            for tr in w2:\n",
    "                key = tr.find('th').text.strip()\n",
    "                val = tr.find('a').text.strip()\n",
    "                if key not in tmp.keys(): # записи в 2х таблицах могут \n",
    "                    tmp[key] = val # пересекаться, а зачем нам копии?\n",
    "    except:\n",
    "        print('w2 not found')\n",
    "\n",
    "    try:\n",
    "        properties = soup.find('div', class_ = 'properties m-t-2')\n",
    "        if properties:\n",
    "            properties = properties.find_all('div', class_ = 'property')\n",
    "            for property in properties:\n",
    "                key = property.find('div', class_ = 'property-name').text.strip()\n",
    "                val = property.find('div', class_ = 'property-value').text.strip()\n",
    "                if key not in tmp.keys(): # записи в 2х таблицах могут \n",
    "                    tmp[key] = val # пересекаться, а зачем нам копии?\n",
    "    except:\n",
    "        print('properties m-t-2 not found')\n",
    "    \n",
    "    try:\n",
    "        buildings = soup.find('div', 'around').find_all('div', 'group')\n",
    "        for building in buildings:\n",
    "            name = building.find('div','group-body').find('span').text\n",
    "            dist = building.find('div','group-body').find('div', 'company').find('span', 'company__distance').text\n",
    "            tmp[name] = dist   \n",
    "    except:\n",
    "        pass\n",
    "\n",
    "    df = pd.concat([df, pd.DataFrame(tmp)], ignore_index=True)\n",
    "\n",
    "df['Источник'] = 'gipernn'\n",
    "df['Сегмент'] = 'Жилая недвижимость'\n",
    "df['Подсегмент'] = 'Покупка домов/квартир/таунхаусов'\n",
    "df['Город'] = 'Нижний Новгород'\n",
    "df['Дата парсинга'] = str(date.today())"
   ]
  },
  {
   "attachments": {},
   "cell_type": "markdown",
   "metadata": {},
   "source": [
    "Посмотрим на результаты вкрадце"
   ]
  },
  {
   "cell_type": "code",
   "execution_count": 6,
   "metadata": {},
   "outputs": [
    {
     "data": {
      "text/html": [
       "<div>\n",
       "<style scoped>\n",
       "    .dataframe tbody tr th:only-of-type {\n",
       "        vertical-align: middle;\n",
       "    }\n",
       "\n",
       "    .dataframe tbody tr th {\n",
       "        vertical-align: top;\n",
       "    }\n",
       "\n",
       "    .dataframe thead th {\n",
       "        text-align: right;\n",
       "    }\n",
       "</style>\n",
       "<table border=\"1\" class=\"dataframe\">\n",
       "  <thead>\n",
       "    <tr style=\"text-align: right;\">\n",
       "      <th></th>\n",
       "      <th>Ссылка</th>\n",
       "      <th>Заголовок</th>\n",
       "      <th>Цена</th>\n",
       "      <th>Описание</th>\n",
       "      <th>№</th>\n",
       "      <th>Район</th>\n",
       "      <th>Адрес</th>\n",
       "      <th>Объект</th>\n",
       "      <th>Площадь</th>\n",
       "      <th>Площадь участка</th>\n",
       "      <th>...</th>\n",
       "      <th>Газ</th>\n",
       "      <th>Канализация</th>\n",
       "      <th>Ипотека</th>\n",
       "      <th>Гараж</th>\n",
       "      <th>Бассейн</th>\n",
       "      <th>Источник</th>\n",
       "      <th>Сегмент</th>\n",
       "      <th>Подсегмент</th>\n",
       "      <th>Город</th>\n",
       "      <th>Дата парсинга</th>\n",
       "    </tr>\n",
       "  </thead>\n",
       "  <tbody>\n",
       "    <tr>\n",
       "      <th>0</th>\n",
       "      <td>https://www.gipernn.ru/prodazha-domov/dom-selo...</td>\n",
       "      <td>Продажа дома (село Валки, улица Мира, 36)Лыско...</td>\n",
       "      <td>1 300 000 руб.</td>\n",
       "      <td>None</td>\n",
       "      <td>2793786</td>\n",
       "      <td>Лысковский муниципальный</td>\n",
       "      <td>село Валки, улица Мира, 36</td>\n",
       "      <td>дом</td>\n",
       "      <td>28 /</td>\n",
       "      <td>20 соток</td>\n",
       "      <td>...</td>\n",
       "      <td>NaN</td>\n",
       "      <td>NaN</td>\n",
       "      <td>NaN</td>\n",
       "      <td>NaN</td>\n",
       "      <td>NaN</td>\n",
       "      <td>gipernn</td>\n",
       "      <td>Жилая недвижимость</td>\n",
       "      <td>Покупка домов/квартир/таунхаусов</td>\n",
       "      <td>Нижний Новгород</td>\n",
       "      <td>2022-12-22</td>\n",
       "    </tr>\n",
       "    <tr>\n",
       "      <th>1</th>\n",
       "      <td>https://www.gipernn.ru/prodazha-domov/dom-selo...</td>\n",
       "      <td>Продажа дома (село Валки, улица Мира, 36)Лыско...</td>\n",
       "      <td></td>\n",
       "      <td>None</td>\n",
       "      <td>2793786</td>\n",
       "      <td>Лысковский муниципальный</td>\n",
       "      <td>село Валки, улица Мира, 36</td>\n",
       "      <td>дом</td>\n",
       "      <td>28 /</td>\n",
       "      <td>20 соток</td>\n",
       "      <td>...</td>\n",
       "      <td>NaN</td>\n",
       "      <td>NaN</td>\n",
       "      <td>NaN</td>\n",
       "      <td>NaN</td>\n",
       "      <td>NaN</td>\n",
       "      <td>gipernn</td>\n",
       "      <td>Жилая недвижимость</td>\n",
       "      <td>Покупка домов/квартир/таунхаусов</td>\n",
       "      <td>Нижний Новгород</td>\n",
       "      <td>2022-12-22</td>\n",
       "    </tr>\n",
       "    <tr>\n",
       "      <th>2</th>\n",
       "      <td>https://www.gipernn.ru/prodazha-domov/dom-selo...</td>\n",
       "      <td>Продажа дома (село Валки, улица Мира, 36)Лыско...</td>\n",
       "      <td></td>\n",
       "      <td>None</td>\n",
       "      <td>2793786</td>\n",
       "      <td>Лысковский муниципальный</td>\n",
       "      <td>село Валки, улица Мира, 36</td>\n",
       "      <td>дом</td>\n",
       "      <td>28 /</td>\n",
       "      <td>20 соток</td>\n",
       "      <td>...</td>\n",
       "      <td>NaN</td>\n",
       "      <td>NaN</td>\n",
       "      <td>NaN</td>\n",
       "      <td>NaN</td>\n",
       "      <td>NaN</td>\n",
       "      <td>gipernn</td>\n",
       "      <td>Жилая недвижимость</td>\n",
       "      <td>Покупка домов/квартир/таунхаусов</td>\n",
       "      <td>Нижний Новгород</td>\n",
       "      <td>2022-12-22</td>\n",
       "    </tr>\n",
       "    <tr>\n",
       "      <th>3</th>\n",
       "      <td>https://www.gipernn.ru/prodazha-domov/dom-selo...</td>\n",
       "      <td>Продажа дома (село Валки, улица Мира, 36)Лыско...</td>\n",
       "      <td></td>\n",
       "      <td>None</td>\n",
       "      <td>2793786</td>\n",
       "      <td>Лысковский муниципальный</td>\n",
       "      <td>село Валки, улица Мира, 36</td>\n",
       "      <td>дом</td>\n",
       "      <td>28 /</td>\n",
       "      <td>20 соток</td>\n",
       "      <td>...</td>\n",
       "      <td>NaN</td>\n",
       "      <td>NaN</td>\n",
       "      <td>NaN</td>\n",
       "      <td>NaN</td>\n",
       "      <td>NaN</td>\n",
       "      <td>gipernn</td>\n",
       "      <td>Жилая недвижимость</td>\n",
       "      <td>Покупка домов/квартир/таунхаусов</td>\n",
       "      <td>Нижний Новгород</td>\n",
       "      <td>2022-12-22</td>\n",
       "    </tr>\n",
       "    <tr>\n",
       "      <th>4</th>\n",
       "      <td>https://www.gipernn.ru/prodazha-domov/dom-selo...</td>\n",
       "      <td>Продажа дома (село Валки, улица Мира, 36)Лыско...</td>\n",
       "      <td></td>\n",
       "      <td>None</td>\n",
       "      <td>2793786</td>\n",
       "      <td>Лысковский муниципальный</td>\n",
       "      <td>село Валки, улица Мира, 36</td>\n",
       "      <td>дом</td>\n",
       "      <td>28 /</td>\n",
       "      <td>20 соток</td>\n",
       "      <td>...</td>\n",
       "      <td>NaN</td>\n",
       "      <td>NaN</td>\n",
       "      <td>NaN</td>\n",
       "      <td>NaN</td>\n",
       "      <td>NaN</td>\n",
       "      <td>gipernn</td>\n",
       "      <td>Жилая недвижимость</td>\n",
       "      <td>Покупка домов/квартир/таунхаусов</td>\n",
       "      <td>Нижний Новгород</td>\n",
       "      <td>2022-12-22</td>\n",
       "    </tr>\n",
       "  </tbody>\n",
       "</table>\n",
       "<p>5 rows × 31 columns</p>\n",
       "</div>"
      ],
      "text/plain": [
       "                                              Ссылка  \\\n",
       "0  https://www.gipernn.ru/prodazha-domov/dom-selo...   \n",
       "1  https://www.gipernn.ru/prodazha-domov/dom-selo...   \n",
       "2  https://www.gipernn.ru/prodazha-domov/dom-selo...   \n",
       "3  https://www.gipernn.ru/prodazha-domov/dom-selo...   \n",
       "4  https://www.gipernn.ru/prodazha-domov/dom-selo...   \n",
       "\n",
       "                                           Заголовок            Цена Описание  \\\n",
       "0  Продажа дома (село Валки, улица Мира, 36)Лыско...  1 300 000 руб.     None   \n",
       "1  Продажа дома (село Валки, улица Мира, 36)Лыско...                     None   \n",
       "2  Продажа дома (село Валки, улица Мира, 36)Лыско...                     None   \n",
       "3  Продажа дома (село Валки, улица Мира, 36)Лыско...                     None   \n",
       "4  Продажа дома (село Валки, улица Мира, 36)Лыско...                     None   \n",
       "\n",
       "         №                     Район                       Адрес Объект  \\\n",
       "0  2793786  Лысковский муниципальный  село Валки, улица Мира, 36    дом   \n",
       "1  2793786  Лысковский муниципальный  село Валки, улица Мира, 36    дом   \n",
       "2  2793786  Лысковский муниципальный  село Валки, улица Мира, 36    дом   \n",
       "3  2793786  Лысковский муниципальный  село Валки, улица Мира, 36    дом   \n",
       "4  2793786  Лысковский муниципальный  село Валки, улица Мира, 36    дом   \n",
       "\n",
       "  Площадь Площадь участка  ...  Газ Канализация Ипотека Гараж Бассейн  \\\n",
       "0    28 /        20 соток  ...  NaN         NaN     NaN   NaN     NaN   \n",
       "1    28 /        20 соток  ...  NaN         NaN     NaN   NaN     NaN   \n",
       "2    28 /        20 соток  ...  NaN         NaN     NaN   NaN     NaN   \n",
       "3    28 /        20 соток  ...  NaN         NaN     NaN   NaN     NaN   \n",
       "4    28 /        20 соток  ...  NaN         NaN     NaN   NaN     NaN   \n",
       "\n",
       "  Источник             Сегмент                        Подсегмент  \\\n",
       "0  gipernn  Жилая недвижимость  Покупка домов/квартир/таунхаусов   \n",
       "1  gipernn  Жилая недвижимость  Покупка домов/квартир/таунхаусов   \n",
       "2  gipernn  Жилая недвижимость  Покупка домов/квартир/таунхаусов   \n",
       "3  gipernn  Жилая недвижимость  Покупка домов/квартир/таунхаусов   \n",
       "4  gipernn  Жилая недвижимость  Покупка домов/квартир/таунхаусов   \n",
       "\n",
       "             Город Дата парсинга  \n",
       "0  Нижний Новгород    2022-12-22  \n",
       "1  Нижний Новгород    2022-12-22  \n",
       "2  Нижний Новгород    2022-12-22  \n",
       "3  Нижний Новгород    2022-12-22  \n",
       "4  Нижний Новгород    2022-12-22  \n",
       "\n",
       "[5 rows x 31 columns]"
      ]
     },
     "execution_count": 6,
     "metadata": {},
     "output_type": "execute_result"
    }
   ],
   "source": [
    "df.head()"
   ]
  },
  {
   "attachments": {},
   "cell_type": "markdown",
   "metadata": {},
   "source": [
    "Экспортируем таблицу"
   ]
  },
  {
   "cell_type": "code",
   "execution_count": 7,
   "metadata": {},
   "outputs": [],
   "source": [
    "df.to_excel('cottage-buy.xlsx', index=False)"
   ]
  }
 ],
 "metadata": {
  "kernelspec": {
   "display_name": "Python 3",
   "language": "python",
   "name": "python3"
  },
  "language_info": {
   "codemirror_mode": {
    "name": "ipython",
    "version": 3
   },
   "file_extension": ".py",
   "mimetype": "text/x-python",
   "name": "python",
   "nbconvert_exporter": "python",
   "pygments_lexer": "ipython3",
   "version": "3.11.1"
  },
  "orig_nbformat": 4,
  "vscode": {
   "interpreter": {
    "hash": "5238573367df39f7286bb46f9ff5f08f63a01a80960060ce41e3c79b190280fa"
   }
  }
 },
 "nbformat": 4,
 "nbformat_minor": 2
}
