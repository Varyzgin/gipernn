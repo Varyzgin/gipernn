{
 "cells": [
  {
   "cell_type": "code",
   "execution_count": 1,
   "metadata": {},
   "outputs": [],
   "source": [
    "import requests\n",
    "import time\n",
    "import re\n",
    "import openpyxl\n",
    "import pandas as pd\n",
    "import numpy as np\n",
    "from tqdm import tqdm\n",
    "from bs4 import BeautifulSoup\n",
    "from datetime import date"
   ]
  },
  {
   "cell_type": "code",
   "execution_count": 2,
   "metadata": {},
   "outputs": [],
   "source": [
    "GLOBAL = 'https://www.gipernn.ru'\n",
    "LINK = 'https://www.gipernn.ru/prodazha-proizvodstvennyh-ploschadey?per-page=50'"
   ]
  },
  {
   "cell_type": "markdown",
   "metadata": {},
   "source": [
    "Добыча колличества ссылок"
   ]
  },
  {
   "cell_type": "code",
   "execution_count": 3,
   "metadata": {},
   "outputs": [
    {
     "name": "stdout",
     "output_type": "stream",
     "text": [
      "35\n"
     ]
    }
   ],
   "source": [
    "html = requests.get(LINK)\n",
    "soup = BeautifulSoup(html.text, 'html.parser')\n",
    "count = soup.find('div', class_='count')\n",
    "\n",
    "count = int(count.text.split(':')[1].strip())\n",
    "page_count = int(np.ceil(count / 50))\n",
    "\n",
    "print(count)"
   ]
  },
  {
   "cell_type": "markdown",
   "metadata": {},
   "source": [
    "Составляем массив ссылок"
   ]
  },
  {
   "cell_type": "code",
   "execution_count": 4,
   "metadata": {},
   "outputs": [
    {
     "name": "stderr",
     "output_type": "stream",
     "text": [
      "100%|##########| 2/2 [00:00<00:00,  2.82it/s]"
     ]
    },
    {
     "name": "stdout",
     "output_type": "stream",
     "text": [
      "35\n"
     ]
    },
    {
     "name": "stderr",
     "output_type": "stream",
     "text": [
      "\n"
     ]
    }
   ],
   "source": [
    "links = []\n",
    "for page in tqdm(range(page_count + 1), ascii=True):\n",
    "    html = requests.get(f\"{LINK}&page={page}\")\n",
    "    soup = BeautifulSoup(html.text, 'html.parser')\n",
    "    trs = soup.find('tbody').find_all('tr')\n",
    "    for tr in trs:\n",
    "        link = tr.find('a')\n",
    "        if link:\n",
    "            link = link.get('href')\n",
    "            link = GLOBAL + link\n",
    "            links.append(link)\n",
    "    links = list(set(links))\n",
    "print(len(links))   \n"
   ]
  },
  {
   "cell_type": "markdown",
   "metadata": {},
   "source": [
    "Составление своей базы данных"
   ]
  },
  {
   "cell_type": "code",
   "execution_count": 5,
   "metadata": {},
   "outputs": [
    {
     "name": "stderr",
     "output_type": "stream",
     "text": [
      "100%|##########| 35/35 [00:08<00:00,  4.04it/s]\n"
     ]
    }
   ],
   "source": [
    "df = pd.DataFrame()\n",
    "for link in tqdm(links, ascii=True):\n",
    "    html = requests.get(link)\n",
    "    soup = BeautifulSoup(html.text, 'html.parser')\n",
    "\n",
    "    tmp = {} # словарь для временных данных\n",
    "    tmp['Ссылка'] = link\n",
    "\n",
    "    header = soup.find('h1')\n",
    "    if header:\n",
    "        header = header.text.strip().replace('\\xa0', ' ')\n",
    "    tmp['Заголовок'] = header\n",
    "\n",
    "    price = soup.find('div', class_ = 'price')\n",
    "    if price:\n",
    "        price = price.text.replace('\\xa0', ' ').strip().split('  ')\n",
    "    tmp['Цена'] = price\n",
    "\n",
    "    description = soup.find('div', class_='formatted-text')\n",
    "    if description:\n",
    "        description = description.text.strip().replace('\\xa0', ' ')\n",
    "    tmp['Описание'] = description\n",
    "    \n",
    "    try:\n",
    "        w0 = soup.find('table', id = 'w0')\n",
    "        if w0:\n",
    "            w0 = w0.find_all('tr')\n",
    "            for tr in w0:\n",
    "                key = tr.find('th').text.strip()\n",
    "                val = tr.find('td').text.strip()\n",
    "                tmp[key] = val\n",
    "    except:\n",
    "        print('w0 not found')\n",
    " \n",
    "    try:\n",
    "        w2 = soup.find('table', id = 'w2')\n",
    "        if w2:\n",
    "            w2 = w2.find_all('tr')\n",
    "            for tr in w2:\n",
    "                key = tr.find('th').text.strip()\n",
    "                val = tr.find('td').text.strip()\n",
    "                if key not in tmp.keys(): # записи в 2х таблицах могут \n",
    "                    tmp[key] = val # пересекаться, а зачем нам копии?\n",
    "    except:\n",
    "        print('w2 not found')\n",
    "\n",
    "    try:\n",
    "        properties = soup.find('div', class_ = 'properties m-t-2')\n",
    "        if properties:\n",
    "            properties = properties.find_all('div', class_ = 'property')\n",
    "            for property in properties:\n",
    "                key = property.find('div', class_ = 'property-name').text.strip()\n",
    "                val = property.find('div', class_ = 'property-value').text.strip()\n",
    "                if key not in tmp.keys(): # записи в 2х таблицах могут \n",
    "                    tmp[key] = val # пересекаться, а зачем нам копии?\n",
    "    except:\n",
    "        print('properties m-t-2 not found')\n",
    "    \n",
    "    try:\n",
    "        buildings = soup.find('div', 'around').find_all('div', 'group')\n",
    "        for building in buildings:\n",
    "            name = building.find('div','group-body').find('span').text\n",
    "            dist = building.find('div','group-body').find('div', 'company').find('span', 'company__distance').text\n",
    "            tmp[name] = dist   \n",
    "    except:\n",
    "        pass\n",
    "\n",
    "    df = pd.concat([df, pd.DataFrame(tmp)], ignore_index=True)\n",
    "\n",
    "df['Источник'] = 'gipernn'\n",
    "df['Сегмент'] = 'Комерческая недвижимость'\n",
    "df['Подсегмент'] = 'Продажа производственных площадей'\n",
    "df['Город'] = 'Нижний Новгород'\n",
    "df['Дата парсинга'] = str(date.today())"
   ]
  },
  {
   "attachments": {},
   "cell_type": "markdown",
   "metadata": {},
   "source": [
    "Посмотрим на результаты вкрадце"
   ]
  },
  {
   "cell_type": "code",
   "execution_count": 6,
   "metadata": {},
   "outputs": [
    {
     "data": {
      "text/html": [
       "<div>\n",
       "<style scoped>\n",
       "    .dataframe tbody tr th:only-of-type {\n",
       "        vertical-align: middle;\n",
       "    }\n",
       "\n",
       "    .dataframe tbody tr th {\n",
       "        vertical-align: top;\n",
       "    }\n",
       "\n",
       "    .dataframe thead th {\n",
       "        text-align: right;\n",
       "    }\n",
       "</style>\n",
       "<table border=\"1\" class=\"dataframe\">\n",
       "  <thead>\n",
       "    <tr style=\"text-align: right;\">\n",
       "      <th></th>\n",
       "      <th>Ссылка</th>\n",
       "      <th>Заголовок</th>\n",
       "      <th>Цена</th>\n",
       "      <th>Описание</th>\n",
       "      <th>№</th>\n",
       "      <th>Район</th>\n",
       "      <th>Адрес</th>\n",
       "      <th>Площадь</th>\n",
       "      <th>Этажность</th>\n",
       "      <th>Объект</th>\n",
       "      <th>...</th>\n",
       "      <th>Торг уместен</th>\n",
       "      <th>Электричество</th>\n",
       "      <th>Водопровод</th>\n",
       "      <th>Газ</th>\n",
       "      <th>Канализация</th>\n",
       "      <th>Источник</th>\n",
       "      <th>Сегмент</th>\n",
       "      <th>Подсегмент</th>\n",
       "      <th>Город</th>\n",
       "      <th>Дата парсинга</th>\n",
       "    </tr>\n",
       "  </thead>\n",
       "  <tbody>\n",
       "    <tr>\n",
       "      <th>0</th>\n",
       "      <td>https://www.gipernn.ru/prodazha-zdaniy/ul-mars...</td>\n",
       "      <td>Продажа здания на ул. Маршала Казакова, д. 3БК...</td>\n",
       "      <td>22 190 000 руб.</td>\n",
       "      <td>Продается производственное здание (в настоящий...</td>\n",
       "      <td>2830993</td>\n",
       "      <td>Канавинский</td>\n",
       "      <td>ул. Маршала Казакова, д. 3Б</td>\n",
       "      <td>471 м²</td>\n",
       "      <td>2</td>\n",
       "      <td>отдельно стоящее здание</td>\n",
       "      <td>...</td>\n",
       "      <td>NaN</td>\n",
       "      <td>NaN</td>\n",
       "      <td>NaN</td>\n",
       "      <td>NaN</td>\n",
       "      <td>NaN</td>\n",
       "      <td>gipernn</td>\n",
       "      <td>Комерческая недвижимость</td>\n",
       "      <td>Продажа производственных площадей</td>\n",
       "      <td>Нижний Новгород</td>\n",
       "      <td>2022-12-22</td>\n",
       "    </tr>\n",
       "    <tr>\n",
       "      <th>1</th>\n",
       "      <td>https://www.gipernn.ru/prodazha-zdaniy/moskovs...</td>\n",
       "      <td>Продажа здания склада пл. 1084 кв. м с ж/д туп...</td>\n",
       "      <td>40 000 000 руб.</td>\n",
       "      <td>None</td>\n",
       "      <td>655559</td>\n",
       "      <td>Московский</td>\n",
       "      <td>NaN</td>\n",
       "      <td>1 084,3 м²</td>\n",
       "      <td>1</td>\n",
       "      <td>отдельно стоящее здание</td>\n",
       "      <td>...</td>\n",
       "      <td>NaN</td>\n",
       "      <td>NaN</td>\n",
       "      <td>NaN</td>\n",
       "      <td>NaN</td>\n",
       "      <td>NaN</td>\n",
       "      <td>gipernn</td>\n",
       "      <td>Комерческая недвижимость</td>\n",
       "      <td>Продажа производственных площадей</td>\n",
       "      <td>Нижний Новгород</td>\n",
       "      <td>2022-12-22</td>\n",
       "    </tr>\n",
       "    <tr>\n",
       "      <th>2</th>\n",
       "      <td>https://www.gipernn.ru/prodazha-imuschestvenny...</td>\n",
       "      <td>Продажа имущественного комплексаАвтозаводский ...</td>\n",
       "      <td>6 500 000 руб.</td>\n",
       "      <td>Автозаводский район, пос.Доскино.Под строитель...</td>\n",
       "      <td>2856616</td>\n",
       "      <td>Автозаводский</td>\n",
       "      <td>посёлок Доскино, пос. Доскино</td>\n",
       "      <td>NaN</td>\n",
       "      <td>NaN</td>\n",
       "      <td>имущественный комплекс</td>\n",
       "      <td>...</td>\n",
       "      <td>NaN</td>\n",
       "      <td>NaN</td>\n",
       "      <td>NaN</td>\n",
       "      <td>NaN</td>\n",
       "      <td>NaN</td>\n",
       "      <td>gipernn</td>\n",
       "      <td>Комерческая недвижимость</td>\n",
       "      <td>Продажа производственных площадей</td>\n",
       "      <td>Нижний Новгород</td>\n",
       "      <td>2022-12-22</td>\n",
       "    </tr>\n",
       "    <tr>\n",
       "      <th>3</th>\n",
       "      <td>https://www.gipernn.ru/prodazha-zdaniy/ul-kono...</td>\n",
       "      <td>Продажа здания на ул. Коновалова, д. 5АСормовс...</td>\n",
       "      <td>16 000 000 руб.</td>\n",
       "      <td>Сормовский р-н, ул. Коновалова,продается база ...</td>\n",
       "      <td>2849805</td>\n",
       "      <td>Сормовский</td>\n",
       "      <td>ул. Коновалова, д. 5А</td>\n",
       "      <td>600 м²</td>\n",
       "      <td>1</td>\n",
       "      <td>отдельно стоящее здание</td>\n",
       "      <td>...</td>\n",
       "      <td>NaN</td>\n",
       "      <td>NaN</td>\n",
       "      <td>NaN</td>\n",
       "      <td>NaN</td>\n",
       "      <td>NaN</td>\n",
       "      <td>gipernn</td>\n",
       "      <td>Комерческая недвижимость</td>\n",
       "      <td>Продажа производственных площадей</td>\n",
       "      <td>Нижний Новгород</td>\n",
       "      <td>2022-12-22</td>\n",
       "    </tr>\n",
       "    <tr>\n",
       "      <th>4</th>\n",
       "      <td>https://www.gipernn.ru/prodazha-pomescheniy/po...</td>\n",
       "      <td>Продажа помещения на посёлок Стахановский, ул....</td>\n",
       "      <td>11 000 000 руб.</td>\n",
       "      <td>Продается помещение под производство или автор...</td>\n",
       "      <td>2858339</td>\n",
       "      <td>Автозаводский</td>\n",
       "      <td>посёлок Стахановский, ул. Аркадия Гайдара, д. 93</td>\n",
       "      <td>400 м²</td>\n",
       "      <td>NaN</td>\n",
       "      <td>помещение в нежилом здании</td>\n",
       "      <td>...</td>\n",
       "      <td>NaN</td>\n",
       "      <td>NaN</td>\n",
       "      <td>NaN</td>\n",
       "      <td>NaN</td>\n",
       "      <td>NaN</td>\n",
       "      <td>gipernn</td>\n",
       "      <td>Комерческая недвижимость</td>\n",
       "      <td>Продажа производственных площадей</td>\n",
       "      <td>Нижний Новгород</td>\n",
       "      <td>2022-12-22</td>\n",
       "    </tr>\n",
       "  </tbody>\n",
       "</table>\n",
       "<p>5 rows × 29 columns</p>\n",
       "</div>"
      ],
      "text/plain": [
       "                                              Ссылка  \\\n",
       "0  https://www.gipernn.ru/prodazha-zdaniy/ul-mars...   \n",
       "1  https://www.gipernn.ru/prodazha-zdaniy/moskovs...   \n",
       "2  https://www.gipernn.ru/prodazha-imuschestvenny...   \n",
       "3  https://www.gipernn.ru/prodazha-zdaniy/ul-kono...   \n",
       "4  https://www.gipernn.ru/prodazha-pomescheniy/po...   \n",
       "\n",
       "                                           Заголовок             Цена  \\\n",
       "0  Продажа здания на ул. Маршала Казакова, д. 3БК...  22 190 000 руб.   \n",
       "1  Продажа здания склада пл. 1084 кв. м с ж/д туп...  40 000 000 руб.   \n",
       "2  Продажа имущественного комплексаАвтозаводский ...   6 500 000 руб.   \n",
       "3  Продажа здания на ул. Коновалова, д. 5АСормовс...  16 000 000 руб.   \n",
       "4  Продажа помещения на посёлок Стахановский, ул....  11 000 000 руб.   \n",
       "\n",
       "                                            Описание        №          Район  \\\n",
       "0  Продается производственное здание (в настоящий...  2830993    Канавинский   \n",
       "1                                               None   655559     Московский   \n",
       "2  Автозаводский район, пос.Доскино.Под строитель...  2856616  Автозаводский   \n",
       "3  Сормовский р-н, ул. Коновалова,продается база ...  2849805     Сормовский   \n",
       "4  Продается помещение под производство или автор...  2858339  Автозаводский   \n",
       "\n",
       "                                              Адрес     Площадь Этажность  \\\n",
       "0                       ул. Маршала Казакова, д. 3Б      471 м²         2   \n",
       "1                                               NaN  1 084,3 м²         1   \n",
       "2                     посёлок Доскино, пос. Доскино         NaN       NaN   \n",
       "3                             ул. Коновалова, д. 5А      600 м²         1   \n",
       "4  посёлок Стахановский, ул. Аркадия Гайдара, д. 93      400 м²       NaN   \n",
       "\n",
       "                       Объект  ... Торг уместен Электричество Водопровод  Газ  \\\n",
       "0     отдельно стоящее здание  ...          NaN           NaN        NaN  NaN   \n",
       "1     отдельно стоящее здание  ...          NaN           NaN        NaN  NaN   \n",
       "2      имущественный комплекс  ...          NaN           NaN        NaN  NaN   \n",
       "3     отдельно стоящее здание  ...          NaN           NaN        NaN  NaN   \n",
       "4  помещение в нежилом здании  ...          NaN           NaN        NaN  NaN   \n",
       "\n",
       "  Канализация Источник                   Сегмент  \\\n",
       "0         NaN  gipernn  Комерческая недвижимость   \n",
       "1         NaN  gipernn  Комерческая недвижимость   \n",
       "2         NaN  gipernn  Комерческая недвижимость   \n",
       "3         NaN  gipernn  Комерческая недвижимость   \n",
       "4         NaN  gipernn  Комерческая недвижимость   \n",
       "\n",
       "                          Подсегмент            Город Дата парсинга  \n",
       "0  Продажа производственных площадей  Нижний Новгород    2022-12-22  \n",
       "1  Продажа производственных площадей  Нижний Новгород    2022-12-22  \n",
       "2  Продажа производственных площадей  Нижний Новгород    2022-12-22  \n",
       "3  Продажа производственных площадей  Нижний Новгород    2022-12-22  \n",
       "4  Продажа производственных площадей  Нижний Новгород    2022-12-22  \n",
       "\n",
       "[5 rows x 29 columns]"
      ]
     },
     "execution_count": 6,
     "metadata": {},
     "output_type": "execute_result"
    }
   ],
   "source": [
    "df.head()"
   ]
  },
  {
   "attachments": {},
   "cell_type": "markdown",
   "metadata": {},
   "source": [
    "Экспортируем таблицу"
   ]
  },
  {
   "cell_type": "code",
   "execution_count": 7,
   "metadata": {},
   "outputs": [],
   "source": [
    "df.to_excel('manufacture-buy.xlsx', index=False)"
   ]
  }
 ],
 "metadata": {
  "kernelspec": {
   "display_name": "Python 3",
   "language": "python",
   "name": "python3"
  },
  "language_info": {
   "codemirror_mode": {
    "name": "ipython",
    "version": 3
   },
   "file_extension": ".py",
   "mimetype": "text/x-python",
   "name": "python",
   "nbconvert_exporter": "python",
   "pygments_lexer": "ipython3",
   "version": "3.11.1"
  },
  "orig_nbformat": 4,
  "vscode": {
   "interpreter": {
    "hash": "5238573367df39f7286bb46f9ff5f08f63a01a80960060ce41e3c79b190280fa"
   }
  }
 },
 "nbformat": 4,
 "nbformat_minor": 2
}
