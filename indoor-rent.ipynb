{
 "cells": [
  {
   "cell_type": "code",
   "execution_count": 1,
   "metadata": {},
   "outputs": [],
   "source": [
    "import requests\n",
    "import time\n",
    "import re\n",
    "import openpyxl\n",
    "import pandas as pd\n",
    "import numpy as np\n",
    "from tqdm import tqdm\n",
    "from bs4 import BeautifulSoup\n",
    "from datetime import date"
   ]
  },
  {
   "cell_type": "code",
   "execution_count": 2,
   "metadata": {},
   "outputs": [],
   "source": [
    "GLOBAL = 'https://www.gipernn.ru'\n",
    "LINK = 'https://www.gipernn.ru/arenda-pomescheniy?per-page=50'"
   ]
  },
  {
   "cell_type": "markdown",
   "metadata": {},
   "source": [
    "Добыча колличества ссылок"
   ]
  },
  {
   "cell_type": "code",
   "execution_count": 3,
   "metadata": {},
   "outputs": [
    {
     "name": "stdout",
     "output_type": "stream",
     "text": [
      "735\n"
     ]
    }
   ],
   "source": [
    "html = requests.get(LINK)\n",
    "soup = BeautifulSoup(html.text, 'html.parser')\n",
    "count = soup.find('div', class_='count')\n",
    "\n",
    "count = int(count.text.split(':')[1].strip())\n",
    "page_count = int(np.ceil(count / 50))\n",
    "\n",
    "print(count)"
   ]
  },
  {
   "cell_type": "markdown",
   "metadata": {},
   "source": [
    "Составляем массив ссылок"
   ]
  },
  {
   "cell_type": "code",
   "execution_count": 4,
   "metadata": {},
   "outputs": [
    {
     "name": "stderr",
     "output_type": "stream",
     "text": [
      "100%|##########| 16/16 [00:07<00:00,  2.24it/s]"
     ]
    },
    {
     "name": "stdout",
     "output_type": "stream",
     "text": [
      "735\n"
     ]
    },
    {
     "name": "stderr",
     "output_type": "stream",
     "text": [
      "\n"
     ]
    }
   ],
   "source": [
    "links = []\n",
    "for page in tqdm(range(page_count + 1), ascii=True):\n",
    "    html = requests.get(f\"{LINK}&page={page}\")\n",
    "    soup = BeautifulSoup(html.text, 'html.parser')\n",
    "    trs = soup.find('tbody').find_all('tr')\n",
    "    for tr in trs:\n",
    "        link = tr.find('a')\n",
    "        if link:\n",
    "            link = link.get('href')\n",
    "            link = GLOBAL + link\n",
    "            links.append(link)\n",
    "    links = list(set(links))\n",
    "print(len(links))   \n"
   ]
  },
  {
   "cell_type": "markdown",
   "metadata": {},
   "source": [
    "Составление своей базы данных"
   ]
  },
  {
   "cell_type": "code",
   "execution_count": 5,
   "metadata": {},
   "outputs": [
    {
     "name": "stderr",
     "output_type": "stream",
     "text": [
      "100%|##########| 735/735 [03:53<00:00,  3.15it/s]\n"
     ]
    }
   ],
   "source": [
    "df = pd.DataFrame()\n",
    "for link in tqdm(links, ascii=True):\n",
    "    html = requests.get(link)\n",
    "    soup = BeautifulSoup(html.text, 'html.parser')\n",
    "\n",
    "    tmp = {} # словарь для временных данных\n",
    "    tmp['Ссылка'] = link\n",
    "\n",
    "    header = soup.find('h1')\n",
    "    if header:\n",
    "        header = header.text.strip().replace('\\xa0', ' ')\n",
    "    tmp['Заголовок'] = header\n",
    "\n",
    "    price = soup.find('div', class_ = 'price')\n",
    "    if price:\n",
    "        price = price.text.replace('\\xa0', ' ').strip().split('  ')\n",
    "    tmp['Цена'] = price\n",
    "\n",
    "    description = soup.find('div', class_='formatted-text')\n",
    "    if description:\n",
    "        description = description.text.strip().replace('\\xa0', ' ')\n",
    "    tmp['Описание'] = description\n",
    "    \n",
    "    try:\n",
    "        w0 = soup.find('table', id = 'w0')\n",
    "        if w0:\n",
    "            w0 = w0.find_all('tr')\n",
    "            for tr in w0:\n",
    "                key = tr.find('th').text.strip()\n",
    "                val = tr.find('td').text.strip()\n",
    "                tmp[key] = val\n",
    "    except:\n",
    "        print('w0 not found')\n",
    " \n",
    "    try:\n",
    "        w2 = soup.find('table', id = 'w2')\n",
    "        if w2:\n",
    "            w2 = w2.find_all('tr')\n",
    "            for tr in w2:\n",
    "                key = tr.find('th').text.strip()\n",
    "                val = tr.find('td').text.strip()\n",
    "                if key not in tmp.keys(): # записи в 2х таблицах могут \n",
    "                    tmp[key] = val # пересекаться, а зачем нам копии?\n",
    "    except:\n",
    "        print('w2 not found')\n",
    "\n",
    "    try:\n",
    "        properties = soup.find('div', class_ = 'properties m-t-2')\n",
    "        if properties:\n",
    "            properties = properties.find_all('div', class_ = 'property')\n",
    "            for property in properties:\n",
    "                key = property.find('div', class_ = 'property-name').text.strip()\n",
    "                val = property.find('div', class_ = 'property-value').text.strip()\n",
    "                if key not in tmp.keys(): # записи в 2х таблицах могут \n",
    "                    tmp[key] = val # пересекаться, а зачем нам копии?\n",
    "    except:\n",
    "        print('properties m-t-2 not found')\n",
    "    \n",
    "    try:\n",
    "        buildings = soup.find('div', 'around').find_all('div', 'group')\n",
    "        for building in buildings:\n",
    "            name = building.find('div','group-body').find('span').text\n",
    "            dist = building.find('div','group-body').find('div', 'company').find('span', 'company__distance').text\n",
    "            tmp[name] = dist   \n",
    "    except:\n",
    "        pass\n",
    "\n",
    "    df = pd.concat([df, pd.DataFrame(tmp)], ignore_index=True)\n",
    "\n",
    "df['Источник'] = 'gipernn'\n",
    "df['Сегмент'] = 'Комерческая недвижимость'\n",
    "df['Подсегмент'] = 'Аренда помещений'\n",
    "df['Город'] = 'Нижний Новгород'\n",
    "df['Дата парсинга'] = str(date.today())"
   ]
  },
  {
   "attachments": {},
   "cell_type": "markdown",
   "metadata": {},
   "source": [
    "Посмотрим на результаты вкрадце"
   ]
  },
  {
   "cell_type": "code",
   "execution_count": 6,
   "metadata": {},
   "outputs": [
    {
     "data": {
      "text/html": [
       "<div>\n",
       "<style scoped>\n",
       "    .dataframe tbody tr th:only-of-type {\n",
       "        vertical-align: middle;\n",
       "    }\n",
       "\n",
       "    .dataframe tbody tr th {\n",
       "        vertical-align: top;\n",
       "    }\n",
       "\n",
       "    .dataframe thead th {\n",
       "        text-align: right;\n",
       "    }\n",
       "</style>\n",
       "<table border=\"1\" class=\"dataframe\">\n",
       "  <thead>\n",
       "    <tr style=\"text-align: right;\">\n",
       "      <th></th>\n",
       "      <th>Ссылка</th>\n",
       "      <th>Заголовок</th>\n",
       "      <th>Цена</th>\n",
       "      <th>Описание</th>\n",
       "      <th>№</th>\n",
       "      <th>Район</th>\n",
       "      <th>Адрес</th>\n",
       "      <th>Площадь</th>\n",
       "      <th>Год постройки</th>\n",
       "      <th>Этаж / этажность</th>\n",
       "      <th>...</th>\n",
       "      <th>Торг уместен</th>\n",
       "      <th>Телефон</th>\n",
       "      <th>Интернет</th>\n",
       "      <th>Мебель</th>\n",
       "      <th>Этажность</th>\n",
       "      <th>Источник</th>\n",
       "      <th>Сегмент</th>\n",
       "      <th>Подсегмент</th>\n",
       "      <th>Город</th>\n",
       "      <th>Дата парсинга</th>\n",
       "    </tr>\n",
       "  </thead>\n",
       "  <tbody>\n",
       "    <tr>\n",
       "      <th>0</th>\n",
       "      <td>https://www.gipernn.ru/arenda-pomescheniy/ul-p...</td>\n",
       "      <td>Аренда помещения на ул. Порт-АртурскаяЛенински...</td>\n",
       "      <td>720 000 руб./мес.</td>\n",
       "      <td>На охраняемой территории предприятия сдается х...</td>\n",
       "      <td>2831160</td>\n",
       "      <td>Ленинский</td>\n",
       "      <td>ул. Порт-Артурская</td>\n",
       "      <td>4 000 м²</td>\n",
       "      <td>1980</td>\n",
       "      <td>1 / 1</td>\n",
       "      <td>...</td>\n",
       "      <td>NaN</td>\n",
       "      <td>NaN</td>\n",
       "      <td>NaN</td>\n",
       "      <td>NaN</td>\n",
       "      <td>NaN</td>\n",
       "      <td>gipernn</td>\n",
       "      <td>Комерческая недвижимость</td>\n",
       "      <td>Аренда помещений</td>\n",
       "      <td>Нижний Новгород</td>\n",
       "      <td>2022-12-22</td>\n",
       "    </tr>\n",
       "    <tr>\n",
       "      <th>1</th>\n",
       "      <td>https://www.gipernn.ru/arenda-pomescheniy/ul-m...</td>\n",
       "      <td>Аренда помещения на ул. Максима Горького, д. 2...</td>\n",
       "      <td>103 480 руб./мес.</td>\n",
       "      <td>Красная линия.\\n\\nПервый этаж жилого дома «ЖК ...</td>\n",
       "      <td>2826909</td>\n",
       "      <td>Нижегородский</td>\n",
       "      <td>ул. Максима Горького, д. 24</td>\n",
       "      <td>79,6 м²</td>\n",
       "      <td>NaN</td>\n",
       "      <td>1 / 12</td>\n",
       "      <td>...</td>\n",
       "      <td>NaN</td>\n",
       "      <td>NaN</td>\n",
       "      <td>NaN</td>\n",
       "      <td>NaN</td>\n",
       "      <td>NaN</td>\n",
       "      <td>gipernn</td>\n",
       "      <td>Комерческая недвижимость</td>\n",
       "      <td>Аренда помещений</td>\n",
       "      <td>Нижний Новгород</td>\n",
       "      <td>2022-12-22</td>\n",
       "    </tr>\n",
       "    <tr>\n",
       "      <th>2</th>\n",
       "      <td>https://www.gipernn.ru/arenda-pomescheniy/ul-u...</td>\n",
       "      <td>Аренда помещения на ул. Ульянова, д. 12Нижегор...</td>\n",
       "      <td>170 400 руб./мес.</td>\n",
       "      <td>Сдается коммерческое помещение - 284 кв.м. Сам...</td>\n",
       "      <td>2809347</td>\n",
       "      <td>Нижегородский</td>\n",
       "      <td>ул. Ульянова, д. 12</td>\n",
       "      <td>284 м²</td>\n",
       "      <td>NaN</td>\n",
       "      <td>1 / 5</td>\n",
       "      <td>...</td>\n",
       "      <td>NaN</td>\n",
       "      <td>NaN</td>\n",
       "      <td>NaN</td>\n",
       "      <td>NaN</td>\n",
       "      <td>NaN</td>\n",
       "      <td>gipernn</td>\n",
       "      <td>Комерческая недвижимость</td>\n",
       "      <td>Аренда помещений</td>\n",
       "      <td>Нижний Новгород</td>\n",
       "      <td>2022-12-22</td>\n",
       "    </tr>\n",
       "    <tr>\n",
       "      <th>3</th>\n",
       "      <td>https://www.gipernn.ru/arenda-pomescheniy/ul-z...</td>\n",
       "      <td>Аренда помещения на ул. Заломова, д. 13БНижего...</td>\n",
       "      <td>37 700 руб./мес.</td>\n",
       "      <td>Офис расположен в Нижегородском районе, на ули...</td>\n",
       "      <td>2838642</td>\n",
       "      <td>Нижегородский</td>\n",
       "      <td>ул. Заломова, д. 13Б</td>\n",
       "      <td>58 м²</td>\n",
       "      <td>NaN</td>\n",
       "      <td>1 / 1</td>\n",
       "      <td>...</td>\n",
       "      <td>NaN</td>\n",
       "      <td>NaN</td>\n",
       "      <td>NaN</td>\n",
       "      <td>NaN</td>\n",
       "      <td>NaN</td>\n",
       "      <td>gipernn</td>\n",
       "      <td>Комерческая недвижимость</td>\n",
       "      <td>Аренда помещений</td>\n",
       "      <td>Нижний Новгород</td>\n",
       "      <td>2022-12-22</td>\n",
       "    </tr>\n",
       "    <tr>\n",
       "      <th>4</th>\n",
       "      <td>https://www.gipernn.ru/arenda-pomescheniy/ul-k...</td>\n",
       "      <td>Аренда помещения на ул. Культуры, д. 11 к1Сорм...</td>\n",
       "      <td>80 000 руб./мес.</td>\n",
       "      <td>Сдаётся торговое помещение с отдельным входом ...</td>\n",
       "      <td>2820851</td>\n",
       "      <td>Сормовский</td>\n",
       "      <td>ул. Культуры, д. 11 к1</td>\n",
       "      <td>70 м²</td>\n",
       "      <td>NaN</td>\n",
       "      <td>1 / 9</td>\n",
       "      <td>...</td>\n",
       "      <td>NaN</td>\n",
       "      <td>NaN</td>\n",
       "      <td>NaN</td>\n",
       "      <td>NaN</td>\n",
       "      <td>NaN</td>\n",
       "      <td>gipernn</td>\n",
       "      <td>Комерческая недвижимость</td>\n",
       "      <td>Аренда помещений</td>\n",
       "      <td>Нижний Новгород</td>\n",
       "      <td>2022-12-22</td>\n",
       "    </tr>\n",
       "  </tbody>\n",
       "</table>\n",
       "<p>5 rows × 30 columns</p>\n",
       "</div>"
      ],
      "text/plain": [
       "                                              Ссылка  \\\n",
       "0  https://www.gipernn.ru/arenda-pomescheniy/ul-p...   \n",
       "1  https://www.gipernn.ru/arenda-pomescheniy/ul-m...   \n",
       "2  https://www.gipernn.ru/arenda-pomescheniy/ul-u...   \n",
       "3  https://www.gipernn.ru/arenda-pomescheniy/ul-z...   \n",
       "4  https://www.gipernn.ru/arenda-pomescheniy/ul-k...   \n",
       "\n",
       "                                           Заголовок               Цена  \\\n",
       "0  Аренда помещения на ул. Порт-АртурскаяЛенински...  720 000 руб./мес.   \n",
       "1  Аренда помещения на ул. Максима Горького, д. 2...  103 480 руб./мес.   \n",
       "2  Аренда помещения на ул. Ульянова, д. 12Нижегор...  170 400 руб./мес.   \n",
       "3  Аренда помещения на ул. Заломова, д. 13БНижего...   37 700 руб./мес.   \n",
       "4  Аренда помещения на ул. Культуры, д. 11 к1Сорм...   80 000 руб./мес.   \n",
       "\n",
       "                                            Описание        №          Район  \\\n",
       "0  На охраняемой территории предприятия сдается х...  2831160      Ленинский   \n",
       "1  Красная линия.\\n\\nПервый этаж жилого дома «ЖК ...  2826909  Нижегородский   \n",
       "2  Сдается коммерческое помещение - 284 кв.м. Сам...  2809347  Нижегородский   \n",
       "3  Офис расположен в Нижегородском районе, на ули...  2838642  Нижегородский   \n",
       "4  Сдаётся торговое помещение с отдельным входом ...  2820851     Сормовский   \n",
       "\n",
       "                         Адрес   Площадь Год постройки Этаж / этажность  ...  \\\n",
       "0           ул. Порт-Артурская  4 000 м²          1980            1 / 1  ...   \n",
       "1  ул. Максима Горького, д. 24   79,6 м²           NaN           1 / 12  ...   \n",
       "2          ул. Ульянова, д. 12    284 м²           NaN            1 / 5  ...   \n",
       "3         ул. Заломова, д. 13Б     58 м²           NaN            1 / 1  ...   \n",
       "4       ул. Культуры, д. 11 к1     70 м²           NaN            1 / 9  ...   \n",
       "\n",
       "  Торг уместен Телефон Интернет Мебель Этажность Источник  \\\n",
       "0          NaN     NaN      NaN    NaN       NaN  gipernn   \n",
       "1          NaN     NaN      NaN    NaN       NaN  gipernn   \n",
       "2          NaN     NaN      NaN    NaN       NaN  gipernn   \n",
       "3          NaN     NaN      NaN    NaN       NaN  gipernn   \n",
       "4          NaN     NaN      NaN    NaN       NaN  gipernn   \n",
       "\n",
       "                    Сегмент        Подсегмент            Город Дата парсинга  \n",
       "0  Комерческая недвижимость  Аренда помещений  Нижний Новгород    2022-12-22  \n",
       "1  Комерческая недвижимость  Аренда помещений  Нижний Новгород    2022-12-22  \n",
       "2  Комерческая недвижимость  Аренда помещений  Нижний Новгород    2022-12-22  \n",
       "3  Комерческая недвижимость  Аренда помещений  Нижний Новгород    2022-12-22  \n",
       "4  Комерческая недвижимость  Аренда помещений  Нижний Новгород    2022-12-22  \n",
       "\n",
       "[5 rows x 30 columns]"
      ]
     },
     "execution_count": 6,
     "metadata": {},
     "output_type": "execute_result"
    }
   ],
   "source": [
    "df.head()"
   ]
  },
  {
   "attachments": {},
   "cell_type": "markdown",
   "metadata": {},
   "source": [
    "Экспортируем таблицу"
   ]
  },
  {
   "cell_type": "code",
   "execution_count": 7,
   "metadata": {},
   "outputs": [],
   "source": [
    "df.to_excel('indoor-rent.xlsx', index=False)"
   ]
  }
 ],
 "metadata": {
  "kernelspec": {
   "display_name": "Python 3",
   "language": "python",
   "name": "python3"
  },
  "language_info": {
   "codemirror_mode": {
    "name": "ipython",
    "version": 3
   },
   "file_extension": ".py",
   "mimetype": "text/x-python",
   "name": "python",
   "nbconvert_exporter": "python",
   "pygments_lexer": "ipython3",
   "version": "3.11.1 (tags/v3.11.1:a7a450f, Dec  6 2022, 19:58:39) [MSC v.1934 64 bit (AMD64)]"
  },
  "orig_nbformat": 4,
  "vscode": {
   "interpreter": {
    "hash": "5238573367df39f7286bb46f9ff5f08f63a01a80960060ce41e3c79b190280fa"
   }
  }
 },
 "nbformat": 4,
 "nbformat_minor": 2
}
