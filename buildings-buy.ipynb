{
 "cells": [
  {
   "cell_type": "code",
   "execution_count": 1,
   "metadata": {},
   "outputs": [],
   "source": [
    "import requests\n",
    "import time\n",
    "import re\n",
    "import openpyxl\n",
    "import pandas as pd\n",
    "import numpy as np\n",
    "from tqdm import tqdm\n",
    "from bs4 import BeautifulSoup\n",
    "from datetime import date"
   ]
  },
  {
   "cell_type": "code",
   "execution_count": 2,
   "metadata": {},
   "outputs": [],
   "source": [
    "GLOBAL = 'https://www.gipernn.ru'\n",
    "LINK = 'https://www.gipernn.ru/prodazha-zdaniy?per-page=50'"
   ]
  },
  {
   "cell_type": "markdown",
   "metadata": {},
   "source": [
    "Добыча колличества ссылок"
   ]
  },
  {
   "cell_type": "code",
   "execution_count": 3,
   "metadata": {},
   "outputs": [
    {
     "name": "stdout",
     "output_type": "stream",
     "text": [
      "75\n"
     ]
    }
   ],
   "source": [
    "html = requests.get(LINK)\n",
    "soup = BeautifulSoup(html.text, 'html.parser')\n",
    "count = soup.find('div', class_='count')\n",
    "\n",
    "count = int(count.text.split(':')[1].strip())\n",
    "page_count = int(np.ceil(count / 50))\n",
    "\n",
    "print(count)"
   ]
  },
  {
   "cell_type": "markdown",
   "metadata": {},
   "source": [
    "Составляем массив ссылок"
   ]
  },
  {
   "cell_type": "code",
   "execution_count": 4,
   "metadata": {},
   "outputs": [
    {
     "name": "stderr",
     "output_type": "stream",
     "text": [
      "100%|##########| 3/3 [00:01<00:00,  2.85it/s]"
     ]
    },
    {
     "name": "stdout",
     "output_type": "stream",
     "text": [
      "75\n"
     ]
    },
    {
     "name": "stderr",
     "output_type": "stream",
     "text": [
      "\n"
     ]
    }
   ],
   "source": [
    "links = []\n",
    "for page in tqdm(range(page_count + 1), ascii=True):\n",
    "    html = requests.get(f\"{LINK}&page={page}\")\n",
    "    soup = BeautifulSoup(html.text, 'html.parser')\n",
    "    trs = soup.find('tbody').find_all('tr')\n",
    "    for tr in trs:\n",
    "        link = tr.find('a')\n",
    "        if link:\n",
    "            link = link.get('href')\n",
    "            link = GLOBAL + link\n",
    "            links.append(link)\n",
    "    links = list(set(links))\n",
    "print(len(links))   \n"
   ]
  },
  {
   "cell_type": "markdown",
   "metadata": {},
   "source": [
    "Составление своей базы данных"
   ]
  },
  {
   "cell_type": "code",
   "execution_count": 5,
   "metadata": {},
   "outputs": [
    {
     "name": "stderr",
     "output_type": "stream",
     "text": [
      "100%|##########| 75/75 [00:18<00:00,  4.00it/s]\n"
     ]
    }
   ],
   "source": [
    "df = pd.DataFrame()\n",
    "for link in tqdm(links, ascii=True):\n",
    "    html = requests.get(link)\n",
    "    soup = BeautifulSoup(html.text, 'html.parser')\n",
    "\n",
    "    tmp = {} # словарь для временных данных\n",
    "    tmp['Ссылка'] = link\n",
    "\n",
    "    header = soup.find('h1')\n",
    "    if header:\n",
    "        header = header.text.strip().replace('\\xa0', ' ')\n",
    "    tmp['Заголовок'] = header\n",
    "\n",
    "    price = soup.find('div', class_ = 'price')\n",
    "    if price:\n",
    "        price = price.text.replace('\\xa0', ' ').strip().split('  ')\n",
    "    tmp['Цена'] = price\n",
    "\n",
    "    description = soup.find('div', class_='formatted-text')\n",
    "    if description:\n",
    "        description = description.text.strip().replace('\\xa0', ' ')\n",
    "    tmp['Описание'] = description\n",
    "    \n",
    "    try:\n",
    "        w0 = soup.find('table', id = 'w0')\n",
    "        if w0:\n",
    "            w0 = w0.find_all('tr')\n",
    "            for tr in w0:\n",
    "                key = tr.find('th').text.strip()\n",
    "                val = tr.find('td').text.strip()\n",
    "                tmp[key] = val\n",
    "    except:\n",
    "        print('w0 not found')\n",
    " \n",
    "    try:\n",
    "        w2 = soup.find('table', id = 'w2')\n",
    "        if w2:\n",
    "            w2 = w2.find_all('tr')\n",
    "            for tr in w2:\n",
    "                key = tr.find('th').text.strip()\n",
    "                val = tr.find('td').text.strip()\n",
    "                if key not in tmp.keys(): # записи в 2х таблицах могут \n",
    "                    tmp[key] = val # пересекаться, а зачем нам копии?\n",
    "    except:\n",
    "        print('w2 not found')\n",
    "\n",
    "    try:\n",
    "        properties = soup.find('div', class_ = 'properties m-t-2')\n",
    "        if properties:\n",
    "            properties = properties.find_all('div', class_ = 'property')\n",
    "            for property in properties:\n",
    "                key = property.find('div', class_ = 'property-name').text.strip()\n",
    "                val = property.find('div', class_ = 'property-value').text.strip()\n",
    "                if key not in tmp.keys(): # записи в 2х таблицах могут \n",
    "                    tmp[key] = val # пересекаться, а зачем нам копии?\n",
    "    except:\n",
    "        print('properties m-t-2 not found')\n",
    "    \n",
    "    try:\n",
    "        buildings = soup.find('div', 'around').find_all('div', 'group')\n",
    "        for building in buildings:\n",
    "            name = building.find('div','group-body').find('span').text\n",
    "            dist = building.find('div','group-body').find('div', 'company').find('span', 'company__distance').text\n",
    "            tmp[name] = dist   \n",
    "    except:\n",
    "        pass\n",
    "\n",
    "    df = pd.concat([df, pd.DataFrame(tmp)], ignore_index=True)\n",
    "\n",
    "df['Источник'] = 'gipernn'\n",
    "df['Сегмент'] = 'Комерческая недвижимость'\n",
    "df['Подсегмент'] = 'Покупка зданий'\n",
    "df['Город'] = 'Нижний Новгород'\n",
    "df['Дата парсинга'] = str(date.today())"
   ]
  },
  {
   "attachments": {},
   "cell_type": "markdown",
   "metadata": {},
   "source": [
    "Посмотрим на результаты вкрадце"
   ]
  },
  {
   "cell_type": "code",
   "execution_count": 6,
   "metadata": {},
   "outputs": [
    {
     "data": {
      "text/html": [
       "<div>\n",
       "<style scoped>\n",
       "    .dataframe tbody tr th:only-of-type {\n",
       "        vertical-align: middle;\n",
       "    }\n",
       "\n",
       "    .dataframe tbody tr th {\n",
       "        vertical-align: top;\n",
       "    }\n",
       "\n",
       "    .dataframe thead th {\n",
       "        text-align: right;\n",
       "    }\n",
       "</style>\n",
       "<table border=\"1\" class=\"dataframe\">\n",
       "  <thead>\n",
       "    <tr style=\"text-align: right;\">\n",
       "      <th></th>\n",
       "      <th>Ссылка</th>\n",
       "      <th>Заголовок</th>\n",
       "      <th>Цена</th>\n",
       "      <th>Описание</th>\n",
       "      <th>№</th>\n",
       "      <th>Район</th>\n",
       "      <th>Адрес</th>\n",
       "      <th>Площадь</th>\n",
       "      <th>Этажность</th>\n",
       "      <th>Материал стен</th>\n",
       "      <th>Объект</th>\n",
       "      <th>Назначение</th>\n",
       "      <th>Торг уместен</th>\n",
       "      <th>Источник</th>\n",
       "      <th>Сегмент</th>\n",
       "      <th>Подсегмент</th>\n",
       "      <th>Город</th>\n",
       "      <th>Дата парсинга</th>\n",
       "    </tr>\n",
       "  </thead>\n",
       "  <tbody>\n",
       "    <tr>\n",
       "      <th>0</th>\n",
       "      <td>https://www.gipernn.ru/prodazha-zdaniy/prosp-g...</td>\n",
       "      <td>Продажа здания на просп. Гагарина, д. 168Приок...</td>\n",
       "      <td>160 000 000 руб.</td>\n",
       "      <td>Продается отдельностоящее здание общей площадь...</td>\n",
       "      <td>2707348</td>\n",
       "      <td>Приокский</td>\n",
       "      <td>просп. Гагарина, д. 168</td>\n",
       "      <td>6 300 м²</td>\n",
       "      <td>5</td>\n",
       "      <td>Уточнить</td>\n",
       "      <td>отдельно стоящее здание</td>\n",
       "      <td>офисное</td>\n",
       "      <td>NaN</td>\n",
       "      <td>gipernn</td>\n",
       "      <td>Комерческая недвижимость</td>\n",
       "      <td>Покупка зданий</td>\n",
       "      <td>Нижний Новгород</td>\n",
       "      <td>2022-12-22</td>\n",
       "    </tr>\n",
       "    <tr>\n",
       "      <th>1</th>\n",
       "      <td>https://www.gipernn.ru/prodazha-zdaniy/ul-delo...</td>\n",
       "      <td>Продажа здания на ул. Деловая, д. 15Нижегородс...</td>\n",
       "      <td>30 600 000 руб.</td>\n",
       "      <td>Продается здание бизнес-центра 2-х этажное, пл...</td>\n",
       "      <td>2838726</td>\n",
       "      <td>Нижегородский</td>\n",
       "      <td>ул. Деловая, д. 15</td>\n",
       "      <td>657 м²</td>\n",
       "      <td>2</td>\n",
       "      <td>Уточнить</td>\n",
       "      <td>бизнес-центр</td>\n",
       "      <td>офисное</td>\n",
       "      <td>NaN</td>\n",
       "      <td>gipernn</td>\n",
       "      <td>Комерческая недвижимость</td>\n",
       "      <td>Покупка зданий</td>\n",
       "      <td>Нижний Новгород</td>\n",
       "      <td>2022-12-22</td>\n",
       "    </tr>\n",
       "    <tr>\n",
       "      <th>2</th>\n",
       "      <td>https://www.gipernn.ru/prodazha-zdaniy/bolshay...</td>\n",
       "      <td>Продажа здания на Большая Починковcкая улицаСо...</td>\n",
       "      <td>21 000 000 руб.</td>\n",
       "      <td>Действующее кафе Регина\", заведение работает и...</td>\n",
       "      <td>2835986</td>\n",
       "      <td>Сормовский</td>\n",
       "      <td>Большая Починковcкая улица</td>\n",
       "      <td>655 м²</td>\n",
       "      <td>2</td>\n",
       "      <td>Уточнить</td>\n",
       "      <td>отдельно стоящее здание</td>\n",
       "      <td>общепит</td>\n",
       "      <td>NaN</td>\n",
       "      <td>gipernn</td>\n",
       "      <td>Комерческая недвижимость</td>\n",
       "      <td>Покупка зданий</td>\n",
       "      <td>Нижний Новгород</td>\n",
       "      <td>2022-12-22</td>\n",
       "    </tr>\n",
       "    <tr>\n",
       "      <th>3</th>\n",
       "      <td>https://www.gipernn.ru/prodazha-zdaniy/ul-mech...</td>\n",
       "      <td>Продажа здания на ул. Мечникова, д. 65аМосковс...</td>\n",
       "      <td>20 000 000 руб.</td>\n",
       "      <td>Продажа отдельно стоящего двухэтажного здания ...</td>\n",
       "      <td>2845579</td>\n",
       "      <td>Московский</td>\n",
       "      <td>ул. Мечникова, д. 65а</td>\n",
       "      <td>680 м²</td>\n",
       "      <td>1</td>\n",
       "      <td>кирпич</td>\n",
       "      <td>отдельно стоящее здание</td>\n",
       "      <td>общепит, производственное</td>\n",
       "      <td>NaN</td>\n",
       "      <td>gipernn</td>\n",
       "      <td>Комерческая недвижимость</td>\n",
       "      <td>Покупка зданий</td>\n",
       "      <td>Нижний Новгород</td>\n",
       "      <td>2022-12-22</td>\n",
       "    </tr>\n",
       "    <tr>\n",
       "      <th>4</th>\n",
       "      <td>https://www.gipernn.ru/prodazha-zdaniy/ul-svet...</td>\n",
       "      <td>Продажа здания на ул. СветлоярскаяСормовский р...</td>\n",
       "      <td>29 000 000 руб.</td>\n",
       "      <td>Продажа одноэтажного здания в Сормовском район...</td>\n",
       "      <td>2843418</td>\n",
       "      <td>Сормовский</td>\n",
       "      <td>ул. Светлоярская</td>\n",
       "      <td>304 м²</td>\n",
       "      <td>1</td>\n",
       "      <td>комбинированный</td>\n",
       "      <td>отдельно стоящее здание</td>\n",
       "      <td>торговое, автобизнес</td>\n",
       "      <td>NaN</td>\n",
       "      <td>gipernn</td>\n",
       "      <td>Комерческая недвижимость</td>\n",
       "      <td>Покупка зданий</td>\n",
       "      <td>Нижний Новгород</td>\n",
       "      <td>2022-12-22</td>\n",
       "    </tr>\n",
       "  </tbody>\n",
       "</table>\n",
       "</div>"
      ],
      "text/plain": [
       "                                              Ссылка  \\\n",
       "0  https://www.gipernn.ru/prodazha-zdaniy/prosp-g...   \n",
       "1  https://www.gipernn.ru/prodazha-zdaniy/ul-delo...   \n",
       "2  https://www.gipernn.ru/prodazha-zdaniy/bolshay...   \n",
       "3  https://www.gipernn.ru/prodazha-zdaniy/ul-mech...   \n",
       "4  https://www.gipernn.ru/prodazha-zdaniy/ul-svet...   \n",
       "\n",
       "                                           Заголовок              Цена  \\\n",
       "0  Продажа здания на просп. Гагарина, д. 168Приок...  160 000 000 руб.   \n",
       "1  Продажа здания на ул. Деловая, д. 15Нижегородс...   30 600 000 руб.   \n",
       "2  Продажа здания на Большая Починковcкая улицаСо...   21 000 000 руб.   \n",
       "3  Продажа здания на ул. Мечникова, д. 65аМосковс...   20 000 000 руб.   \n",
       "4  Продажа здания на ул. СветлоярскаяСормовский р...   29 000 000 руб.   \n",
       "\n",
       "                                            Описание        №          Район  \\\n",
       "0  Продается отдельностоящее здание общей площадь...  2707348      Приокский   \n",
       "1  Продается здание бизнес-центра 2-х этажное, пл...  2838726  Нижегородский   \n",
       "2  Действующее кафе Регина\", заведение работает и...  2835986     Сормовский   \n",
       "3  Продажа отдельно стоящего двухэтажного здания ...  2845579     Московский   \n",
       "4  Продажа одноэтажного здания в Сормовском район...  2843418     Сормовский   \n",
       "\n",
       "                        Адрес   Площадь Этажность    Материал стен  \\\n",
       "0     просп. Гагарина, д. 168  6 300 м²         5         Уточнить   \n",
       "1          ул. Деловая, д. 15    657 м²         2         Уточнить   \n",
       "2  Большая Починковcкая улица    655 м²         2         Уточнить   \n",
       "3       ул. Мечникова, д. 65а    680 м²         1           кирпич   \n",
       "4            ул. Светлоярская    304 м²         1  комбинированный   \n",
       "\n",
       "                    Объект                 Назначение Торг уместен Источник  \\\n",
       "0  отдельно стоящее здание                    офисное          NaN  gipernn   \n",
       "1             бизнес-центр                    офисное          NaN  gipernn   \n",
       "2  отдельно стоящее здание                    общепит          NaN  gipernn   \n",
       "3  отдельно стоящее здание  общепит, производственное          NaN  gipernn   \n",
       "4  отдельно стоящее здание       торговое, автобизнес          NaN  gipernn   \n",
       "\n",
       "                    Сегмент      Подсегмент            Город Дата парсинга  \n",
       "0  Комерческая недвижимость  Покупка зданий  Нижний Новгород    2022-12-22  \n",
       "1  Комерческая недвижимость  Покупка зданий  Нижний Новгород    2022-12-22  \n",
       "2  Комерческая недвижимость  Покупка зданий  Нижний Новгород    2022-12-22  \n",
       "3  Комерческая недвижимость  Покупка зданий  Нижний Новгород    2022-12-22  \n",
       "4  Комерческая недвижимость  Покупка зданий  Нижний Новгород    2022-12-22  "
      ]
     },
     "execution_count": 6,
     "metadata": {},
     "output_type": "execute_result"
    }
   ],
   "source": [
    "df.head()"
   ]
  },
  {
   "attachments": {},
   "cell_type": "markdown",
   "metadata": {},
   "source": [
    "Экспортируем таблицу"
   ]
  },
  {
   "cell_type": "code",
   "execution_count": 7,
   "metadata": {},
   "outputs": [],
   "source": [
    "df.to_excel('buildings-buy.xlsx', index=False)"
   ]
  }
 ],
 "metadata": {
  "kernelspec": {
   "display_name": "Python 3",
   "language": "python",
   "name": "python3"
  },
  "language_info": {
   "codemirror_mode": {
    "name": "ipython",
    "version": 3
   },
   "file_extension": ".py",
   "mimetype": "text/x-python",
   "name": "python",
   "nbconvert_exporter": "python",
   "pygments_lexer": "ipython3",
   "version": "3.11.1 (tags/v3.11.1:a7a450f, Dec  6 2022, 19:58:39) [MSC v.1934 64 bit (AMD64)]"
  },
  "orig_nbformat": 4,
  "vscode": {
   "interpreter": {
    "hash": "5238573367df39f7286bb46f9ff5f08f63a01a80960060ce41e3c79b190280fa"
   }
  }
 },
 "nbformat": 4,
 "nbformat_minor": 2
}
