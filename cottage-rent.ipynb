{
 "cells": [
  {
   "cell_type": "code",
   "execution_count": 1,
   "metadata": {},
   "outputs": [],
   "source": [
    "import requests\n",
    "import time\n",
    "import re\n",
    "import pandas as pd\n",
    "import numpy as np\n",
    "from tqdm import tqdm\n",
    "from bs4 import BeautifulSoup\n",
    "from datetime import date"
   ]
  },
  {
   "cell_type": "code",
   "execution_count": 2,
   "metadata": {},
   "outputs": [],
   "source": [
    "GLOBAL = 'https://www.gipernn.ru'\n",
    "LINK = 'https://www.gipernn.ru/arenda-domov/nizhegorodskaya-oblast'"
   ]
  },
  {
   "cell_type": "markdown",
   "metadata": {},
   "source": [
    "Добыча колличества ссылок"
   ]
  },
  {
   "cell_type": "code",
   "execution_count": 3,
   "metadata": {},
   "outputs": [
    {
     "name": "stdout",
     "output_type": "stream",
     "text": [
      "40\n",
      "2\n"
     ]
    }
   ],
   "source": [
    "html = requests.get(LINK)\n",
    "soup = BeautifulSoup(html.text, 'html.parser')\n",
    "count = soup.find('div', class_='count')\n",
    "\n",
    "count = int(count.text.split(':')[1].strip())\n",
    "page_count = int(np.ceil(count / 30))\n",
    "\n",
    "print(count)\n",
    "print(page_count)"
   ]
  },
  {
   "cell_type": "markdown",
   "metadata": {},
   "source": [
    "Составляем массив ссылок"
   ]
  },
  {
   "cell_type": "code",
   "execution_count": 4,
   "metadata": {},
   "outputs": [
    {
     "name": "stderr",
     "output_type": "stream",
     "text": [
      "100%|##########| 3/3 [00:00<00:00,  3.31it/s]"
     ]
    },
    {
     "name": "stdout",
     "output_type": "stream",
     "text": [
      "40\n"
     ]
    },
    {
     "name": "stderr",
     "output_type": "stream",
     "text": [
      "\n"
     ]
    }
   ],
   "source": [
    "links = []\n",
    "for page in tqdm(range(page_count + 1), ascii=True):\n",
    "    html = requests.get(f\"{LINK}?page={page}\")\n",
    "    soup = BeautifulSoup(html.text, 'html.parser')\n",
    "    trs = soup.find('tbody').find_all('tr')\n",
    "    for tr in trs:\n",
    "        link = tr.find('a')\n",
    "        if link:\n",
    "            link = link.get('href')\n",
    "            link = GLOBAL + link\n",
    "            links.append(link)\n",
    "    links = list(set(links))\n",
    "print(len(links))   \n"
   ]
  },
  {
   "cell_type": "markdown",
   "metadata": {},
   "source": [
    "Составление своей базы данных"
   ]
  },
  {
   "cell_type": "code",
   "execution_count": 5,
   "metadata": {},
   "outputs": [
    {
     "name": "stderr",
     "output_type": "stream",
     "text": [
      "100%|##########| 40/40 [00:09<00:00,  4.12it/s]\n"
     ]
    }
   ],
   "source": [
    "df = pd.DataFrame()\n",
    "for link in tqdm(links, ascii=True):\n",
    "    html = requests.get(link)\n",
    "    soup = BeautifulSoup(html.text, 'html.parser')\n",
    "\n",
    "    tmp = {} # словарь для временных данных\n",
    "    tmp['Ссылка'] = link\n",
    "\n",
    "    header = soup.find('h1')\n",
    "    if header:\n",
    "        header = header.text.strip().replace('\\xa0', ' ')\n",
    "    tmp['Заголовок'] = header\n",
    "\n",
    "    price = soup.find('div', class_ = 'price')\n",
    "    if price:\n",
    "        price = price.text.replace('\\xa0', ' ').strip().split('  ')\n",
    "    tmp['Цена'] = price\n",
    "\n",
    "    description = soup.find('div', class_='formatted-text')\n",
    "    if description:\n",
    "        description = description.text.strip().replace('\\xa0', ' ')\n",
    "    tmp['Описание'] = description\n",
    "    \n",
    "    try:\n",
    "        w0 = soup.find('table', id = 'w0')\n",
    "        if w0:\n",
    "            w0 = w0.find_all('tr')\n",
    "            for tr in w0:\n",
    "                key = tr.find('th').text.strip()\n",
    "                val = tr.find('td').text.strip()\n",
    "                tmp[key] = val\n",
    "    except:\n",
    "        print('w0 not found')\n",
    " \n",
    "    try:\n",
    "        w2 = soup.find('table', id = 'w2')\n",
    "        if w2:\n",
    "            w2 = w2.find_all('tr')\n",
    "            for tr in w2:\n",
    "                key = tr.find('th').text.strip()\n",
    "                val = tr.find('a').text.strip()\n",
    "                if key not in tmp.keys(): # записи в 2х таблицах могут \n",
    "                    tmp[key] = val # пересекаться, а зачем нам копии?\n",
    "    except:\n",
    "        print('w2 not found')\n",
    "\n",
    "    try:\n",
    "        properties = soup.find('div', class_ = 'properties m-t-2')\n",
    "        if properties:\n",
    "            properties = properties.find_all('div', class_ = 'property')\n",
    "            for property in properties:\n",
    "                key = property.find('div', class_ = 'property-name').text.strip()\n",
    "                val = property.find('div', class_ = 'property-value').text.strip()\n",
    "                if key not in tmp.keys(): # записи в 2х таблицах могут \n",
    "                    tmp[key] = val # пересекаться, а зачем нам копии?\n",
    "    except:\n",
    "        print('properties m-t-2 not found')\n",
    "    \n",
    "    try:\n",
    "        buildings = soup.find('div', 'around').find_all('div', 'group')\n",
    "        for building in buildings:\n",
    "            name = building.find('div','group-body').find('span').text\n",
    "            dist = building.find('div','group-body').find('div', 'company').find('span', 'company__distance').text\n",
    "            tmp[name] = dist   \n",
    "    except:\n",
    "        pass\n",
    "\n",
    "    df = pd.concat([df, pd.DataFrame(tmp)], ignore_index=True)\n",
    "\n",
    "df['Источник'] = 'gipernn'\n",
    "df['Сегмент'] = 'Жилая недвижимость'\n",
    "df['Подсегмент'] = 'Аренда домов/квартир/таунхаусов'\n",
    "df['Город'] = 'Нижний Новгород'\n",
    "df['Дата парсинга'] = str(date.today())"
   ]
  },
  {
   "attachments": {},
   "cell_type": "markdown",
   "metadata": {},
   "source": [
    "Посмотрим на результаты вкрадце"
   ]
  },
  {
   "cell_type": "code",
   "execution_count": 6,
   "metadata": {},
   "outputs": [
    {
     "data": {
      "text/html": [
       "<div>\n",
       "<style scoped>\n",
       "    .dataframe tbody tr th:only-of-type {\n",
       "        vertical-align: middle;\n",
       "    }\n",
       "\n",
       "    .dataframe tbody tr th {\n",
       "        vertical-align: top;\n",
       "    }\n",
       "\n",
       "    .dataframe thead th {\n",
       "        text-align: right;\n",
       "    }\n",
       "</style>\n",
       "<table border=\"1\" class=\"dataframe\">\n",
       "  <thead>\n",
       "    <tr style=\"text-align: right;\">\n",
       "      <th></th>\n",
       "      <th>Ссылка</th>\n",
       "      <th>Заголовок</th>\n",
       "      <th>Цена</th>\n",
       "      <th>Описание</th>\n",
       "      <th>№</th>\n",
       "      <th>Район</th>\n",
       "      <th>Адрес</th>\n",
       "      <th>Объект</th>\n",
       "      <th>Площадь</th>\n",
       "      <th>Площадь участка</th>\n",
       "      <th>...</th>\n",
       "      <th>Гараж</th>\n",
       "      <th>Туалет</th>\n",
       "      <th>Торг уместен</th>\n",
       "      <th>Бассейн</th>\n",
       "      <th>Телефон</th>\n",
       "      <th>Источник</th>\n",
       "      <th>Сегмент</th>\n",
       "      <th>Подсегмент</th>\n",
       "      <th>Город</th>\n",
       "      <th>Дата парсинга</th>\n",
       "    </tr>\n",
       "  </thead>\n",
       "  <tbody>\n",
       "    <tr>\n",
       "      <th>0</th>\n",
       "      <td>https://www.gipernn.ru/arenda-domov/dom-poselo...</td>\n",
       "      <td>Аренда дома на посёлок Дубёнки, ул. ГорнаяПрио...</td>\n",
       "      <td>14 000 руб./мес.</td>\n",
       "      <td>Сдаю дом в Приокском районе, на длительный сро...</td>\n",
       "      <td>2411828</td>\n",
       "      <td>Приокский</td>\n",
       "      <td>посёлок Дубёнки, ул. Горная</td>\n",
       "      <td>дом</td>\n",
       "      <td>62 / 32 / 13</td>\n",
       "      <td>5 соток</td>\n",
       "      <td>...</td>\n",
       "      <td>есть</td>\n",
       "      <td>в доме</td>\n",
       "      <td>NaN</td>\n",
       "      <td>NaN</td>\n",
       "      <td>NaN</td>\n",
       "      <td>gipernn</td>\n",
       "      <td>Жилая недвижимость</td>\n",
       "      <td>Аренда домов/квартир/таунхаусов</td>\n",
       "      <td>Нижний Новгород</td>\n",
       "      <td>2022-12-21</td>\n",
       "    </tr>\n",
       "    <tr>\n",
       "      <th>1</th>\n",
       "      <td>https://www.gipernn.ru/arenda-domov/dom-ul-zel...</td>\n",
       "      <td>Аренда дома на ул. ЗеленодольскаяКанавинский р...</td>\n",
       "      <td>13 000 руб./мес.</td>\n",
       "      <td>Сдаю частный дом в Канавинском районе. Дом нах...</td>\n",
       "      <td>2766431</td>\n",
       "      <td>Канавинский</td>\n",
       "      <td>ул. Зеленодольская</td>\n",
       "      <td>дом</td>\n",
       "      <td>65 / 45 / 10</td>\n",
       "      <td>5 соток</td>\n",
       "      <td>...</td>\n",
       "      <td>NaN</td>\n",
       "      <td>в доме</td>\n",
       "      <td>NaN</td>\n",
       "      <td>NaN</td>\n",
       "      <td>NaN</td>\n",
       "      <td>gipernn</td>\n",
       "      <td>Жилая недвижимость</td>\n",
       "      <td>Аренда домов/квартир/таунхаусов</td>\n",
       "      <td>Нижний Новгород</td>\n",
       "      <td>2022-12-21</td>\n",
       "    </tr>\n",
       "    <tr>\n",
       "      <th>2</th>\n",
       "      <td>https://www.gipernn.ru/arenda-domov/taunhaus-g...</td>\n",
       "      <td>Аренда таунхауса (город Богородск, улица Турко...</td>\n",
       "      <td>35 000 руб./мес.</td>\n",
       "      <td>Сдам дом, можно с последующим выкупом. Новый д...</td>\n",
       "      <td>2844418</td>\n",
       "      <td>Богородский муниципальный</td>\n",
       "      <td>город Богородск, улица Туркова</td>\n",
       "      <td>таунхаус</td>\n",
       "      <td>300 / 100 / 30</td>\n",
       "      <td>10 соток</td>\n",
       "      <td>...</td>\n",
       "      <td>есть</td>\n",
       "      <td>в доме</td>\n",
       "      <td>NaN</td>\n",
       "      <td>NaN</td>\n",
       "      <td>NaN</td>\n",
       "      <td>gipernn</td>\n",
       "      <td>Жилая недвижимость</td>\n",
       "      <td>Аренда домов/квартир/таунхаусов</td>\n",
       "      <td>Нижний Новгород</td>\n",
       "      <td>2022-12-21</td>\n",
       "    </tr>\n",
       "    <tr>\n",
       "      <th>3</th>\n",
       "      <td>https://www.gipernn.ru/arenda-domov/dom-gorod-...</td>\n",
       "      <td>Аренда дома (город Арзамас, Светлая улица)горо...</td>\n",
       "      <td>25 000 руб./мес.</td>\n",
       "      <td>Сдаётся дом порядочным платёжеспособным   арен...</td>\n",
       "      <td>2837287</td>\n",
       "      <td>городской округ Арзамас</td>\n",
       "      <td>город Арзамас, Светлая улица</td>\n",
       "      <td>дом</td>\n",
       "      <td>200 / 150 / 15</td>\n",
       "      <td>8 соток</td>\n",
       "      <td>...</td>\n",
       "      <td>NaN</td>\n",
       "      <td>NaN</td>\n",
       "      <td>NaN</td>\n",
       "      <td>NaN</td>\n",
       "      <td>NaN</td>\n",
       "      <td>gipernn</td>\n",
       "      <td>Жилая недвижимость</td>\n",
       "      <td>Аренда домов/квартир/таунхаусов</td>\n",
       "      <td>Нижний Новгород</td>\n",
       "      <td>2022-12-21</td>\n",
       "    </tr>\n",
       "    <tr>\n",
       "      <th>4</th>\n",
       "      <td>https://www.gipernn.ru/arenda-domov/dom-derevn...</td>\n",
       "      <td>Аренда дома (деревня Надеждино)Воротынский гор...</td>\n",
       "      <td>14 000 руб./мес.</td>\n",
       "      <td>Сдам дом 70 кв.м. в д.Надеждино, Воротынский р...</td>\n",
       "      <td>2779432</td>\n",
       "      <td>Воротынский городской округ</td>\n",
       "      <td>деревня Надеждино</td>\n",
       "      <td>дом</td>\n",
       "      <td>70 / 40 / 15</td>\n",
       "      <td>40 соток</td>\n",
       "      <td>...</td>\n",
       "      <td>NaN</td>\n",
       "      <td>в доме</td>\n",
       "      <td>NaN</td>\n",
       "      <td>NaN</td>\n",
       "      <td>NaN</td>\n",
       "      <td>gipernn</td>\n",
       "      <td>Жилая недвижимость</td>\n",
       "      <td>Аренда домов/квартир/таунхаусов</td>\n",
       "      <td>Нижний Новгород</td>\n",
       "      <td>2022-12-21</td>\n",
       "    </tr>\n",
       "  </tbody>\n",
       "</table>\n",
       "<p>5 rows × 29 columns</p>\n",
       "</div>"
      ],
      "text/plain": [
       "                                              Ссылка  \\\n",
       "0  https://www.gipernn.ru/arenda-domov/dom-poselo...   \n",
       "1  https://www.gipernn.ru/arenda-domov/dom-ul-zel...   \n",
       "2  https://www.gipernn.ru/arenda-domov/taunhaus-g...   \n",
       "3  https://www.gipernn.ru/arenda-domov/dom-gorod-...   \n",
       "4  https://www.gipernn.ru/arenda-domov/dom-derevn...   \n",
       "\n",
       "                                           Заголовок              Цена  \\\n",
       "0  Аренда дома на посёлок Дубёнки, ул. ГорнаяПрио...  14 000 руб./мес.   \n",
       "1  Аренда дома на ул. ЗеленодольскаяКанавинский р...  13 000 руб./мес.   \n",
       "2  Аренда таунхауса (город Богородск, улица Турко...  35 000 руб./мес.   \n",
       "3  Аренда дома (город Арзамас, Светлая улица)горо...  25 000 руб./мес.   \n",
       "4  Аренда дома (деревня Надеждино)Воротынский гор...  14 000 руб./мес.   \n",
       "\n",
       "                                            Описание        №  \\\n",
       "0  Сдаю дом в Приокском районе, на длительный сро...  2411828   \n",
       "1  Сдаю частный дом в Канавинском районе. Дом нах...  2766431   \n",
       "2  Сдам дом, можно с последующим выкупом. Новый д...  2844418   \n",
       "3  Сдаётся дом порядочным платёжеспособным   арен...  2837287   \n",
       "4  Сдам дом 70 кв.м. в д.Надеждино, Воротынский р...  2779432   \n",
       "\n",
       "                         Район                           Адрес    Объект  \\\n",
       "0                    Приокский     посёлок Дубёнки, ул. Горная       дом   \n",
       "1                  Канавинский              ул. Зеленодольская       дом   \n",
       "2    Богородский муниципальный  город Богородск, улица Туркова  таунхаус   \n",
       "3      городской округ Арзамас    город Арзамас, Светлая улица       дом   \n",
       "4  Воротынский городской округ               деревня Надеждино       дом   \n",
       "\n",
       "          Площадь Площадь участка  ... Гараж  Туалет Торг уместен Бассейн  \\\n",
       "0    62 / 32 / 13         5 соток  ...  есть  в доме          NaN     NaN   \n",
       "1    65 / 45 / 10         5 соток  ...   NaN  в доме          NaN     NaN   \n",
       "2  300 / 100 / 30        10 соток  ...  есть  в доме          NaN     NaN   \n",
       "3  200 / 150 / 15         8 соток  ...   NaN     NaN          NaN     NaN   \n",
       "4    70 / 40 / 15        40 соток  ...   NaN  в доме          NaN     NaN   \n",
       "\n",
       "  Телефон Источник             Сегмент                       Подсегмент  \\\n",
       "0     NaN  gipernn  Жилая недвижимость  Аренда домов/квартир/таунхаусов   \n",
       "1     NaN  gipernn  Жилая недвижимость  Аренда домов/квартир/таунхаусов   \n",
       "2     NaN  gipernn  Жилая недвижимость  Аренда домов/квартир/таунхаусов   \n",
       "3     NaN  gipernn  Жилая недвижимость  Аренда домов/квартир/таунхаусов   \n",
       "4     NaN  gipernn  Жилая недвижимость  Аренда домов/квартир/таунхаусов   \n",
       "\n",
       "             Город Дата парсинга  \n",
       "0  Нижний Новгород    2022-12-21  \n",
       "1  Нижний Новгород    2022-12-21  \n",
       "2  Нижний Новгород    2022-12-21  \n",
       "3  Нижний Новгород    2022-12-21  \n",
       "4  Нижний Новгород    2022-12-21  \n",
       "\n",
       "[5 rows x 29 columns]"
      ]
     },
     "execution_count": 6,
     "metadata": {},
     "output_type": "execute_result"
    }
   ],
   "source": [
    "df.head()"
   ]
  },
  {
   "attachments": {},
   "cell_type": "markdown",
   "metadata": {},
   "source": [
    "Экспортируем таблицу"
   ]
  },
  {
   "cell_type": "code",
   "execution_count": 7,
   "metadata": {},
   "outputs": [],
   "source": [
    "df.to_excel('cottage-rent.xlsx', index=False)"
   ]
  }
 ],
 "metadata": {
  "kernelspec": {
   "display_name": "Python 3",
   "language": "python",
   "name": "python3"
  },
  "language_info": {
   "codemirror_mode": {
    "name": "ipython",
    "version": 3
   },
   "file_extension": ".py",
   "mimetype": "text/x-python",
   "name": "python",
   "nbconvert_exporter": "python",
   "pygments_lexer": "ipython3",
   "version": "3.11.1"
  },
  "orig_nbformat": 4,
  "vscode": {
   "interpreter": {
    "hash": "5238573367df39f7286bb46f9ff5f08f63a01a80960060ce41e3c79b190280fa"
   }
  }
 },
 "nbformat": 4,
 "nbformat_minor": 2
}
