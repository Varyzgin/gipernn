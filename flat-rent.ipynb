{
 "cells": [
  {
   "cell_type": "code",
   "execution_count": 6,
   "metadata": {},
   "outputs": [],
   "source": [
    "import requests\n",
    "import time\n",
    "import re\n",
    "import pandas as pd\n",
    "import numpy as np\n",
    "from tqdm import tqdm\n",
    "from bs4 import BeautifulSoup\n",
    "from datetime import date"
   ]
  },
  {
   "cell_type": "code",
   "execution_count": 7,
   "metadata": {},
   "outputs": [],
   "source": [
    "GLOBAL = 'https://www.gipernn.ru'\n",
    "LINK = 'https://www.gipernn.ru/arenda-kvartir?per-page=50'"
   ]
  },
  {
   "cell_type": "markdown",
   "metadata": {},
   "source": [
    "Добыча колличества ссылок"
   ]
  },
  {
   "cell_type": "code",
   "execution_count": 8,
   "metadata": {},
   "outputs": [
    {
     "name": "stdout",
     "output_type": "stream",
     "text": [
      "1402\n"
     ]
    }
   ],
   "source": [
    "html = requests.get(LINK)\n",
    "soup = BeautifulSoup(html.text, 'html.parser')\n",
    "count = soup.find('div', class_='count')\n",
    "\n",
    "count = int(count.text.split(':')[1].strip())\n",
    "page_count = int(np.ceil(count / 50))\n",
    "\n",
    "print(count)"
   ]
  },
  {
   "cell_type": "markdown",
   "metadata": {},
   "source": [
    "Составляем массив ссылок"
   ]
  },
  {
   "cell_type": "code",
   "execution_count": 9,
   "metadata": {},
   "outputs": [
    {
     "name": "stderr",
     "output_type": "stream",
     "text": [
      "100%|##########| 30/30 [00:13<00:00,  2.21it/s]"
     ]
    },
    {
     "name": "stdout",
     "output_type": "stream",
     "text": [
      "1402\n"
     ]
    },
    {
     "name": "stderr",
     "output_type": "stream",
     "text": [
      "\n"
     ]
    }
   ],
   "source": [
    "links = []\n",
    "for page in tqdm(range(page_count + 1), ascii=True):\n",
    "    html = requests.get(f\"{LINK}&page={page}\")\n",
    "    soup = BeautifulSoup(html.text, 'html.parser')\n",
    "    trs = soup.find('tbody').find_all('tr')\n",
    "    for tr in trs:\n",
    "        link = tr.find('a')\n",
    "        if link:\n",
    "            link = link.get('href')\n",
    "            link = GLOBAL + link\n",
    "            links.append(link)\n",
    "    links = list(set(links))\n",
    "print(len(links))   \n"
   ]
  },
  {
   "cell_type": "markdown",
   "metadata": {},
   "source": [
    "Составление своей базы данных"
   ]
  },
  {
   "cell_type": "code",
   "execution_count": 10,
   "metadata": {},
   "outputs": [
    {
     "name": "stderr",
     "output_type": "stream",
     "text": [
      "100%|##########| 1402/1402 [09:02<00:00,  2.58it/s]\n"
     ]
    }
   ],
   "source": [
    "df = pd.DataFrame()\n",
    "for link in tqdm(links, ascii=True):\n",
    "    html = requests.get(link)\n",
    "    soup = BeautifulSoup(html.text, 'html.parser')\n",
    "\n",
    "    tmp = {} # словарь для временных данных\n",
    "    tmp['Ссылка'] = link\n",
    "\n",
    "    header = soup.find('h1')\n",
    "    if header:\n",
    "        header = header.text.strip().replace('\\xa0', ' ')\n",
    "    tmp['Заголовок'] = header\n",
    "\n",
    "    price = soup.find('div', class_ = 'price')\n",
    "    if price:\n",
    "        price = price.text.replace('\\xa0', ' ').strip().split('  ')\n",
    "    tmp['Цена'] = price\n",
    "\n",
    "    description = soup.find('div', class_='formatted-text')\n",
    "    if description:\n",
    "        description = description.text.strip().replace('\\xa0', ' ')\n",
    "    tmp['Описание'] = description\n",
    "    \n",
    "    try:\n",
    "        w0 = soup.find('table', id = 'w0')\n",
    "        if w0:\n",
    "            w0 = w0.find_all('tr')\n",
    "            for tr in w0:\n",
    "                key = tr.find('th').text.strip()\n",
    "                val = tr.find('td').text.strip()\n",
    "                tmp[key] = val\n",
    "    except:\n",
    "        print('w0 not found')\n",
    " \n",
    "    try:\n",
    "        w2 = soup.find('table', id = 'w2')\n",
    "        if w2:\n",
    "            w2 = w2.find_all('tr')\n",
    "            for tr in w2:\n",
    "                key = tr.find('th').text.strip()\n",
    "                val = tr.find('td').text.strip()\n",
    "                if key not in tmp.keys(): # записи в 2х таблицах могут \n",
    "                    tmp[key] = val # пересекаться, а зачем нам копии?\n",
    "    except:\n",
    "        print('w2 not found')\n",
    "        print(link)\n",
    "\n",
    "    try:\n",
    "        properties = soup.find('div', class_ = 'properties m-t-2')\n",
    "        if properties:\n",
    "            properties = properties.find_all('div', class_ = 'property')\n",
    "            for property in properties:\n",
    "                key = property.find('div', class_ = 'property-name').text.strip()\n",
    "                val = property.find('div', class_ = 'property-value').text.strip()\n",
    "                if key not in tmp.keys(): # записи в 2х таблицах могут \n",
    "                    tmp[key] = val # пересекаться, а зачем нам копии?\n",
    "    except:\n",
    "        print('properties m-t-2 not found')\n",
    "    \n",
    "    try:\n",
    "        buildings = soup.find('div', 'around').find_all('div', 'group')\n",
    "        for building in buildings:\n",
    "            name = building.find('div','group-body').find('span').text\n",
    "            dist = building.find('div','group-body').find('div', 'company').find('span', 'company__distance').text\n",
    "            tmp[name] = dist   \n",
    "    except:\n",
    "        pass\n",
    "\n",
    "    df = pd.concat([df, pd.DataFrame(tmp)], ignore_index=True)\n",
    "\n",
    "df['Источник'] = 'gipernn'\n",
    "df['Сегмент'] = 'Жилая недвижимость'\n",
    "df['Подсегмент'] = 'Аренда квартир'\n",
    "df['Город'] = 'Нижний Новгород'\n",
    "df['Дата парсинга'] = str(date.today())"
   ]
  },
  {
   "attachments": {},
   "cell_type": "markdown",
   "metadata": {},
   "source": [
    "Посмотрим на результаты вкрадце"
   ]
  },
  {
   "cell_type": "code",
   "execution_count": 11,
   "metadata": {},
   "outputs": [
    {
     "data": {
      "text/html": [
       "<div>\n",
       "<style scoped>\n",
       "    .dataframe tbody tr th:only-of-type {\n",
       "        vertical-align: middle;\n",
       "    }\n",
       "\n",
       "    .dataframe tbody tr th {\n",
       "        vertical-align: top;\n",
       "    }\n",
       "\n",
       "    .dataframe thead th {\n",
       "        text-align: right;\n",
       "    }\n",
       "</style>\n",
       "<table border=\"1\" class=\"dataframe\">\n",
       "  <thead>\n",
       "    <tr style=\"text-align: right;\">\n",
       "      <th></th>\n",
       "      <th>Ссылка</th>\n",
       "      <th>Заголовок</th>\n",
       "      <th>Цена</th>\n",
       "      <th>Описание</th>\n",
       "      <th>№</th>\n",
       "      <th>Район</th>\n",
       "      <th>Адрес</th>\n",
       "      <th>Комнат</th>\n",
       "      <th>Площадь</th>\n",
       "      <th>Этаж / этажность</th>\n",
       "      <th>...</th>\n",
       "      <th>Лоджия</th>\n",
       "      <th>Лифт</th>\n",
       "      <th>Мусоропровод</th>\n",
       "      <th>Наличие охраны</th>\n",
       "      <th>Торг уместен</th>\n",
       "      <th>Источник</th>\n",
       "      <th>Сегмент</th>\n",
       "      <th>Подсегмент</th>\n",
       "      <th>Город</th>\n",
       "      <th>Дата парсинга</th>\n",
       "    </tr>\n",
       "  </thead>\n",
       "  <tbody>\n",
       "    <tr>\n",
       "      <th>0</th>\n",
       "      <td>https://www.gipernn.ru/arenda-kvartir/kvartira...</td>\n",
       "      <td>Аренда квартиры-студии на ул. Родионова, д. 5Н...</td>\n",
       "      <td>14 000 руб./мес.</td>\n",
       "      <td>Bcя мeбeль и бытовaя техникa в нaличии и полнo...</td>\n",
       "      <td>2868971</td>\n",
       "      <td>Нижегородский</td>\n",
       "      <td>ул. Родионова, д. 5</td>\n",
       "      <td>студия</td>\n",
       "      <td>32 / 18 / 7</td>\n",
       "      <td>2 / 5</td>\n",
       "      <td>...</td>\n",
       "      <td>NaN</td>\n",
       "      <td>NaN</td>\n",
       "      <td>NaN</td>\n",
       "      <td>NaN</td>\n",
       "      <td>NaN</td>\n",
       "      <td>gipernn</td>\n",
       "      <td>Жилая недвижимость</td>\n",
       "      <td>Аренда квартир</td>\n",
       "      <td>Нижний Новгород</td>\n",
       "      <td>2022-12-21</td>\n",
       "    </tr>\n",
       "    <tr>\n",
       "      <th>1</th>\n",
       "      <td>https://www.gipernn.ru/arenda-kvartir/1-komnat...</td>\n",
       "      <td>Аренда 1-комнатной квартиры на ул. Сурикова, д...</td>\n",
       "      <td>12 000 руб./мес.</td>\n",
       "      <td>Сдам однокомнатную квартиру в Приокском районе...</td>\n",
       "      <td>2818045</td>\n",
       "      <td>Приокский</td>\n",
       "      <td>ул. Сурикова, д. 10</td>\n",
       "      <td>1 комната</td>\n",
       "      <td>32 / 18,2 / 8</td>\n",
       "      <td>2 / 5</td>\n",
       "      <td>...</td>\n",
       "      <td>NaN</td>\n",
       "      <td>NaN</td>\n",
       "      <td>NaN</td>\n",
       "      <td>NaN</td>\n",
       "      <td>NaN</td>\n",
       "      <td>gipernn</td>\n",
       "      <td>Жилая недвижимость</td>\n",
       "      <td>Аренда квартир</td>\n",
       "      <td>Нижний Новгород</td>\n",
       "      <td>2022-12-21</td>\n",
       "    </tr>\n",
       "    <tr>\n",
       "      <th>2</th>\n",
       "      <td>https://www.gipernn.ru/arenda-kvartir/1-komnat...</td>\n",
       "      <td>Аренда 1-комнатной квартиры на б-р Южный, д. 1...</td>\n",
       "      <td>13 000 руб./мес.</td>\n",
       "      <td>Квартира сдается с хорошим ремонтом. С мебелью...</td>\n",
       "      <td>2828964</td>\n",
       "      <td>Автозаводский</td>\n",
       "      <td>б-р Южный, д. 16</td>\n",
       "      <td>1 комната</td>\n",
       "      <td>37 / 15 / 13</td>\n",
       "      <td>7 / 17</td>\n",
       "      <td>...</td>\n",
       "      <td>есть</td>\n",
       "      <td>пассажирский, грузовой</td>\n",
       "      <td>есть</td>\n",
       "      <td>NaN</td>\n",
       "      <td>NaN</td>\n",
       "      <td>gipernn</td>\n",
       "      <td>Жилая недвижимость</td>\n",
       "      <td>Аренда квартир</td>\n",
       "      <td>Нижний Новгород</td>\n",
       "      <td>2022-12-21</td>\n",
       "    </tr>\n",
       "    <tr>\n",
       "      <th>3</th>\n",
       "      <td>https://www.gipernn.ru/arenda-kvartir/1-komnat...</td>\n",
       "      <td>Аренда 1-комнатной квартиры на ул. Окская, д. ...</td>\n",
       "      <td>15 000 руб./мес.</td>\n",
       "      <td>Сдам квартиру с отличным ремонтом, делали под ...</td>\n",
       "      <td>2843334</td>\n",
       "      <td>Ленинский</td>\n",
       "      <td>ул. Окская, д. 2</td>\n",
       "      <td>1 комната</td>\n",
       "      <td>40 / 17 / 9</td>\n",
       "      <td>11 / 23</td>\n",
       "      <td>...</td>\n",
       "      <td>NaN</td>\n",
       "      <td>пассажирский, грузовой</td>\n",
       "      <td>есть</td>\n",
       "      <td>есть</td>\n",
       "      <td>NaN</td>\n",
       "      <td>gipernn</td>\n",
       "      <td>Жилая недвижимость</td>\n",
       "      <td>Аренда квартир</td>\n",
       "      <td>Нижний Новгород</td>\n",
       "      <td>2022-12-21</td>\n",
       "    </tr>\n",
       "    <tr>\n",
       "      <th>4</th>\n",
       "      <td>https://www.gipernn.ru/arenda-kvartir/1-komnat...</td>\n",
       "      <td>Аренда 1-комнатной квартиры на ул. Победная, д...</td>\n",
       "      <td>13 000 руб./мес.</td>\n",
       "      <td>Сдам однокомнатную квартиру в Сормовском район...</td>\n",
       "      <td>2817808</td>\n",
       "      <td>Сормовский</td>\n",
       "      <td>ул. Победная, д. 6</td>\n",
       "      <td>1 комната</td>\n",
       "      <td>32 / 18 / 8</td>\n",
       "      <td>7 / 14</td>\n",
       "      <td>...</td>\n",
       "      <td>NaN</td>\n",
       "      <td>пассажирский</td>\n",
       "      <td>NaN</td>\n",
       "      <td>NaN</td>\n",
       "      <td>NaN</td>\n",
       "      <td>gipernn</td>\n",
       "      <td>Жилая недвижимость</td>\n",
       "      <td>Аренда квартир</td>\n",
       "      <td>Нижний Новгород</td>\n",
       "      <td>2022-12-21</td>\n",
       "    </tr>\n",
       "  </tbody>\n",
       "</table>\n",
       "<p>5 rows × 53 columns</p>\n",
       "</div>"
      ],
      "text/plain": [
       "                                              Ссылка  \\\n",
       "0  https://www.gipernn.ru/arenda-kvartir/kvartira...   \n",
       "1  https://www.gipernn.ru/arenda-kvartir/1-komnat...   \n",
       "2  https://www.gipernn.ru/arenda-kvartir/1-komnat...   \n",
       "3  https://www.gipernn.ru/arenda-kvartir/1-komnat...   \n",
       "4  https://www.gipernn.ru/arenda-kvartir/1-komnat...   \n",
       "\n",
       "                                           Заголовок              Цена  \\\n",
       "0  Аренда квартиры-студии на ул. Родионова, д. 5Н...  14 000 руб./мес.   \n",
       "1  Аренда 1-комнатной квартиры на ул. Сурикова, д...  12 000 руб./мес.   \n",
       "2  Аренда 1-комнатной квартиры на б-р Южный, д. 1...  13 000 руб./мес.   \n",
       "3  Аренда 1-комнатной квартиры на ул. Окская, д. ...  15 000 руб./мес.   \n",
       "4  Аренда 1-комнатной квартиры на ул. Победная, д...  13 000 руб./мес.   \n",
       "\n",
       "                                            Описание        №          Район  \\\n",
       "0  Bcя мeбeль и бытовaя техникa в нaличии и полнo...  2868971  Нижегородский   \n",
       "1  Сдам однокомнатную квартиру в Приокском районе...  2818045      Приокский   \n",
       "2  Квартира сдается с хорошим ремонтом. С мебелью...  2828964  Автозаводский   \n",
       "3  Сдам квартиру с отличным ремонтом, делали под ...  2843334      Ленинский   \n",
       "4  Сдам однокомнатную квартиру в Сормовском район...  2817808     Сормовский   \n",
       "\n",
       "                 Адрес     Комнат        Площадь Этаж / этажность  ... Лоджия  \\\n",
       "0  ул. Родионова, д. 5     студия    32 / 18 / 7            2 / 5  ...    NaN   \n",
       "1  ул. Сурикова, д. 10  1 комната  32 / 18,2 / 8            2 / 5  ...    NaN   \n",
       "2     б-р Южный, д. 16  1 комната   37 / 15 / 13           7 / 17  ...   есть   \n",
       "3     ул. Окская, д. 2  1 комната    40 / 17 / 9          11 / 23  ...    NaN   \n",
       "4   ул. Победная, д. 6  1 комната    32 / 18 / 8           7 / 14  ...    NaN   \n",
       "\n",
       "                     Лифт Мусоропровод Наличие охраны Торг уместен Источник  \\\n",
       "0                     NaN          NaN            NaN          NaN  gipernn   \n",
       "1                     NaN          NaN            NaN          NaN  gipernn   \n",
       "2  пассажирский, грузовой         есть            NaN          NaN  gipernn   \n",
       "3  пассажирский, грузовой         есть           есть          NaN  gipernn   \n",
       "4            пассажирский          NaN            NaN          NaN  gipernn   \n",
       "\n",
       "              Сегмент      Подсегмент            Город Дата парсинга  \n",
       "0  Жилая недвижимость  Аренда квартир  Нижний Новгород    2022-12-21  \n",
       "1  Жилая недвижимость  Аренда квартир  Нижний Новгород    2022-12-21  \n",
       "2  Жилая недвижимость  Аренда квартир  Нижний Новгород    2022-12-21  \n",
       "3  Жилая недвижимость  Аренда квартир  Нижний Новгород    2022-12-21  \n",
       "4  Жилая недвижимость  Аренда квартир  Нижний Новгород    2022-12-21  \n",
       "\n",
       "[5 rows x 53 columns]"
      ]
     },
     "execution_count": 11,
     "metadata": {},
     "output_type": "execute_result"
    }
   ],
   "source": [
    "df.head()"
   ]
  },
  {
   "attachments": {},
   "cell_type": "markdown",
   "metadata": {},
   "source": [
    "Экспортируем таблицу"
   ]
  },
  {
   "cell_type": "code",
   "execution_count": 12,
   "metadata": {},
   "outputs": [],
   "source": [
    "df.to_excel('flat-rent.xlsx', index=False)"
   ]
  }
 ],
 "metadata": {
  "kernelspec": {
   "display_name": "Python 3",
   "language": "python",
   "name": "python3"
  },
  "language_info": {
   "codemirror_mode": {
    "name": "ipython",
    "version": 3
   },
   "file_extension": ".py",
   "mimetype": "text/x-python",
   "name": "python",
   "nbconvert_exporter": "python",
   "pygments_lexer": "ipython3",
   "version": "3.11.1"
  },
  "orig_nbformat": 4,
  "vscode": {
   "interpreter": {
    "hash": "5238573367df39f7286bb46f9ff5f08f63a01a80960060ce41e3c79b190280fa"
   }
  }
 },
 "nbformat": 4,
 "nbformat_minor": 2
}
